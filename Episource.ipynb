{
 "cells": [
  {
   "cell_type": "markdown",
   "metadata": {},
   "source": [
    "# Episource Internship Task"
   ]
  },
  {
   "cell_type": "code",
   "execution_count": 1,
   "metadata": {},
   "outputs": [],
   "source": [
    "# Importing pandas library\n",
    "import pandas as pd"
   ]
  },
  {
   "cell_type": "code",
   "execution_count": 2,
   "metadata": {},
   "outputs": [],
   "source": [
    "# Reading loan_data.json to pandas dataframe as f2\n",
    "f2 = pd.read_json('loan_data.json')"
   ]
  },
  {
   "cell_type": "code",
   "execution_count": 3,
   "metadata": {},
   "outputs": [
    {
     "name": "stdout",
     "output_type": "stream",
     "text": [
      "    Application_ID  Gender Married Dependents     Education Self_Employed  \\\n",
      "0         LP001002    Male      No          0      Graduate            No   \n",
      "1         LP001003    Male     Yes          1      Graduate            No   \n",
      "2         LP001005    Male     Yes          0      Graduate           Yes   \n",
      "3         LP001006    Male     Yes          0  Not Graduate            No   \n",
      "4         LP001008    Male      No          0      Graduate            No   \n",
      "..             ...     ...     ...        ...           ...           ...   \n",
      "506       LP002978  Female      No          0      Graduate            No   \n",
      "507       LP002979    Male     Yes         3+      Graduate            No   \n",
      "508       LP002983    Male     Yes          1      Graduate            No   \n",
      "509       LP002984    Male     Yes          2      Graduate            No   \n",
      "510       LP002990  Female      No          0      Graduate           Yes   \n",
      "\n",
      "     Credit_History Property_Area  Income Application_Status  \n",
      "0                 1         Urban  medium                  Y  \n",
      "1                 1         Rural  medium                  N  \n",
      "2                 1         Urban     low                  Y  \n",
      "3                 1         Urban     low                  Y  \n",
      "4                 1         Urban  medium                  Y  \n",
      "..              ...           ...     ...                ...  \n",
      "506               1         Rural     low                  Y  \n",
      "507               1         Rural  medium                  Y  \n",
      "508               1         Urban  medium                  Y  \n",
      "509               1         Urban  medium                  Y  \n",
      "510               0     Semiurban  medium                  N  \n",
      "\n",
      "[511 rows x 10 columns]\n"
     ]
    }
   ],
   "source": [
    "# Visualizing data\n",
    "print(f2)"
   ]
  },
  {
   "cell_type": "markdown",
   "metadata": {},
   "source": [
    "### 1. Find % of total applicants for each unique value of dependents "
   ]
  },
  {
   "cell_type": "code",
   "execution_count": 4,
   "metadata": {},
   "outputs": [
    {
     "data": {
      "text/plain": [
       "0     57.534247\n",
       "2     17.221135\n",
       "1     16.634051\n",
       "3+     8.610568\n",
       "Name: Dependents, dtype: float64"
      ]
     },
     "execution_count": 4,
     "metadata": {},
     "output_type": "execute_result"
    }
   ],
   "source": [
    "f2[\"Dependents\"].value_counts(normalize=True) * 100"
   ]
  },
  {
   "cell_type": "markdown",
   "metadata": {},
   "source": [
    "### 2. Find the average number of dependents per applicant"
   ]
  },
  {
   "cell_type": "code",
   "execution_count": 5,
   "metadata": {},
   "outputs": [
    {
     "data": {
      "text/plain": [
       "4"
      ]
     },
     "execution_count": 5,
     "metadata": {},
     "output_type": "execute_result"
    }
   ],
   "source": [
    "len(f2[\"Dependents\"].unique())"
   ]
  },
  {
   "cell_type": "markdown",
   "metadata": {},
   "source": [
    "### 3. Find the %of applications approved for self-employed applicants"
   ]
  },
  {
   "cell_type": "code",
   "execution_count": 6,
   "metadata": {},
   "outputs": [],
   "source": [
    "## Getting only who are self_employed from the data\n",
    "self = f2[f2[\"Self_Employed\"] == \"Yes\"]"
   ]
  },
  {
   "cell_type": "code",
   "execution_count": 7,
   "metadata": {},
   "outputs": [
    {
     "name": "stdout",
     "output_type": "stream",
     "text": [
      "%of applications approved for self-employed applicants 13.698630136986301\n"
     ]
    }
   ],
   "source": [
    "print(\"%of applications approved for self-employed applicants\",\n",
    "      self[\"Self_Employed\"].count()/f2[\"Self_Employed\"].count() * 100)"
   ]
  },
  {
   "cell_type": "markdown",
   "metadata": {},
   "source": [
    "### 4. What is the % of rejections for married male applicants"
   ]
  },
  {
   "cell_type": "code",
   "execution_count": 8,
   "metadata": {},
   "outputs": [],
   "source": [
    "## Getting only who are Married people \n",
    "married = f2[f2[\"Married\"] == \"Yes\"]"
   ]
  },
  {
   "cell_type": "code",
   "execution_count": 9,
   "metadata": {},
   "outputs": [],
   "source": [
    "## Getting those who are married but rejected \n",
    "married_rejected = married[married[\"Application_Status\"] == \"N\"]"
   ]
  },
  {
   "cell_type": "code",
   "execution_count": 10,
   "metadata": {},
   "outputs": [
    {
     "name": "stdout",
     "output_type": "stream",
     "text": [
      "% of rejections for married male applicants 18.590998043052835\n"
     ]
    }
   ],
   "source": [
    "## Finding % of rejections for married male applicants\n",
    "print(\"% of rejections for married male applicants\"\n",
    "    ,married_rejected[\"Application_Status\"].count() / f2[\"Married\"].count() * 100)"
   ]
  },
  {
   "cell_type": "markdown",
   "metadata": {},
   "source": [
    "### 5. Which property area has the maximum approval ratio"
   ]
  },
  {
   "cell_type": "code",
   "execution_count": 11,
   "metadata": {},
   "outputs": [
    {
     "name": "stdout",
     "output_type": "stream",
     "text": [
      "Semiurban area has the maximum approval ratio \n"
     ]
    }
   ],
   "source": [
    "# Getting only Rural area data\n",
    "f2_rural = f2[f2[\"Property_Area\"]==\"Rural\"]\n",
    "# Getting only approved application in rural area \n",
    "f2_ru= f2_rural[f2_rural[\"Application_Status\"] == 'Y']\n",
    "\n",
    "# Getting only Urban area data\n",
    "f2_urban = f2[f2[\"Property_Area\"]==\"Urban\"]\n",
    "# Getting only approved application in urban area \n",
    "f2_ur = f2_urban[f2_urban[\"Application_Status\"] == 'Y']\n",
    "\n",
    "# Getting only semirural area data \n",
    "f2_semi = f2[f2[\"Property_Area\"]==\"Semiurban\"]\n",
    "# Getting only approved application in semirural area \n",
    "f2_se = f2_semi[f2_semi[\"Application_Status\"] == 'Y']\n",
    "\n",
    "## Getting maximum value among rural,urban and semirural\n",
    "max_pro = max(f2_ru.count()[1]/f2_rural.count()[1],\n",
    "             f2_ur.count()[1]/f2_urban.count()[1],\n",
    "             f2_se.count()[1]/f2_se.count()[1])\n",
    "\n",
    "## comparing maximum value with rural, urban and semiurban fields for knowing maximum acceptance among them \n",
    "if max_pro == f2_ru.count()[1]/f2_rural.count()[1]:\n",
    "    print(\"Rural area has the maximum approval ratio \")\n",
    "elif max_pro == f2_ur.count()[1]/f2_urban.count()[1]:\n",
    "    print(\"Urban area has the maximum approval ratio \")\n",
    "else:\n",
    "    print(\"Semiurban area has the maximum approval ratio \")"
   ]
  },
  {
   "cell_type": "markdown",
   "metadata": {},
   "source": [
    "### 6. Find average dependents per income group"
   ]
  },
  {
   "cell_type": "code",
   "execution_count": 12,
   "metadata": {},
   "outputs": [],
   "source": [
    "## Getting 0,1,2,3+ values individually from the data\n",
    "f_0 = f2[f2[\"Dependents\"] == \"0\"]\n",
    "f_1 = f2[f2[\"Dependents\"] == \"1\"]\n",
    "f_2 = f2[f2[\"Dependents\"] == \"2\"]\n",
    "f_3 = f2[f2[\"Dependents\"] == \"3+\"]"
   ]
  },
  {
   "cell_type": "code",
   "execution_count": 13,
   "metadata": {},
   "outputs": [
    {
     "name": "stdout",
     "output_type": "stream",
     "text": [
      "People with 0 Dependents and medium income 100\n",
      "People with 1 Dependents and medium income 30\n",
      "People with 2 Dependents and medium income 41\n",
      "People with 3+ Dependents and medium income 22\n"
     ]
    }
   ],
   "source": [
    "## printing only medium income dependents \n",
    "print(\"People with 0 Dependents and medium income\",f_0[f_0[\"Income\"] == \"medium\"].count()[1])\n",
    "print(\"People with 1 Dependents and medium income\",f_1[f_1[\"Income\"] == \"medium\"].count()[1])\n",
    "print(\"People with 2 Dependents and medium income\",f_2[f_2[\"Income\"] == \"medium\"].count()[1])\n",
    "print(\"People with 3+ Dependents and medium income\",f_3[f_3[\"Income\"] == \"medium\"].count()[1])"
   ]
  },
  {
   "cell_type": "code",
   "execution_count": 14,
   "metadata": {},
   "outputs": [
    {
     "name": "stdout",
     "output_type": "stream",
     "text": [
      "People with 0 Dependents and high income 21\n",
      "People with 1 Dependents and high income 13\n",
      "People with 2 Dependents and high income 6\n",
      "People with 3+ Dependents and high income 5\n"
     ]
    }
   ],
   "source": [
    "## printing only high income dependents\n",
    "print(\"People with 0 Dependents and high income\",f_0[f_0[\"Income\"] == \"high\"].count()[1])\n",
    "print(\"People with 1 Dependents and high income\",f_1[f_1[\"Income\"] == \"high\"].count()[1])\n",
    "print(\"People with 2 Dependents and high income\",f_2[f_2[\"Income\"] == \"high\"].count()[1])\n",
    "print(\"People with 3+ Dependents and high income\",f_3[f_3[\"Income\"] == \"high\"].count()[1])"
   ]
  },
  {
   "cell_type": "code",
   "execution_count": 15,
   "metadata": {},
   "outputs": [
    {
     "name": "stdout",
     "output_type": "stream",
     "text": [
      "People with 0 Dependents and low income 173\n",
      "People with 1 Dependents and low income 42\n",
      "People with 2 Dependents and low income 41\n",
      "People with 3+ Dependents and low income 17\n"
     ]
    }
   ],
   "source": [
    "## printing only low income dependents\n",
    "print(\"People with 0 Dependents and low income\",f_0[f_0[\"Income\"] == \"low\"].count()[1])\n",
    "print(\"People with 1 Dependents and low income\",f_1[f_1[\"Income\"] == \"low\"].count()[1])\n",
    "print(\"People with 2 Dependents and low income\",f_2[f_2[\"Income\"] == \"low\"].count()[1])\n",
    "print(\"People with 3+ Dependents and low income\",f_3[f_3[\"Income\"] == \"low\"].count()[1])"
   ]
  },
  {
   "cell_type": "markdown",
   "metadata": {},
   "source": [
    "###   7. Create a simple predictive model to assess whether a loan application will be approved or rejected and provide the accuracy score"
   ]
  },
  {
   "cell_type": "code",
   "execution_count": 16,
   "metadata": {},
   "outputs": [],
   "source": [
    "## Reading data\n",
    "f = pd.read_json('loan_data.json')"
   ]
  },
  {
   "cell_type": "code",
   "execution_count": 17,
   "metadata": {},
   "outputs": [],
   "source": [
    "## Dropping unnecessary columns\n",
    "f = f.drop([\"Application_ID\",\"Dependents\",\"Property_Area\",\"Income\"], axis = 1)"
   ]
  },
  {
   "cell_type": "code",
   "execution_count": 18,
   "metadata": {},
   "outputs": [],
   "source": [
    "## Changing to float format for trainig\n",
    "f['Gender'] = f['Gender'].apply(lambda x: 1 if x == 'Male' else 0)\n",
    "f['Married'] = f['Married'].apply(lambda x: 1 if x == 'Yes' else 0)\n",
    "f['Education'] = f['Education'].apply(lambda x: 1 if x == 'Graduate' else 0)\n",
    "f['Self_Employed'] = f['Self_Employed'].apply(lambda x: 1 if x == 'Yes' else 0)\n",
    "f['Application_Status'] = f['Application_Status'].apply(lambda x: 1 if x == 'Y' else 0)"
   ]
  },
  {
   "cell_type": "code",
   "execution_count": 19,
   "metadata": {},
   "outputs": [],
   "source": [
    "## Assigning Application_Status column to new label and dropping the Application_Status\n",
    "f_label = f[\"Application_Status\"]\n",
    "f = f.drop([\"Application_Status\"], axis = 1)"
   ]
  },
  {
   "cell_type": "code",
   "execution_count": 20,
   "metadata": {},
   "outputs": [
    {
     "data": {
      "text/html": [
       "<div>\n",
       "<style scoped>\n",
       "    .dataframe tbody tr th:only-of-type {\n",
       "        vertical-align: middle;\n",
       "    }\n",
       "\n",
       "    .dataframe tbody tr th {\n",
       "        vertical-align: top;\n",
       "    }\n",
       "\n",
       "    .dataframe thead th {\n",
       "        text-align: right;\n",
       "    }\n",
       "</style>\n",
       "<table border=\"1\" class=\"dataframe\">\n",
       "  <thead>\n",
       "    <tr style=\"text-align: right;\">\n",
       "      <th></th>\n",
       "      <th>Gender</th>\n",
       "      <th>Married</th>\n",
       "      <th>Education</th>\n",
       "      <th>Self_Employed</th>\n",
       "      <th>Credit_History</th>\n",
       "    </tr>\n",
       "  </thead>\n",
       "  <tbody>\n",
       "    <tr>\n",
       "      <td>0</td>\n",
       "      <td>1</td>\n",
       "      <td>0</td>\n",
       "      <td>1</td>\n",
       "      <td>0</td>\n",
       "      <td>1</td>\n",
       "    </tr>\n",
       "    <tr>\n",
       "      <td>1</td>\n",
       "      <td>1</td>\n",
       "      <td>1</td>\n",
       "      <td>1</td>\n",
       "      <td>0</td>\n",
       "      <td>1</td>\n",
       "    </tr>\n",
       "    <tr>\n",
       "      <td>2</td>\n",
       "      <td>1</td>\n",
       "      <td>1</td>\n",
       "      <td>1</td>\n",
       "      <td>1</td>\n",
       "      <td>1</td>\n",
       "    </tr>\n",
       "    <tr>\n",
       "      <td>3</td>\n",
       "      <td>1</td>\n",
       "      <td>1</td>\n",
       "      <td>0</td>\n",
       "      <td>0</td>\n",
       "      <td>1</td>\n",
       "    </tr>\n",
       "    <tr>\n",
       "      <td>4</td>\n",
       "      <td>1</td>\n",
       "      <td>0</td>\n",
       "      <td>1</td>\n",
       "      <td>0</td>\n",
       "      <td>1</td>\n",
       "    </tr>\n",
       "    <tr>\n",
       "      <td>...</td>\n",
       "      <td>...</td>\n",
       "      <td>...</td>\n",
       "      <td>...</td>\n",
       "      <td>...</td>\n",
       "      <td>...</td>\n",
       "    </tr>\n",
       "    <tr>\n",
       "      <td>506</td>\n",
       "      <td>0</td>\n",
       "      <td>0</td>\n",
       "      <td>1</td>\n",
       "      <td>0</td>\n",
       "      <td>1</td>\n",
       "    </tr>\n",
       "    <tr>\n",
       "      <td>507</td>\n",
       "      <td>1</td>\n",
       "      <td>1</td>\n",
       "      <td>1</td>\n",
       "      <td>0</td>\n",
       "      <td>1</td>\n",
       "    </tr>\n",
       "    <tr>\n",
       "      <td>508</td>\n",
       "      <td>1</td>\n",
       "      <td>1</td>\n",
       "      <td>1</td>\n",
       "      <td>0</td>\n",
       "      <td>1</td>\n",
       "    </tr>\n",
       "    <tr>\n",
       "      <td>509</td>\n",
       "      <td>1</td>\n",
       "      <td>1</td>\n",
       "      <td>1</td>\n",
       "      <td>0</td>\n",
       "      <td>1</td>\n",
       "    </tr>\n",
       "    <tr>\n",
       "      <td>510</td>\n",
       "      <td>0</td>\n",
       "      <td>0</td>\n",
       "      <td>1</td>\n",
       "      <td>1</td>\n",
       "      <td>0</td>\n",
       "    </tr>\n",
       "  </tbody>\n",
       "</table>\n",
       "<p>511 rows × 5 columns</p>\n",
       "</div>"
      ],
      "text/plain": [
       "     Gender  Married  Education  Self_Employed  Credit_History\n",
       "0         1        0          1              0               1\n",
       "1         1        1          1              0               1\n",
       "2         1        1          1              1               1\n",
       "3         1        1          0              0               1\n",
       "4         1        0          1              0               1\n",
       "..      ...      ...        ...            ...             ...\n",
       "506       0        0          1              0               1\n",
       "507       1        1          1              0               1\n",
       "508       1        1          1              0               1\n",
       "509       1        1          1              0               1\n",
       "510       0        0          1              1               0\n",
       "\n",
       "[511 rows x 5 columns]"
      ]
     },
     "execution_count": 20,
     "metadata": {},
     "output_type": "execute_result"
    }
   ],
   "source": [
    "## Now let's see the data \n",
    "f"
   ]
  },
  {
   "cell_type": "code",
   "execution_count": 21,
   "metadata": {},
   "outputs": [
    {
     "data": {
      "text/plain": [
       "0      1\n",
       "1      0\n",
       "2      1\n",
       "3      1\n",
       "4      1\n",
       "      ..\n",
       "506    1\n",
       "507    1\n",
       "508    1\n",
       "509    1\n",
       "510    0\n",
       "Name: Application_Status, Length: 511, dtype: int64"
      ]
     },
     "execution_count": 21,
     "metadata": {},
     "output_type": "execute_result"
    }
   ],
   "source": [
    "## Now let's see the label data\n",
    "f_label"
   ]
  },
  {
   "cell_type": "code",
   "execution_count": 22,
   "metadata": {},
   "outputs": [],
   "source": [
    "## Importing numpy library for changing matrix to ndarray\n",
    "import numpy as np"
   ]
  },
  {
   "cell_type": "code",
   "execution_count": 23,
   "metadata": {},
   "outputs": [],
   "source": [
    "\n",
    "## importing train_test_split library for splitting our data for training and testing\n",
    "from sklearn.model_selection import train_test_split\n",
    "## splitting our data for training and testing\n",
    "train, test = train_test_split(f, test_size = 0.4)\n",
    "train = train.reset_index(drop=True)\n",
    "test = test.reset_index(drop=True)\n",
    "\n",
    "## Assinging f_label to label_train and label_test for calculating accuracy\n",
    "label_train, label_test = train_test_split(f_label, test_size = 0.4)\n"
   ]
  },
  {
   "cell_type": "code",
   "execution_count": 24,
   "metadata": {},
   "outputs": [],
   "source": [
    "\n",
    "## Importing RandomForestClassifier for classifing them to acceoted or rejected\n",
    "from sklearn.ensemble import RandomForestClassifier\n",
    "clf = RandomForestClassifier()\n",
    "## Training\n",
    "clf.fit(train,label_train)\n",
    "\n",
    "pred_train = clf.predict(train)\n",
    "pred_test = clf.predict(test)\n",
    "\n",
    "# importing accuracy_score for calculating accuracy\n",
    "from sklearn.metrics import accuracy_score\n",
    "accuracy_train = accuracy_score(pred_train,label_train)\n",
    "accuracy_test = accuracy_score(pred_test,label_test)\n"
   ]
  },
  {
   "cell_type": "code",
   "execution_count": 25,
   "metadata": {},
   "outputs": [
    {
     "name": "stdout",
     "output_type": "stream",
     "text": [
      "Train accuracy: 0.7124183006535948 \n",
      " Test accuracy: 0.6390243902439025\n"
     ]
    }
   ],
   "source": [
    "print(\"Train accuracy:\",accuracy_train,\n",
    "     \"\\n Test accuracy:\", accuracy_test)"
   ]
  },
  {
   "cell_type": "code",
   "execution_count": null,
   "metadata": {},
   "outputs": [],
   "source": []
  },
  {
   "cell_type": "code",
   "execution_count": null,
   "metadata": {},
   "outputs": [],
   "source": []
  }
 ],
 "metadata": {
  "kernelspec": {
   "display_name": "Python 3",
   "language": "python",
   "name": "python3"
  },
  "language_info": {
   "codemirror_mode": {
    "name": "ipython",
    "version": 3
   },
   "file_extension": ".py",
   "mimetype": "text/x-python",
   "name": "python",
   "nbconvert_exporter": "python",
   "pygments_lexer": "ipython3",
   "version": "3.7.4"
  }
 },
 "nbformat": 4,
 "nbformat_minor": 2
}
