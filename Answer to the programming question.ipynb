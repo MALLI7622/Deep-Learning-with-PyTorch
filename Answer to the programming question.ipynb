{
 "cells": [
  {
   "cell_type": "markdown",
   "id": "d2120bb6",
   "metadata": {},
   "source": [
    "## Your Application\n",
    "\n",
    "Your cover letter should tell us which skills / past experiences of yours can contribute to this role. We would also like to hear about why you’re considering Probabl as a place to work.\n",
    "\n",
    "Programming question:\n",
    "\n",
    "Using sklearn.model_selection.permutation_test_score, compute the p-value indicating if the score obtained by an instance of sklearn.dummy.DummyClassifier on the dataset sklearn.datasets.load_iris is obtained by chance.\n",
    "\n",
    "Repeat this analysis using sklearn.ensemble.HistGradientBoostingClassifier instead of sklearn.dummy.DummyClassifier.\n",
    "\n",
    "What can you conclude about:\n",
    "\n",
    "    the existence of a significant statistical association between the iris type and the input features (petal and sepal width and length)?\n",
    "    the ability of each kind of estimator to assess or not such a statistical association between features and target variable?\n",
    "\n",
    "Write the code and answers to the questions in a notebook. Put the resulting notebook in a GitHub repository, and leave the link to the notebook file in the application form under “Answer to the programming question” field."
   ]
  },
  {
   "cell_type": "code",
   "execution_count": 42,
   "id": "89756596",
   "metadata": {},
   "outputs": [],
   "source": [
    "# Import data and modules\n",
    "import numpy as np\n",
    "from sklearn import datasets\n",
    "\n",
    "from sklearn.dummy import DummyClassifier\n",
    "from sklearn.ensemble import HistGradientBoostingClassifier\n",
    "from sklearn.datasets import make_classification\n",
    "from sklearn.linear_model import LogisticRegression\n",
    "from sklearn.model_selection import permutation_test_score\n",
    "\n",
    "\n",
    "iris = datasets.load_iris()\n",
    "\n",
    "X = iris.data\n",
    "y = iris.target\n"
   ]
  },
  {
   "cell_type": "code",
   "execution_count": 60,
   "id": "e9621ade",
   "metadata": {},
   "outputs": [
    {
     "name": "stdout",
     "output_type": "stream",
     "text": [
      "Target classes : ['setosa' 'versicolor' 'virginica']\n"
     ]
    }
   ],
   "source": [
    "print(\"Target classes :\", iris.target_names)"
   ]
  },
  {
   "cell_type": "markdown",
   "id": "fdb09df4",
   "metadata": {},
   "source": [
    "## Using DummyClassifier\n",
    "\n",
    "I am going to use the DummyClassifier as mentioned in the problem statement for this job posting.\n",
    "We are using [scikit-learn](https://scikit-learn.org/stable/), developed by members of [probabl.ai](https://probabl.ai/) for doing this task"
   ]
  },
  {
   "cell_type": "code",
   "execution_count": 43,
   "id": "2c384891",
   "metadata": {},
   "outputs": [
    {
     "name": "stdout",
     "output_type": "stream",
     "text": [
      "P-value: 1.000\n"
     ]
    }
   ],
   "source": [
    "estimator = DummyClassifier()\n",
    "score, permutation_scores, pvalue = permutation_test_score(\n",
    "    estimator, X, y, random_state=0\n",
    ")\n",
    "print(f\"P-value: {pvalue:.3f}\")"
   ]
  },
  {
   "cell_type": "markdown",
   "id": "3625c6f0",
   "metadata": {},
   "source": [
    "## Using HistGradientBoostingClassifier\n",
    "\n"
   ]
  },
  {
   "cell_type": "code",
   "execution_count": 44,
   "id": "dd1302f0",
   "metadata": {},
   "outputs": [
    {
     "name": "stdout",
     "output_type": "stream",
     "text": [
      "P-value: 0.010\n"
     ]
    }
   ],
   "source": [
    "estimator = HistGradientBoostingClassifier()\n",
    "score, permutation_scores, pvalue = permutation_test_score(\n",
    "    estimator, X, y, random_state=0\n",
    ")\n",
    "\n",
    "print(f\"P-value: {pvalue:.3f}\")"
   ]
  },
  {
   "cell_type": "markdown",
   "id": "484c96d3",
   "metadata": {},
   "source": [
    "# Answers to the questions\n",
    "\n",
    "    1. In statistical analysis we are going to use p-value to know how confidence the model is, if the p-value value is higher that means that the model accuracy has by a chance, in contrast to it lower p-value indicates a significant statistical relation between the dependent variable and independent variable. Generally p < 0.05 is considered a significant, which says only 5% of the times the model has a randomness in prediction.\n",
    "    \n",
    "    2. In this case of this, the p-value of the 'DummyClassifier' is 1.0 which is complete random. In inference case, this model is going to predict 100% random on every time. On the other hand 'HistGradientBoostingClassifier' has a p-value of 0.01 which less than 0.05 ( p-value < 0.05 which considers highly significant). In this case 'HistGradientBoostingClassifier' has only 1% of randomness in prediction."
   ]
  },
  {
   "cell_type": "markdown",
   "id": "17a4a184",
   "metadata": {},
   "source": [
    "## Thanks for reviewing my submission :) Have a great ahead 🍺🍻🍻🍻"
   ]
  },
  {
   "cell_type": "code",
   "execution_count": null,
   "id": "ec81247e",
   "metadata": {},
   "outputs": [],
   "source": []
  },
  {
   "cell_type": "code",
   "execution_count": null,
   "id": "520a5e45",
   "metadata": {},
   "outputs": [],
   "source": []
  },
  {
   "cell_type": "code",
   "execution_count": null,
   "id": "19f05c80",
   "metadata": {},
   "outputs": [],
   "source": []
  }
 ],
 "metadata": {
  "kernelspec": {
   "display_name": "Python 3 (ipykernel)",
   "language": "python",
   "name": "python3"
  },
  "language_info": {
   "codemirror_mode": {
    "name": "ipython",
    "version": 3
   },
   "file_extension": ".py",
   "mimetype": "text/x-python",
   "name": "python",
   "nbconvert_exporter": "python",
   "pygments_lexer": "ipython3",
   "version": "3.8.10"
  }
 },
 "nbformat": 4,
 "nbformat_minor": 5
}
