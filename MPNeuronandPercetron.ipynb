{
  "nbformat": 4,
  "nbformat_minor": 0,
  "metadata": {
    "colab": {
      "name": "MPNeuronandPercetron.ipynb",
      "provenance": [],
      "authorship_tag": "ABX9TyMOgQzIMUNFb8J6PC9FA4Lb",
      "include_colab_link": true
    },
    "kernelspec": {
      "name": "python3",
      "display_name": "Python 3"
    }
  },
  "cells": [
    {
      "cell_type": "markdown",
      "metadata": {
        "id": "view-in-github",
        "colab_type": "text"
      },
      "source": [
        "<a href=\"https://colab.research.google.com/github/MALLI7622/Deep-Learning-with-PyTorch/blob/master/MPNeuronandPercetron.ipynb\" target=\"_parent\"><img src=\"https://colab.research.google.com/assets/colab-badge.svg\" alt=\"Open In Colab\"/></a>"
      ]
    },
    {
      "cell_type": "markdown",
      "metadata": {
        "id": "jFA9rQVLuaqa",
        "colab_type": "text"
      },
      "source": [
        "# Loading Dataset\n"
      ]
    },
    {
      "cell_type": "code",
      "metadata": {
        "id": "Uj0gPiovuXe-",
        "colab_type": "code",
        "colab": {}
      },
      "source": [
        "import sklearn.datasets\n",
        "import numpy as np"
      ],
      "execution_count": 0,
      "outputs": []
    },
    {
      "cell_type": "code",
      "metadata": {
        "id": "ZtyfD56Jr0kK",
        "colab_type": "code",
        "colab": {}
      },
      "source": [
        "breast_cancer = sklearn.datasets.load_breast_cancer()\n"
      ],
      "execution_count": 0,
      "outputs": []
    },
    {
      "cell_type": "code",
      "metadata": {
        "id": "npODsG3jr0hH",
        "colab_type": "code",
        "colab": {}
      },
      "source": [
        "X = breast_cancer.data\n",
        "Y = breast_cancer.target"
      ],
      "execution_count": 0,
      "outputs": []
    },
    {
      "cell_type": "code",
      "metadata": {
        "id": "lWMqseZcr0fq",
        "colab_type": "code",
        "outputId": "d9964b14-3f8f-4443-c4b0-36570026612a",
        "colab": {
          "base_uri": "https://localhost:8080/",
          "height": 436
        }
      },
      "source": [
        "print(\"Features: \", X,\n",
        "      \"\\n Target: \", Y)"
      ],
      "execution_count": 4,
      "outputs": [
        {
          "output_type": "stream",
          "text": [
            "Features:  [[1.799e+01 1.038e+01 1.228e+02 ... 2.654e-01 4.601e-01 1.189e-01]\n",
            " [2.057e+01 1.777e+01 1.329e+02 ... 1.860e-01 2.750e-01 8.902e-02]\n",
            " [1.969e+01 2.125e+01 1.300e+02 ... 2.430e-01 3.613e-01 8.758e-02]\n",
            " ...\n",
            " [1.660e+01 2.808e+01 1.083e+02 ... 1.418e-01 2.218e-01 7.820e-02]\n",
            " [2.060e+01 2.933e+01 1.401e+02 ... 2.650e-01 4.087e-01 1.240e-01]\n",
            " [7.760e+00 2.454e+01 4.792e+01 ... 0.000e+00 2.871e-01 7.039e-02]] \n",
            " Target:  [0 0 0 0 0 0 0 0 0 0 0 0 0 0 0 0 0 0 0 1 1 1 0 0 0 0 0 0 0 0 0 0 0 0 0 0 0\n",
            " 1 0 0 0 0 0 0 0 0 1 0 1 1 1 1 1 0 0 1 0 0 1 1 1 1 0 1 0 0 1 1 1 1 0 1 0 0\n",
            " 1 0 1 0 0 1 1 1 0 0 1 0 0 0 1 1 1 0 1 1 0 0 1 1 1 0 0 1 1 1 1 0 1 1 0 1 1\n",
            " 1 1 1 1 1 1 0 0 0 1 0 0 1 1 1 0 0 1 0 1 0 0 1 0 0 1 1 0 1 1 0 1 1 1 1 0 1\n",
            " 1 1 1 1 1 1 1 1 0 1 1 1 1 0 0 1 0 1 1 0 0 1 1 0 0 1 1 1 1 0 1 1 0 0 0 1 0\n",
            " 1 0 1 1 1 0 1 1 0 0 1 0 0 0 0 1 0 0 0 1 0 1 0 1 1 0 1 0 0 0 0 1 1 0 0 1 1\n",
            " 1 0 1 1 1 1 1 0 0 1 1 0 1 1 0 0 1 0 1 1 1 1 0 1 1 1 1 1 0 1 0 0 0 0 0 0 0\n",
            " 0 0 0 0 0 0 0 1 1 1 1 1 1 0 1 0 1 1 0 1 1 0 1 0 0 1 1 1 1 1 1 1 1 1 1 1 1\n",
            " 1 0 1 1 0 1 0 1 1 1 1 1 1 1 1 1 1 1 1 1 1 0 1 1 1 0 1 0 1 1 1 1 0 0 0 1 1\n",
            " 1 1 0 1 0 1 0 1 1 1 0 1 1 1 1 1 1 1 0 0 0 1 1 1 1 1 1 1 1 1 1 1 0 0 1 0 0\n",
            " 0 1 0 0 1 1 1 1 1 0 1 1 1 1 1 0 1 1 1 0 1 1 0 0 1 1 1 1 1 1 0 1 1 1 1 1 1\n",
            " 1 0 1 1 1 1 1 0 1 1 0 1 1 1 1 1 1 1 1 1 1 1 1 0 1 0 0 1 0 1 1 1 1 1 0 1 1\n",
            " 0 1 0 1 1 0 1 0 1 1 1 1 1 1 1 1 0 0 1 1 1 1 1 1 0 1 1 1 1 1 1 1 1 1 1 0 1\n",
            " 1 1 1 1 1 1 0 1 0 1 1 0 1 1 1 1 1 0 0 1 0 1 0 1 1 1 1 1 0 1 1 0 1 0 1 0 0\n",
            " 1 1 1 0 1 1 1 1 1 1 1 1 1 1 1 0 1 0 0 1 1 1 1 1 1 1 1 1 1 1 1 1 1 1 1 1 1\n",
            " 1 1 1 1 1 1 1 0 0 0 0 0 0 1]\n"
          ],
          "name": "stdout"
        }
      ]
    },
    {
      "cell_type": "code",
      "metadata": {
        "id": "8-Fp9OV6r0c3",
        "colab_type": "code",
        "outputId": "398a325d-73eb-400f-c37f-b01fb6a51202",
        "colab": {
          "base_uri": "https://localhost:8080/",
          "height": 35
        }
      },
      "source": [
        "print(X.shape, Y.shape)"
      ],
      "execution_count": 5,
      "outputs": [
        {
          "output_type": "stream",
          "text": [
            "(569, 30) (569,)\n"
          ],
          "name": "stdout"
        }
      ]
    },
    {
      "cell_type": "code",
      "metadata": {
        "id": "5zSPQ7m2r0Z7",
        "colab_type": "code",
        "colab": {}
      },
      "source": [
        "import pandas as pd\n"
      ],
      "execution_count": 0,
      "outputs": []
    },
    {
      "cell_type": "code",
      "metadata": {
        "id": "oLFS0QqXr0XE",
        "colab_type": "code",
        "colab": {}
      },
      "source": [
        "data = pd.DataFrame(breast_cancer.data, columns=breast_cancer.feature_names)"
      ],
      "execution_count": 0,
      "outputs": []
    },
    {
      "cell_type": "code",
      "metadata": {
        "id": "fn33OIxHr0Ud",
        "colab_type": "code",
        "colab": {}
      },
      "source": [
        "data['class'] = breast_cancer.target"
      ],
      "execution_count": 0,
      "outputs": []
    },
    {
      "cell_type": "code",
      "metadata": {
        "id": "P5Kh6IUrr0RP",
        "colab_type": "code",
        "outputId": "9bef2ae4-ad61-465d-df1c-d3d7fef82d83",
        "colab": {
          "base_uri": "https://localhost:8080/",
          "height": 257
        }
      },
      "source": [
        "data.head()"
      ],
      "execution_count": 9,
      "outputs": [
        {
          "output_type": "execute_result",
          "data": {
            "text/html": [
              "<div>\n",
              "<style scoped>\n",
              "    .dataframe tbody tr th:only-of-type {\n",
              "        vertical-align: middle;\n",
              "    }\n",
              "\n",
              "    .dataframe tbody tr th {\n",
              "        vertical-align: top;\n",
              "    }\n",
              "\n",
              "    .dataframe thead th {\n",
              "        text-align: right;\n",
              "    }\n",
              "</style>\n",
              "<table border=\"1\" class=\"dataframe\">\n",
              "  <thead>\n",
              "    <tr style=\"text-align: right;\">\n",
              "      <th></th>\n",
              "      <th>mean radius</th>\n",
              "      <th>mean texture</th>\n",
              "      <th>mean perimeter</th>\n",
              "      <th>mean area</th>\n",
              "      <th>mean smoothness</th>\n",
              "      <th>mean compactness</th>\n",
              "      <th>mean concavity</th>\n",
              "      <th>mean concave points</th>\n",
              "      <th>mean symmetry</th>\n",
              "      <th>mean fractal dimension</th>\n",
              "      <th>radius error</th>\n",
              "      <th>texture error</th>\n",
              "      <th>perimeter error</th>\n",
              "      <th>area error</th>\n",
              "      <th>smoothness error</th>\n",
              "      <th>compactness error</th>\n",
              "      <th>concavity error</th>\n",
              "      <th>concave points error</th>\n",
              "      <th>symmetry error</th>\n",
              "      <th>fractal dimension error</th>\n",
              "      <th>worst radius</th>\n",
              "      <th>worst texture</th>\n",
              "      <th>worst perimeter</th>\n",
              "      <th>worst area</th>\n",
              "      <th>worst smoothness</th>\n",
              "      <th>worst compactness</th>\n",
              "      <th>worst concavity</th>\n",
              "      <th>worst concave points</th>\n",
              "      <th>worst symmetry</th>\n",
              "      <th>worst fractal dimension</th>\n",
              "      <th>class</th>\n",
              "    </tr>\n",
              "  </thead>\n",
              "  <tbody>\n",
              "    <tr>\n",
              "      <th>0</th>\n",
              "      <td>17.99</td>\n",
              "      <td>10.38</td>\n",
              "      <td>122.80</td>\n",
              "      <td>1001.0</td>\n",
              "      <td>0.11840</td>\n",
              "      <td>0.27760</td>\n",
              "      <td>0.3001</td>\n",
              "      <td>0.14710</td>\n",
              "      <td>0.2419</td>\n",
              "      <td>0.07871</td>\n",
              "      <td>1.0950</td>\n",
              "      <td>0.9053</td>\n",
              "      <td>8.589</td>\n",
              "      <td>153.40</td>\n",
              "      <td>0.006399</td>\n",
              "      <td>0.04904</td>\n",
              "      <td>0.05373</td>\n",
              "      <td>0.01587</td>\n",
              "      <td>0.03003</td>\n",
              "      <td>0.006193</td>\n",
              "      <td>25.38</td>\n",
              "      <td>17.33</td>\n",
              "      <td>184.60</td>\n",
              "      <td>2019.0</td>\n",
              "      <td>0.1622</td>\n",
              "      <td>0.6656</td>\n",
              "      <td>0.7119</td>\n",
              "      <td>0.2654</td>\n",
              "      <td>0.4601</td>\n",
              "      <td>0.11890</td>\n",
              "      <td>0</td>\n",
              "    </tr>\n",
              "    <tr>\n",
              "      <th>1</th>\n",
              "      <td>20.57</td>\n",
              "      <td>17.77</td>\n",
              "      <td>132.90</td>\n",
              "      <td>1326.0</td>\n",
              "      <td>0.08474</td>\n",
              "      <td>0.07864</td>\n",
              "      <td>0.0869</td>\n",
              "      <td>0.07017</td>\n",
              "      <td>0.1812</td>\n",
              "      <td>0.05667</td>\n",
              "      <td>0.5435</td>\n",
              "      <td>0.7339</td>\n",
              "      <td>3.398</td>\n",
              "      <td>74.08</td>\n",
              "      <td>0.005225</td>\n",
              "      <td>0.01308</td>\n",
              "      <td>0.01860</td>\n",
              "      <td>0.01340</td>\n",
              "      <td>0.01389</td>\n",
              "      <td>0.003532</td>\n",
              "      <td>24.99</td>\n",
              "      <td>23.41</td>\n",
              "      <td>158.80</td>\n",
              "      <td>1956.0</td>\n",
              "      <td>0.1238</td>\n",
              "      <td>0.1866</td>\n",
              "      <td>0.2416</td>\n",
              "      <td>0.1860</td>\n",
              "      <td>0.2750</td>\n",
              "      <td>0.08902</td>\n",
              "      <td>0</td>\n",
              "    </tr>\n",
              "    <tr>\n",
              "      <th>2</th>\n",
              "      <td>19.69</td>\n",
              "      <td>21.25</td>\n",
              "      <td>130.00</td>\n",
              "      <td>1203.0</td>\n",
              "      <td>0.10960</td>\n",
              "      <td>0.15990</td>\n",
              "      <td>0.1974</td>\n",
              "      <td>0.12790</td>\n",
              "      <td>0.2069</td>\n",
              "      <td>0.05999</td>\n",
              "      <td>0.7456</td>\n",
              "      <td>0.7869</td>\n",
              "      <td>4.585</td>\n",
              "      <td>94.03</td>\n",
              "      <td>0.006150</td>\n",
              "      <td>0.04006</td>\n",
              "      <td>0.03832</td>\n",
              "      <td>0.02058</td>\n",
              "      <td>0.02250</td>\n",
              "      <td>0.004571</td>\n",
              "      <td>23.57</td>\n",
              "      <td>25.53</td>\n",
              "      <td>152.50</td>\n",
              "      <td>1709.0</td>\n",
              "      <td>0.1444</td>\n",
              "      <td>0.4245</td>\n",
              "      <td>0.4504</td>\n",
              "      <td>0.2430</td>\n",
              "      <td>0.3613</td>\n",
              "      <td>0.08758</td>\n",
              "      <td>0</td>\n",
              "    </tr>\n",
              "    <tr>\n",
              "      <th>3</th>\n",
              "      <td>11.42</td>\n",
              "      <td>20.38</td>\n",
              "      <td>77.58</td>\n",
              "      <td>386.1</td>\n",
              "      <td>0.14250</td>\n",
              "      <td>0.28390</td>\n",
              "      <td>0.2414</td>\n",
              "      <td>0.10520</td>\n",
              "      <td>0.2597</td>\n",
              "      <td>0.09744</td>\n",
              "      <td>0.4956</td>\n",
              "      <td>1.1560</td>\n",
              "      <td>3.445</td>\n",
              "      <td>27.23</td>\n",
              "      <td>0.009110</td>\n",
              "      <td>0.07458</td>\n",
              "      <td>0.05661</td>\n",
              "      <td>0.01867</td>\n",
              "      <td>0.05963</td>\n",
              "      <td>0.009208</td>\n",
              "      <td>14.91</td>\n",
              "      <td>26.50</td>\n",
              "      <td>98.87</td>\n",
              "      <td>567.7</td>\n",
              "      <td>0.2098</td>\n",
              "      <td>0.8663</td>\n",
              "      <td>0.6869</td>\n",
              "      <td>0.2575</td>\n",
              "      <td>0.6638</td>\n",
              "      <td>0.17300</td>\n",
              "      <td>0</td>\n",
              "    </tr>\n",
              "    <tr>\n",
              "      <th>4</th>\n",
              "      <td>20.29</td>\n",
              "      <td>14.34</td>\n",
              "      <td>135.10</td>\n",
              "      <td>1297.0</td>\n",
              "      <td>0.10030</td>\n",
              "      <td>0.13280</td>\n",
              "      <td>0.1980</td>\n",
              "      <td>0.10430</td>\n",
              "      <td>0.1809</td>\n",
              "      <td>0.05883</td>\n",
              "      <td>0.7572</td>\n",
              "      <td>0.7813</td>\n",
              "      <td>5.438</td>\n",
              "      <td>94.44</td>\n",
              "      <td>0.011490</td>\n",
              "      <td>0.02461</td>\n",
              "      <td>0.05688</td>\n",
              "      <td>0.01885</td>\n",
              "      <td>0.01756</td>\n",
              "      <td>0.005115</td>\n",
              "      <td>22.54</td>\n",
              "      <td>16.67</td>\n",
              "      <td>152.20</td>\n",
              "      <td>1575.0</td>\n",
              "      <td>0.1374</td>\n",
              "      <td>0.2050</td>\n",
              "      <td>0.4000</td>\n",
              "      <td>0.1625</td>\n",
              "      <td>0.2364</td>\n",
              "      <td>0.07678</td>\n",
              "      <td>0</td>\n",
              "    </tr>\n",
              "  </tbody>\n",
              "</table>\n",
              "</div>"
            ],
            "text/plain": [
              "   mean radius  mean texture  ...  worst fractal dimension  class\n",
              "0        17.99         10.38  ...                  0.11890      0\n",
              "1        20.57         17.77  ...                  0.08902      0\n",
              "2        19.69         21.25  ...                  0.08758      0\n",
              "3        11.42         20.38  ...                  0.17300      0\n",
              "4        20.29         14.34  ...                  0.07678      0\n",
              "\n",
              "[5 rows x 31 columns]"
            ]
          },
          "metadata": {
            "tags": []
          },
          "execution_count": 9
        }
      ]
    },
    {
      "cell_type": "code",
      "metadata": {
        "id": "aCREjmASr0Nz",
        "colab_type": "code",
        "outputId": "e2710b65-93af-42cc-9412-c404ea46c443",
        "colab": {
          "base_uri": "https://localhost:8080/",
          "height": 349
        }
      },
      "source": [
        "data.describe()"
      ],
      "execution_count": 10,
      "outputs": [
        {
          "output_type": "execute_result",
          "data": {
            "text/html": [
              "<div>\n",
              "<style scoped>\n",
              "    .dataframe tbody tr th:only-of-type {\n",
              "        vertical-align: middle;\n",
              "    }\n",
              "\n",
              "    .dataframe tbody tr th {\n",
              "        vertical-align: top;\n",
              "    }\n",
              "\n",
              "    .dataframe thead th {\n",
              "        text-align: right;\n",
              "    }\n",
              "</style>\n",
              "<table border=\"1\" class=\"dataframe\">\n",
              "  <thead>\n",
              "    <tr style=\"text-align: right;\">\n",
              "      <th></th>\n",
              "      <th>mean radius</th>\n",
              "      <th>mean texture</th>\n",
              "      <th>mean perimeter</th>\n",
              "      <th>mean area</th>\n",
              "      <th>mean smoothness</th>\n",
              "      <th>mean compactness</th>\n",
              "      <th>mean concavity</th>\n",
              "      <th>mean concave points</th>\n",
              "      <th>mean symmetry</th>\n",
              "      <th>mean fractal dimension</th>\n",
              "      <th>radius error</th>\n",
              "      <th>texture error</th>\n",
              "      <th>perimeter error</th>\n",
              "      <th>area error</th>\n",
              "      <th>smoothness error</th>\n",
              "      <th>compactness error</th>\n",
              "      <th>concavity error</th>\n",
              "      <th>concave points error</th>\n",
              "      <th>symmetry error</th>\n",
              "      <th>fractal dimension error</th>\n",
              "      <th>worst radius</th>\n",
              "      <th>worst texture</th>\n",
              "      <th>worst perimeter</th>\n",
              "      <th>worst area</th>\n",
              "      <th>worst smoothness</th>\n",
              "      <th>worst compactness</th>\n",
              "      <th>worst concavity</th>\n",
              "      <th>worst concave points</th>\n",
              "      <th>worst symmetry</th>\n",
              "      <th>worst fractal dimension</th>\n",
              "      <th>class</th>\n",
              "    </tr>\n",
              "  </thead>\n",
              "  <tbody>\n",
              "    <tr>\n",
              "      <th>count</th>\n",
              "      <td>569.000000</td>\n",
              "      <td>569.000000</td>\n",
              "      <td>569.000000</td>\n",
              "      <td>569.000000</td>\n",
              "      <td>569.000000</td>\n",
              "      <td>569.000000</td>\n",
              "      <td>569.000000</td>\n",
              "      <td>569.000000</td>\n",
              "      <td>569.000000</td>\n",
              "      <td>569.000000</td>\n",
              "      <td>569.000000</td>\n",
              "      <td>569.000000</td>\n",
              "      <td>569.000000</td>\n",
              "      <td>569.000000</td>\n",
              "      <td>569.000000</td>\n",
              "      <td>569.000000</td>\n",
              "      <td>569.000000</td>\n",
              "      <td>569.000000</td>\n",
              "      <td>569.000000</td>\n",
              "      <td>569.000000</td>\n",
              "      <td>569.000000</td>\n",
              "      <td>569.000000</td>\n",
              "      <td>569.000000</td>\n",
              "      <td>569.000000</td>\n",
              "      <td>569.000000</td>\n",
              "      <td>569.000000</td>\n",
              "      <td>569.000000</td>\n",
              "      <td>569.000000</td>\n",
              "      <td>569.000000</td>\n",
              "      <td>569.000000</td>\n",
              "      <td>569.000000</td>\n",
              "    </tr>\n",
              "    <tr>\n",
              "      <th>mean</th>\n",
              "      <td>14.127292</td>\n",
              "      <td>19.289649</td>\n",
              "      <td>91.969033</td>\n",
              "      <td>654.889104</td>\n",
              "      <td>0.096360</td>\n",
              "      <td>0.104341</td>\n",
              "      <td>0.088799</td>\n",
              "      <td>0.048919</td>\n",
              "      <td>0.181162</td>\n",
              "      <td>0.062798</td>\n",
              "      <td>0.405172</td>\n",
              "      <td>1.216853</td>\n",
              "      <td>2.866059</td>\n",
              "      <td>40.337079</td>\n",
              "      <td>0.007041</td>\n",
              "      <td>0.025478</td>\n",
              "      <td>0.031894</td>\n",
              "      <td>0.011796</td>\n",
              "      <td>0.020542</td>\n",
              "      <td>0.003795</td>\n",
              "      <td>16.269190</td>\n",
              "      <td>25.677223</td>\n",
              "      <td>107.261213</td>\n",
              "      <td>880.583128</td>\n",
              "      <td>0.132369</td>\n",
              "      <td>0.254265</td>\n",
              "      <td>0.272188</td>\n",
              "      <td>0.114606</td>\n",
              "      <td>0.290076</td>\n",
              "      <td>0.083946</td>\n",
              "      <td>0.627417</td>\n",
              "    </tr>\n",
              "    <tr>\n",
              "      <th>std</th>\n",
              "      <td>3.524049</td>\n",
              "      <td>4.301036</td>\n",
              "      <td>24.298981</td>\n",
              "      <td>351.914129</td>\n",
              "      <td>0.014064</td>\n",
              "      <td>0.052813</td>\n",
              "      <td>0.079720</td>\n",
              "      <td>0.038803</td>\n",
              "      <td>0.027414</td>\n",
              "      <td>0.007060</td>\n",
              "      <td>0.277313</td>\n",
              "      <td>0.551648</td>\n",
              "      <td>2.021855</td>\n",
              "      <td>45.491006</td>\n",
              "      <td>0.003003</td>\n",
              "      <td>0.017908</td>\n",
              "      <td>0.030186</td>\n",
              "      <td>0.006170</td>\n",
              "      <td>0.008266</td>\n",
              "      <td>0.002646</td>\n",
              "      <td>4.833242</td>\n",
              "      <td>6.146258</td>\n",
              "      <td>33.602542</td>\n",
              "      <td>569.356993</td>\n",
              "      <td>0.022832</td>\n",
              "      <td>0.157336</td>\n",
              "      <td>0.208624</td>\n",
              "      <td>0.065732</td>\n",
              "      <td>0.061867</td>\n",
              "      <td>0.018061</td>\n",
              "      <td>0.483918</td>\n",
              "    </tr>\n",
              "    <tr>\n",
              "      <th>min</th>\n",
              "      <td>6.981000</td>\n",
              "      <td>9.710000</td>\n",
              "      <td>43.790000</td>\n",
              "      <td>143.500000</td>\n",
              "      <td>0.052630</td>\n",
              "      <td>0.019380</td>\n",
              "      <td>0.000000</td>\n",
              "      <td>0.000000</td>\n",
              "      <td>0.106000</td>\n",
              "      <td>0.049960</td>\n",
              "      <td>0.111500</td>\n",
              "      <td>0.360200</td>\n",
              "      <td>0.757000</td>\n",
              "      <td>6.802000</td>\n",
              "      <td>0.001713</td>\n",
              "      <td>0.002252</td>\n",
              "      <td>0.000000</td>\n",
              "      <td>0.000000</td>\n",
              "      <td>0.007882</td>\n",
              "      <td>0.000895</td>\n",
              "      <td>7.930000</td>\n",
              "      <td>12.020000</td>\n",
              "      <td>50.410000</td>\n",
              "      <td>185.200000</td>\n",
              "      <td>0.071170</td>\n",
              "      <td>0.027290</td>\n",
              "      <td>0.000000</td>\n",
              "      <td>0.000000</td>\n",
              "      <td>0.156500</td>\n",
              "      <td>0.055040</td>\n",
              "      <td>0.000000</td>\n",
              "    </tr>\n",
              "    <tr>\n",
              "      <th>25%</th>\n",
              "      <td>11.700000</td>\n",
              "      <td>16.170000</td>\n",
              "      <td>75.170000</td>\n",
              "      <td>420.300000</td>\n",
              "      <td>0.086370</td>\n",
              "      <td>0.064920</td>\n",
              "      <td>0.029560</td>\n",
              "      <td>0.020310</td>\n",
              "      <td>0.161900</td>\n",
              "      <td>0.057700</td>\n",
              "      <td>0.232400</td>\n",
              "      <td>0.833900</td>\n",
              "      <td>1.606000</td>\n",
              "      <td>17.850000</td>\n",
              "      <td>0.005169</td>\n",
              "      <td>0.013080</td>\n",
              "      <td>0.015090</td>\n",
              "      <td>0.007638</td>\n",
              "      <td>0.015160</td>\n",
              "      <td>0.002248</td>\n",
              "      <td>13.010000</td>\n",
              "      <td>21.080000</td>\n",
              "      <td>84.110000</td>\n",
              "      <td>515.300000</td>\n",
              "      <td>0.116600</td>\n",
              "      <td>0.147200</td>\n",
              "      <td>0.114500</td>\n",
              "      <td>0.064930</td>\n",
              "      <td>0.250400</td>\n",
              "      <td>0.071460</td>\n",
              "      <td>0.000000</td>\n",
              "    </tr>\n",
              "    <tr>\n",
              "      <th>50%</th>\n",
              "      <td>13.370000</td>\n",
              "      <td>18.840000</td>\n",
              "      <td>86.240000</td>\n",
              "      <td>551.100000</td>\n",
              "      <td>0.095870</td>\n",
              "      <td>0.092630</td>\n",
              "      <td>0.061540</td>\n",
              "      <td>0.033500</td>\n",
              "      <td>0.179200</td>\n",
              "      <td>0.061540</td>\n",
              "      <td>0.324200</td>\n",
              "      <td>1.108000</td>\n",
              "      <td>2.287000</td>\n",
              "      <td>24.530000</td>\n",
              "      <td>0.006380</td>\n",
              "      <td>0.020450</td>\n",
              "      <td>0.025890</td>\n",
              "      <td>0.010930</td>\n",
              "      <td>0.018730</td>\n",
              "      <td>0.003187</td>\n",
              "      <td>14.970000</td>\n",
              "      <td>25.410000</td>\n",
              "      <td>97.660000</td>\n",
              "      <td>686.500000</td>\n",
              "      <td>0.131300</td>\n",
              "      <td>0.211900</td>\n",
              "      <td>0.226700</td>\n",
              "      <td>0.099930</td>\n",
              "      <td>0.282200</td>\n",
              "      <td>0.080040</td>\n",
              "      <td>1.000000</td>\n",
              "    </tr>\n",
              "    <tr>\n",
              "      <th>75%</th>\n",
              "      <td>15.780000</td>\n",
              "      <td>21.800000</td>\n",
              "      <td>104.100000</td>\n",
              "      <td>782.700000</td>\n",
              "      <td>0.105300</td>\n",
              "      <td>0.130400</td>\n",
              "      <td>0.130700</td>\n",
              "      <td>0.074000</td>\n",
              "      <td>0.195700</td>\n",
              "      <td>0.066120</td>\n",
              "      <td>0.478900</td>\n",
              "      <td>1.474000</td>\n",
              "      <td>3.357000</td>\n",
              "      <td>45.190000</td>\n",
              "      <td>0.008146</td>\n",
              "      <td>0.032450</td>\n",
              "      <td>0.042050</td>\n",
              "      <td>0.014710</td>\n",
              "      <td>0.023480</td>\n",
              "      <td>0.004558</td>\n",
              "      <td>18.790000</td>\n",
              "      <td>29.720000</td>\n",
              "      <td>125.400000</td>\n",
              "      <td>1084.000000</td>\n",
              "      <td>0.146000</td>\n",
              "      <td>0.339100</td>\n",
              "      <td>0.382900</td>\n",
              "      <td>0.161400</td>\n",
              "      <td>0.317900</td>\n",
              "      <td>0.092080</td>\n",
              "      <td>1.000000</td>\n",
              "    </tr>\n",
              "    <tr>\n",
              "      <th>max</th>\n",
              "      <td>28.110000</td>\n",
              "      <td>39.280000</td>\n",
              "      <td>188.500000</td>\n",
              "      <td>2501.000000</td>\n",
              "      <td>0.163400</td>\n",
              "      <td>0.345400</td>\n",
              "      <td>0.426800</td>\n",
              "      <td>0.201200</td>\n",
              "      <td>0.304000</td>\n",
              "      <td>0.097440</td>\n",
              "      <td>2.873000</td>\n",
              "      <td>4.885000</td>\n",
              "      <td>21.980000</td>\n",
              "      <td>542.200000</td>\n",
              "      <td>0.031130</td>\n",
              "      <td>0.135400</td>\n",
              "      <td>0.396000</td>\n",
              "      <td>0.052790</td>\n",
              "      <td>0.078950</td>\n",
              "      <td>0.029840</td>\n",
              "      <td>36.040000</td>\n",
              "      <td>49.540000</td>\n",
              "      <td>251.200000</td>\n",
              "      <td>4254.000000</td>\n",
              "      <td>0.222600</td>\n",
              "      <td>1.058000</td>\n",
              "      <td>1.252000</td>\n",
              "      <td>0.291000</td>\n",
              "      <td>0.663800</td>\n",
              "      <td>0.207500</td>\n",
              "      <td>1.000000</td>\n",
              "    </tr>\n",
              "  </tbody>\n",
              "</table>\n",
              "</div>"
            ],
            "text/plain": [
              "       mean radius  mean texture  ...  worst fractal dimension       class\n",
              "count   569.000000    569.000000  ...               569.000000  569.000000\n",
              "mean     14.127292     19.289649  ...                 0.083946    0.627417\n",
              "std       3.524049      4.301036  ...                 0.018061    0.483918\n",
              "min       6.981000      9.710000  ...                 0.055040    0.000000\n",
              "25%      11.700000     16.170000  ...                 0.071460    0.000000\n",
              "50%      13.370000     18.840000  ...                 0.080040    1.000000\n",
              "75%      15.780000     21.800000  ...                 0.092080    1.000000\n",
              "max      28.110000     39.280000  ...                 0.207500    1.000000\n",
              "\n",
              "[8 rows x 31 columns]"
            ]
          },
          "metadata": {
            "tags": []
          },
          "execution_count": 10
        }
      ]
    },
    {
      "cell_type": "code",
      "metadata": {
        "id": "eDkCLEair0KU",
        "colab_type": "code",
        "outputId": "8e5d08bf-5650-4d8b-c445-3d605ce7d438",
        "colab": {
          "base_uri": "https://localhost:8080/",
          "height": 69
        }
      },
      "source": [
        "print(data['class'].value_counts())"
      ],
      "execution_count": 11,
      "outputs": [
        {
          "output_type": "stream",
          "text": [
            "1    357\n",
            "0    212\n",
            "Name: class, dtype: int64\n"
          ],
          "name": "stdout"
        }
      ]
    },
    {
      "cell_type": "code",
      "metadata": {
        "id": "XWEElQvzr0IL",
        "colab_type": "code",
        "outputId": "6ac6e326-56f6-466f-e5b5-7f066f39d88d",
        "colab": {
          "base_uri": "https://localhost:8080/",
          "height": 35
        }
      },
      "source": [
        "print(breast_cancer.target_names)"
      ],
      "execution_count": 12,
      "outputs": [
        {
          "output_type": "stream",
          "text": [
            "['malignant' 'benign']\n"
          ],
          "name": "stdout"
        }
      ]
    },
    {
      "cell_type": "code",
      "metadata": {
        "id": "XKdOtWw4r0E4",
        "colab_type": "code",
        "outputId": "f6e15329-01dd-4b09-dc79-020db5ed999b",
        "colab": {
          "base_uri": "https://localhost:8080/",
          "height": 195
        }
      },
      "source": [
        "data.groupby('class').mean()"
      ],
      "execution_count": 13,
      "outputs": [
        {
          "output_type": "execute_result",
          "data": {
            "text/html": [
              "<div>\n",
              "<style scoped>\n",
              "    .dataframe tbody tr th:only-of-type {\n",
              "        vertical-align: middle;\n",
              "    }\n",
              "\n",
              "    .dataframe tbody tr th {\n",
              "        vertical-align: top;\n",
              "    }\n",
              "\n",
              "    .dataframe thead th {\n",
              "        text-align: right;\n",
              "    }\n",
              "</style>\n",
              "<table border=\"1\" class=\"dataframe\">\n",
              "  <thead>\n",
              "    <tr style=\"text-align: right;\">\n",
              "      <th></th>\n",
              "      <th>mean radius</th>\n",
              "      <th>mean texture</th>\n",
              "      <th>mean perimeter</th>\n",
              "      <th>mean area</th>\n",
              "      <th>mean smoothness</th>\n",
              "      <th>mean compactness</th>\n",
              "      <th>mean concavity</th>\n",
              "      <th>mean concave points</th>\n",
              "      <th>mean symmetry</th>\n",
              "      <th>mean fractal dimension</th>\n",
              "      <th>radius error</th>\n",
              "      <th>texture error</th>\n",
              "      <th>perimeter error</th>\n",
              "      <th>area error</th>\n",
              "      <th>smoothness error</th>\n",
              "      <th>compactness error</th>\n",
              "      <th>concavity error</th>\n",
              "      <th>concave points error</th>\n",
              "      <th>symmetry error</th>\n",
              "      <th>fractal dimension error</th>\n",
              "      <th>worst radius</th>\n",
              "      <th>worst texture</th>\n",
              "      <th>worst perimeter</th>\n",
              "      <th>worst area</th>\n",
              "      <th>worst smoothness</th>\n",
              "      <th>worst compactness</th>\n",
              "      <th>worst concavity</th>\n",
              "      <th>worst concave points</th>\n",
              "      <th>worst symmetry</th>\n",
              "      <th>worst fractal dimension</th>\n",
              "    </tr>\n",
              "    <tr>\n",
              "      <th>class</th>\n",
              "      <th></th>\n",
              "      <th></th>\n",
              "      <th></th>\n",
              "      <th></th>\n",
              "      <th></th>\n",
              "      <th></th>\n",
              "      <th></th>\n",
              "      <th></th>\n",
              "      <th></th>\n",
              "      <th></th>\n",
              "      <th></th>\n",
              "      <th></th>\n",
              "      <th></th>\n",
              "      <th></th>\n",
              "      <th></th>\n",
              "      <th></th>\n",
              "      <th></th>\n",
              "      <th></th>\n",
              "      <th></th>\n",
              "      <th></th>\n",
              "      <th></th>\n",
              "      <th></th>\n",
              "      <th></th>\n",
              "      <th></th>\n",
              "      <th></th>\n",
              "      <th></th>\n",
              "      <th></th>\n",
              "      <th></th>\n",
              "      <th></th>\n",
              "      <th></th>\n",
              "    </tr>\n",
              "  </thead>\n",
              "  <tbody>\n",
              "    <tr>\n",
              "      <th>0</th>\n",
              "      <td>17.462830</td>\n",
              "      <td>21.604906</td>\n",
              "      <td>115.365377</td>\n",
              "      <td>978.376415</td>\n",
              "      <td>0.102898</td>\n",
              "      <td>0.145188</td>\n",
              "      <td>0.160775</td>\n",
              "      <td>0.087990</td>\n",
              "      <td>0.192909</td>\n",
              "      <td>0.062680</td>\n",
              "      <td>0.609083</td>\n",
              "      <td>1.210915</td>\n",
              "      <td>4.323929</td>\n",
              "      <td>72.672406</td>\n",
              "      <td>0.006780</td>\n",
              "      <td>0.032281</td>\n",
              "      <td>0.041824</td>\n",
              "      <td>0.015060</td>\n",
              "      <td>0.020472</td>\n",
              "      <td>0.004062</td>\n",
              "      <td>21.134811</td>\n",
              "      <td>29.318208</td>\n",
              "      <td>141.370330</td>\n",
              "      <td>1422.286321</td>\n",
              "      <td>0.144845</td>\n",
              "      <td>0.374824</td>\n",
              "      <td>0.450606</td>\n",
              "      <td>0.182237</td>\n",
              "      <td>0.323468</td>\n",
              "      <td>0.091530</td>\n",
              "    </tr>\n",
              "    <tr>\n",
              "      <th>1</th>\n",
              "      <td>12.146524</td>\n",
              "      <td>17.914762</td>\n",
              "      <td>78.075406</td>\n",
              "      <td>462.790196</td>\n",
              "      <td>0.092478</td>\n",
              "      <td>0.080085</td>\n",
              "      <td>0.046058</td>\n",
              "      <td>0.025717</td>\n",
              "      <td>0.174186</td>\n",
              "      <td>0.062867</td>\n",
              "      <td>0.284082</td>\n",
              "      <td>1.220380</td>\n",
              "      <td>2.000321</td>\n",
              "      <td>21.135148</td>\n",
              "      <td>0.007196</td>\n",
              "      <td>0.021438</td>\n",
              "      <td>0.025997</td>\n",
              "      <td>0.009858</td>\n",
              "      <td>0.020584</td>\n",
              "      <td>0.003636</td>\n",
              "      <td>13.379801</td>\n",
              "      <td>23.515070</td>\n",
              "      <td>87.005938</td>\n",
              "      <td>558.899440</td>\n",
              "      <td>0.124959</td>\n",
              "      <td>0.182673</td>\n",
              "      <td>0.166238</td>\n",
              "      <td>0.074444</td>\n",
              "      <td>0.270246</td>\n",
              "      <td>0.079442</td>\n",
              "    </tr>\n",
              "  </tbody>\n",
              "</table>\n",
              "</div>"
            ],
            "text/plain": [
              "       mean radius  mean texture  ...  worst symmetry  worst fractal dimension\n",
              "class                             ...                                         \n",
              "0        17.462830     21.604906  ...        0.323468                 0.091530\n",
              "1        12.146524     17.914762  ...        0.270246                 0.079442\n",
              "\n",
              "[2 rows x 30 columns]"
            ]
          },
          "metadata": {
            "tags": []
          },
          "execution_count": 13
        }
      ]
    },
    {
      "cell_type": "markdown",
      "metadata": {
        "id": "bdisf5OquiAJ",
        "colab_type": "text"
      },
      "source": [
        "# Test train split"
      ]
    },
    {
      "cell_type": "code",
      "metadata": {
        "id": "2Yn-E2Qntxse",
        "colab_type": "code",
        "colab": {}
      },
      "source": [
        "from sklearn.model_selection import train_test_split\n"
      ],
      "execution_count": 0,
      "outputs": []
    },
    {
      "cell_type": "code",
      "metadata": {
        "id": "LMgc1XhqtxqZ",
        "colab_type": "code",
        "colab": {}
      },
      "source": [
        "X = data.drop('class',axis = 1)\n",
        "\n",
        "Y = data['class']"
      ],
      "execution_count": 0,
      "outputs": []
    },
    {
      "cell_type": "code",
      "metadata": {
        "id": "0-0guTRUtxn0",
        "colab_type": "code",
        "outputId": "c7599891-b3f7-498f-9b21-8f0fd685466b",
        "colab": {
          "base_uri": "https://localhost:8080/",
          "height": 35
        }
      },
      "source": [
        "type(X)"
      ],
      "execution_count": 16,
      "outputs": [
        {
          "output_type": "execute_result",
          "data": {
            "text/plain": [
              "pandas.core.frame.DataFrame"
            ]
          },
          "metadata": {
            "tags": []
          },
          "execution_count": 16
        }
      ]
    },
    {
      "cell_type": "code",
      "metadata": {
        "id": "XclC0fewtxk4",
        "colab_type": "code",
        "colab": {}
      },
      "source": [
        "X_train, X_test, Y_train, Y_test = train_test_split(X,Y)"
      ],
      "execution_count": 0,
      "outputs": []
    },
    {
      "cell_type": "code",
      "metadata": {
        "id": "1jZdQB4Itxiv",
        "colab_type": "code",
        "outputId": "f4a9c135-0a6d-4fe5-8b1f-66fc9880b35b",
        "colab": {
          "base_uri": "https://localhost:8080/",
          "height": 35
        }
      },
      "source": [
        "print(X.shape, X_train.shape, X_test.shape)"
      ],
      "execution_count": 18,
      "outputs": [
        {
          "output_type": "stream",
          "text": [
            "(569, 30) (426, 30) (143, 30)\n"
          ],
          "name": "stdout"
        }
      ]
    },
    {
      "cell_type": "code",
      "metadata": {
        "id": "1mm102CStxfa",
        "colab_type": "code",
        "colab": {}
      },
      "source": [
        "X_train, X_test, Y_train, Y_test = train_test_split(X,Y, test_size = 0.1)"
      ],
      "execution_count": 0,
      "outputs": []
    },
    {
      "cell_type": "code",
      "metadata": {
        "id": "VuA-tdTEtxd0",
        "colab_type": "code",
        "outputId": "6d84d91e-13b7-46a2-8df7-7f17c5e55de9",
        "colab": {
          "base_uri": "https://localhost:8080/",
          "height": 35
        }
      },
      "source": [
        "print(Y.mean(), Y_train.mean(), Y_test.mean())"
      ],
      "execution_count": 20,
      "outputs": [
        {
          "output_type": "stream",
          "text": [
            "0.6274165202108963 0.62890625 0.6140350877192983\n"
          ],
          "name": "stdout"
        }
      ]
    },
    {
      "cell_type": "code",
      "metadata": {
        "id": "HWXWegN7txak",
        "colab_type": "code",
        "colab": {}
      },
      "source": [
        "X_train, X_test, Y_train, Y_test = train_test_split(X,Y, test_size = 0.1, stratify = Y)"
      ],
      "execution_count": 0,
      "outputs": []
    },
    {
      "cell_type": "code",
      "metadata": {
        "id": "m2swmGJ8r0AA",
        "colab_type": "code",
        "outputId": "cd4a3ad0-635a-4907-dbac-92fa5c6b030e",
        "colab": {
          "base_uri": "https://localhost:8080/",
          "height": 1000
        }
      },
      "source": [
        "print(X.mean(), X_train.mean(), X_test.mean())"
      ],
      "execution_count": 22,
      "outputs": [
        {
          "output_type": "stream",
          "text": [
            "mean radius                 14.127292\n",
            "mean texture                19.289649\n",
            "mean perimeter              91.969033\n",
            "mean area                  654.889104\n",
            "mean smoothness              0.096360\n",
            "mean compactness             0.104341\n",
            "mean concavity               0.088799\n",
            "mean concave points          0.048919\n",
            "mean symmetry                0.181162\n",
            "mean fractal dimension       0.062798\n",
            "radius error                 0.405172\n",
            "texture error                1.216853\n",
            "perimeter error              2.866059\n",
            "area error                  40.337079\n",
            "smoothness error             0.007041\n",
            "compactness error            0.025478\n",
            "concavity error              0.031894\n",
            "concave points error         0.011796\n",
            "symmetry error               0.020542\n",
            "fractal dimension error      0.003795\n",
            "worst radius                16.269190\n",
            "worst texture               25.677223\n",
            "worst perimeter            107.261213\n",
            "worst area                 880.583128\n",
            "worst smoothness             0.132369\n",
            "worst compactness            0.254265\n",
            "worst concavity              0.272188\n",
            "worst concave points         0.114606\n",
            "worst symmetry               0.290076\n",
            "worst fractal dimension      0.083946\n",
            "dtype: float64 mean radius                 14.116672\n",
            "mean texture                19.365547\n",
            "mean perimeter              91.877402\n",
            "mean area                  653.648242\n",
            "mean smoothness              0.096500\n",
            "mean compactness             0.103738\n",
            "mean concavity               0.088430\n",
            "mean concave points          0.049016\n",
            "mean symmetry                0.181192\n",
            "mean fractal dimension       0.062704\n",
            "radius error                 0.400115\n",
            "texture error                1.224349\n",
            "perimeter error              2.822405\n",
            "area error                  39.491291\n",
            "smoothness error             0.007070\n",
            "compactness error            0.025216\n",
            "concavity error              0.031542\n",
            "concave points error         0.011725\n",
            "symmetry error               0.020599\n",
            "fractal dimension error      0.003755\n",
            "worst radius                16.247607\n",
            "worst texture               25.794590\n",
            "worst perimeter            107.040723\n",
            "worst area                 878.325195\n",
            "worst smoothness             0.132642\n",
            "worst compactness            0.252547\n",
            "worst concavity              0.270385\n",
            "worst concave points         0.114320\n",
            "worst symmetry               0.290630\n",
            "worst fractal dimension      0.083715\n",
            "dtype: float64 mean radius                 14.222684\n",
            "mean texture                18.607895\n",
            "mean perimeter              92.792105\n",
            "mean area                  666.035088\n",
            "mean smoothness              0.095106\n",
            "mean compactness             0.109755\n",
            "mean concavity               0.092120\n",
            "mean concave points          0.048049\n",
            "mean symmetry                0.180891\n",
            "mean fractal dimension       0.063639\n",
            "radius error                 0.450596\n",
            "texture error                1.149521\n",
            "perimeter error              3.258179\n",
            "area error                  47.934333\n",
            "smoothness error             0.006776\n",
            "compactness error            0.027830\n",
            "concavity error              0.035057\n",
            "concave points error         0.012439\n",
            "symmetry error               0.020031\n",
            "fractal dimension error      0.004153\n",
            "worst radius                16.463053\n",
            "worst texture               24.622982\n",
            "worst perimeter            109.241754\n",
            "worst area                 900.864912\n",
            "worst smoothness             0.129913\n",
            "worst compactness            0.269701\n",
            "worst concavity              0.288385\n",
            "worst concave points         0.117180\n",
            "worst symmetry               0.285096\n",
            "worst fractal dimension      0.086020\n",
            "dtype: float64\n"
          ],
          "name": "stdout"
        }
      ]
    },
    {
      "cell_type": "markdown",
      "metadata": {
        "id": "mUk9ZxL6y6Vx",
        "colab_type": "text"
      },
      "source": [
        "# Binarisation of input\n"
      ]
    },
    {
      "cell_type": "code",
      "metadata": {
        "id": "LXzDy7iyyBkv",
        "colab_type": "code",
        "colab": {}
      },
      "source": [
        "import matplotlib.pyplot as plt\n"
      ],
      "execution_count": 0,
      "outputs": []
    },
    {
      "cell_type": "code",
      "metadata": {
        "id": "6G2hhWReyBfI",
        "colab_type": "code",
        "outputId": "e215fd62-bef8-4b37-e6e6-4d0e0bfe21b9",
        "colab": {
          "base_uri": "https://localhost:8080/",
          "height": 374
        }
      },
      "source": [
        "plt.plot(X_train.T, '*')\n",
        "plt.xticks(rotation= 'vertical')\n",
        "plt.show()"
      ],
      "execution_count": 24,
      "outputs": [
        {
          "output_type": "display_data",
          "data": {
            "image/png": "[encoded data removed]",
            "text/plain": [
              "<Figure size 432x288 with 1 Axes>"
            ]
          },
          "metadata": {
            "tags": []
          }
        }
      ]
    },
    {
      "cell_type": "code",
      "metadata": {
        "id": "DEjlgNh5yBWk",
        "colab_type": "code",
        "colab": {}
      },
      "source": [
        "X_binarised_3_train = X_train['mean area'].map(lambda x: 0 if x < 1000 else 1)"
      ],
      "execution_count": 0,
      "outputs": []
    },
    {
      "cell_type": "code",
      "metadata": {
        "id": "T-ESzL3TyBOw",
        "colab_type": "code",
        "outputId": "6b1f55d8-49dd-4795-b207-37d9df192fb2",
        "colab": {
          "base_uri": "https://localhost:8080/",
          "height": 283
        }
      },
      "source": [
        "plt.plot(X_binarised_3_train, '8')"
      ],
      "execution_count": 26,
      "outputs": [
        {
          "output_type": "execute_result",
          "data": {
            "text/plain": [
              "[<matplotlib.lines.Line2D at 0x7f6c8f242860>]"
            ]
          },
          "metadata": {
            "tags": []
          },
          "execution_count": 26
        },
        {
          "output_type": "display_data",
          "data": {
            "image/png": "[encoded data removed]",
            "text/plain": [
              "<Figure size 432x288 with 1 Axes>"
            ]
          },
          "metadata": {
            "tags": []
          }
        }
      ]
    },
    {
      "cell_type": "code",
      "metadata": {
        "id": "O2odpMUayBJZ",
        "colab_type": "code",
        "colab": {}
      },
      "source": [
        "X_binarised_train = X_train.apply(pd.cut, bins = 2, labels= [1,0])"
      ],
      "execution_count": 0,
      "outputs": []
    },
    {
      "cell_type": "code",
      "metadata": {
        "id": "0e0_yYi_yBBY",
        "colab_type": "code",
        "outputId": "196ec20c-3502-43c3-9528-8a535b3e0922",
        "colab": {
          "base_uri": "https://localhost:8080/",
          "height": 265
        }
      },
      "source": [
        "plt.plot(X_binarised_train,'8')\n",
        "plt.show()"
      ],
      "execution_count": 28,
      "outputs": [
        {
          "output_type": "display_data",
          "data": {
            "image/png": "[encoded data removed]",
            "text/plain": [
              "<Figure size 432x288 with 1 Axes>"
            ]
          },
          "metadata": {
            "tags": []
          }
        }
      ]
    },
    {
      "cell_type": "code",
      "metadata": {
        "id": "q2UL8QAjyA5e",
        "colab_type": "code",
        "colab": {}
      },
      "source": [
        "X_binarised_test = X_test.apply(pd.cut, bins = 2, labels= [1,0])"
      ],
      "execution_count": 0,
      "outputs": []
    },
    {
      "cell_type": "code",
      "metadata": {
        "id": "58oazlPq1DXM",
        "colab_type": "code",
        "colab": {}
      },
      "source": [
        "X_binarised_test = X_binarised_test.values\n",
        "X_binarised_train = X_binarised_train.values\n"
      ],
      "execution_count": 0,
      "outputs": []
    },
    {
      "cell_type": "code",
      "metadata": {
        "id": "qwIFcxt41DTz",
        "colab_type": "code",
        "outputId": "346050fe-3938-46bf-9c49-4e97f58eca1a",
        "colab": {
          "base_uri": "https://localhost:8080/",
          "height": 35
        }
      },
      "source": [
        "type(X_binarised_train)"
      ],
      "execution_count": 31,
      "outputs": [
        {
          "output_type": "execute_result",
          "data": {
            "text/plain": [
              "numpy.ndarray"
            ]
          },
          "metadata": {
            "tags": []
          },
          "execution_count": 31
        }
      ]
    },
    {
      "cell_type": "markdown",
      "metadata": {
        "id": "UWu2DC9M1WU6",
        "colab_type": "text"
      },
      "source": [
        "#MP neuron model"
      ]
    },
    {
      "cell_type": "code",
      "metadata": {
        "id": "Qz9RbEP_3Hxr",
        "colab_type": "code",
        "colab": {}
      },
      "source": [
        "from random import randint"
      ],
      "execution_count": 0,
      "outputs": []
    },
    {
      "cell_type": "code",
      "metadata": {
        "id": "W5mIlKqH1DSO",
        "colab_type": "code",
        "outputId": "71cfa707-5ed9-4ed0-edea-a166c7a3df0b",
        "colab": {
          "base_uri": "https://localhost:8080/",
          "height": 69
        }
      },
      "source": [
        "b = 3\n",
        "\n",
        "i = randint(0, X_binarised_train.shape[0])\n",
        "\n",
        "print('For row ',i)\n",
        "if (np.sum(X_binarised_train[100, :]) >= b):\n",
        "  print('MP Neuron inference is malignant')\n",
        "else:\n",
        "  print('MP Neuron inference is benign')\n",
        "\n",
        "if (Y_train[i] == 1):\n",
        "  print(\"MALI\")\n",
        "else:\n",
        "  print(\"begign\")"
      ],
      "execution_count": 33,
      "outputs": [
        {
          "output_type": "stream",
          "text": [
            "For row  241\n",
            "MP Neuron inference is malignant\n",
            "MALI\n"
          ],
          "name": "stdout"
        }
      ]
    },
    {
      "cell_type": "code",
      "metadata": {
        "id": "BCYo9OWN1DO7",
        "colab_type": "code",
        "outputId": "424e9743-3d59-4491-8522-3dc56e97d048",
        "colab": {
          "base_uri": "https://localhost:8080/",
          "height": 35
        }
      },
      "source": [
        "b = 3\n",
        "\n",
        "Y_pred_train = []\n",
        "accuracy_rows = 0\n",
        "for x,y in zip(X_binarised_train,Y_train):\n",
        "  Y_pred = (np.sum(x) >= b)\n",
        "  Y_pred_train.append(Y_pred)\n",
        "  accuracy_rows += (y==Y_pred)\n",
        "\n",
        "print(accuracy_rows, accuracy_rows/X_binarised_train.shape[0])"
      ],
      "execution_count": 34,
      "outputs": [
        {
          "output_type": "stream",
          "text": [
            "321 0.626953125\n"
          ],
          "name": "stdout"
        }
      ]
    },
    {
      "cell_type": "code",
      "metadata": {
        "id": "Y-ikJFEd1DNZ",
        "colab_type": "code",
        "outputId": "c1661bba-3524-43b0-84df-f7e957ea65ed",
        "colab": {
          "base_uri": "https://localhost:8080/",
          "height": 555
        }
      },
      "source": [
        "for b in range(X_binarised_train.shape[1]+1):\n",
        "  Y_pred_train = []\n",
        "  accuracy_rows = 0\n",
        "  for x,y in zip(X_binarised_train,Y_train):\n",
        "    Y_pred = (np.sum(x) >= b)\n",
        "    Y_pred_train.append(Y_pred)\n",
        "    accuracy_rows += (y==Y_pred)\n",
        "\n",
        "  print(b, accuracy_rows/X_binarised_train.shape[0])"
      ],
      "execution_count": 35,
      "outputs": [
        {
          "output_type": "stream",
          "text": [
            "0 0.626953125\n",
            "1 0.626953125\n",
            "2 0.626953125\n",
            "3 0.626953125\n",
            "4 0.626953125\n",
            "5 0.626953125\n",
            "6 0.626953125\n",
            "7 0.626953125\n",
            "8 0.626953125\n",
            "9 0.626953125\n",
            "10 0.626953125\n",
            "11 0.626953125\n",
            "12 0.626953125\n",
            "13 0.630859375\n",
            "14 0.634765625\n",
            "15 0.634765625\n",
            "16 0.642578125\n",
            "17 0.65234375\n",
            "18 0.66015625\n",
            "19 0.6640625\n",
            "20 0.677734375\n",
            "21 0.689453125\n",
            "22 0.708984375\n",
            "23 0.732421875\n",
            "24 0.76953125\n",
            "25 0.80078125\n",
            "26 0.83203125\n",
            "27 0.85546875\n",
            "28 0.85546875\n",
            "29 0.81640625\n",
            "30 0.736328125\n"
          ],
          "name": "stdout"
        }
      ]
    },
    {
      "cell_type": "code",
      "metadata": {
        "id": "xWOkGqYC7HBM",
        "colab_type": "code",
        "colab": {}
      },
      "source": [
        "from sklearn.metrics import accuracy_score"
      ],
      "execution_count": 0,
      "outputs": []
    },
    {
      "cell_type": "code",
      "metadata": {
        "id": "4Py8bMDw1DKH",
        "colab_type": "code",
        "outputId": "07047e34-33a0-4d0f-afd8-2a6902dbae44",
        "colab": {
          "base_uri": "https://localhost:8080/",
          "height": 35
        }
      },
      "source": [
        "b = 21\n",
        "Y_pred_test = []\n",
        "accuracy_rows = 0\n",
        "for x in X_binarised_test:\n",
        "  Y_pred = (np.sum(x) >= b)\n",
        "  Y_pred_test.append(Y_pred)\n",
        "    \n",
        "accuracy = accuracy_score(Y_pred_test, Y_test)\n",
        "print(b, accuracy)"
      ],
      "execution_count": 37,
      "outputs": [
        {
          "output_type": "stream",
          "text": [
            "21 0.8596491228070176\n"
          ],
          "name": "stdout"
        }
      ]
    },
    {
      "cell_type": "markdown",
      "metadata": {
        "id": "7S2-Cbt68H4o",
        "colab_type": "text"
      },
      "source": [
        "#MP Neuron class"
      ]
    },
    {
      "cell_type": "code",
      "metadata": {
        "id": "rvuThGQX645P",
        "colab_type": "code",
        "colab": {}
      },
      "source": [
        "class MPNeuron:\n",
        "  def __init__(self):\n",
        "    self.b = None\n",
        "\n",
        "  def model(self, x):\n",
        "    return(sum(x) >= self.b)\n",
        "\n",
        "  def predict(self, X):\n",
        "    Y = []\n",
        "    for x in X:\n",
        "      result = self.model(x)\n",
        "      Y.append(result)\n",
        "    return np.array(Y)\n",
        "  def fit(self, X,Y):\n",
        "    accuracy = {}\n",
        "    for b in range(X.shape[1] + 1):\n",
        "      self.b = b\n",
        "      y_pred = self.predict(X)\n",
        "      accuracy[b] = accuracy_score(y_pred, Y)\n",
        "\n",
        "    best_b = max(accuracy, key = accuracy.get)\n",
        "    self.b = best_b\n",
        "    print('Optimal value of b is', best_b)\n",
        "    print('Highest accuracy is', accuracy[best_b])"
      ],
      "execution_count": 0,
      "outputs": []
    },
    {
      "cell_type": "code",
      "metadata": {
        "id": "7NZZAuOa641i",
        "colab_type": "code",
        "outputId": "a5cd5a0b-9be4-47ef-dbae-8ce170200811",
        "colab": {
          "base_uri": "https://localhost:8080/",
          "height": 52
        }
      },
      "source": [
        "mp_neuron = MPNeuron()\n",
        "\n",
        "mp_neuron.fit(X_binarised_train, Y_train)"
      ],
      "execution_count": 39,
      "outputs": [
        {
          "output_type": "stream",
          "text": [
            "Optimal value of b is 27\n",
            "Highest accuracy is 0.85546875\n"
          ],
          "name": "stdout"
        }
      ]
    },
    {
      "cell_type": "code",
      "metadata": {
        "id": "u_gNBwJq64yw",
        "colab_type": "code",
        "outputId": "a7523fa5-28cf-4179-d6b4-a02c530089bb",
        "colab": {
          "base_uri": "https://localhost:8080/",
          "height": 35
        }
      },
      "source": [
        "type(Y_train)"
      ],
      "execution_count": 40,
      "outputs": [
        {
          "output_type": "execute_result",
          "data": {
            "text/plain": [
              "pandas.core.series.Series"
            ]
          },
          "metadata": {
            "tags": []
          },
          "execution_count": 40
        }
      ]
    },
    {
      "cell_type": "code",
      "metadata": {
        "id": "O9eJjQvp64wZ",
        "colab_type": "code",
        "colab": {}
      },
      "source": [
        "Y_test_pred = mp_neuron.predict(X_binarised_test)\n",
        "\n",
        "accuracy_test = accuracy_score(Y_test_pred, Y_test)"
      ],
      "execution_count": 0,
      "outputs": []
    },
    {
      "cell_type": "code",
      "metadata": {
        "id": "ouZxueHG64uG",
        "colab_type": "code",
        "outputId": "dbf8c966-0131-406a-e446-bc8c1ba381e8",
        "colab": {
          "base_uri": "https://localhost:8080/",
          "height": 35
        }
      },
      "source": [
        "print(accuracy_test)"
      ],
      "execution_count": 42,
      "outputs": [
        {
          "output_type": "stream",
          "text": [
            "0.7894736842105263\n"
          ],
          "name": "stdout"
        }
      ]
    },
    {
      "cell_type": "markdown",
      "metadata": {
        "id": "dPbuQXCo1Y1Z",
        "colab_type": "text"
      },
      "source": [
        "# Perceptron Class"
      ]
    },
    {
      "cell_type": "code",
      "metadata": {
        "id": "lpldZ6hB64sN",
        "colab_type": "code",
        "colab": {}
      },
      "source": [
        "class Percetron:\n",
        "  def __init__(self):\n",
        "    self.w = None\n",
        "    self.b = None\n",
        "\n",
        "  def model(self, x):\n",
        "    return 1 if (np.dot(self.w,x) >= self.b) else 0\n",
        "\n",
        "  def predict(self,X):\n",
        "    Y = []\n",
        "    for x in X:\n",
        "      result = self.model(x)\n",
        "      Y.append(result)\n",
        "    return np.array(Y)\n",
        "\n",
        "  def fit(self, X, Y, epochs = 1,lr = 1):\n",
        "    self.w = np.ones(X.shape[1])\n",
        "    self.b = 0\n",
        "    accuracy = {}\n",
        "    max_accuracy = 0\n",
        "    wt_matrix = []\n",
        "    for i in range(epochs):\n",
        "\n",
        "      for x,y in zip(X,Y):\n",
        "        y_pred = self.model(x)\n",
        "        if y == 1 and y_pred == 0:\n",
        "          self.w = self.w + lr * x\n",
        "          self.b = self.b + lr * 1\n",
        "        elif y == 0 and y_pred == 1:\n",
        "          self.w = self.w - lr * x\n",
        "          self.b = self.b - lr * 1\n",
        "      wt_matrix.append(self.w)\n",
        "\n",
        "      accuracy[i] = accuracy_score(self.predict(X),Y)\n",
        "      if (accuracy[i] > max_accuracy ):\n",
        "        max_accuracy = accuracy[i]\n",
        "        ckptw = self.w\n",
        "        ckptb = self.b\n",
        "    self.w = ckptw\n",
        "    self.b = ckptb\n",
        "    accuracy = list(accuracy.values())\n",
        "    print(max_accuracy)\n",
        "    plt.plot(accuracy)\n",
        "    plt.ylim([0, 1])\n",
        "    plt.show()  \n",
        "    return np.array(wt_matrix)\n",
        "\n",
        "  "
      ],
      "execution_count": 0,
      "outputs": []
    },
    {
      "cell_type": "code",
      "metadata": {
        "id": "XedZHTVO64o-",
        "colab_type": "code",
        "colab": {}
      },
      "source": [
        "perceptron = Percetron()"
      ],
      "execution_count": 0,
      "outputs": []
    },
    {
      "cell_type": "code",
      "metadata": {
        "id": "zFwQwFxQ64li",
        "colab_type": "code",
        "colab": {
          "base_uri": "https://localhost:8080/",
          "height": 287
        },
        "outputId": "cbfd924b-ea74-40d4-ebeb-2159b157b682"
      },
      "source": [
        "wt_matrix = perceptron.fit(X_train, Y_train, 100)"
      ],
      "execution_count": 341,
      "outputs": [
        {
          "output_type": "stream",
          "text": [
            "0.921875\n"
          ],
          "name": "stdout"
        },
        {
          "output_type": "display_data",
          "data": {
            "image/png": "[encoded data removed]",
            "text/plain": [
              "<Figure size 432x288 with 1 Axes>"
            ]
          },
          "metadata": {
            "tags": []
          }
        }
      ]
    },
    {
      "cell_type": "code",
      "metadata": {
        "id": "bQ-TBY5G70Hq",
        "colab_type": "code",
        "colab": {
          "base_uri": "https://localhost:8080/",
          "height": 35
        },
        "outputId": "f4ce47b8-5fe7-49a9-fbb0-670056191ef8"
      },
      "source": [
        "Y_pred_test = perceptron.predict(X_test)\n",
        "print(accuracy_score(Y_pred_test, Y_test))"
      ],
      "execution_count": 342,
      "outputs": [
        {
          "output_type": "stream",
          "text": [
            "0.9473684210526315\n"
          ],
          "name": "stdout"
        }
      ]
    },
    {
      "cell_type": "code",
      "metadata": {
        "id": "Rf5o3sTS70C7",
        "colab_type": "code",
        "colab": {
          "base_uri": "https://localhost:8080/",
          "height": 265
        },
        "outputId": "5bba8a13-08d6-4d11-ae74-f2d7f6d876f8"
      },
      "source": [
        "plt.plot(wt_matrix[-1,:])\n",
        "plt.show()"
      ],
      "execution_count": 343,
      "outputs": [
        {
          "output_type": "display_data",
          "data": {
            "image/png": "[encoded data removed]",
            "text/plain": [
              "<Figure size 432x288 with 1 Axes>"
            ]
          },
          "metadata": {
            "tags": []
          }
        }
      ]
    },
    {
      "cell_type": "code",
      "metadata": {
        "id": "JyMcNQHG70AD",
        "colab_type": "code",
        "colab": {}
      },
      "source": [
        "%matplotlib inline\n",
        "from matplotlib import animation, rc\n",
        "from IPython.display import HTML"
      ],
      "execution_count": 0,
      "outputs": []
    },
    {
      "cell_type": "code",
      "metadata": {
        "id": "GRtSRwbH7z-H",
        "colab_type": "code",
        "colab": {
          "base_uri": "https://localhost:8080/",
          "height": 269
        },
        "outputId": "d3739154-4d87-4fed-db1e-1d9f8ffce230"
      },
      "source": [
        "fig, ax = plt.subplots()\n",
        "\n",
        "ax.set_xlim(( 0, wt_matrix.shape[1]))\n",
        "ax.set_ylim((-10000, 25000))\n",
        "\n",
        "line, = ax.plot([], [], lw=2)\n"
      ],
      "execution_count": 358,
      "outputs": [
        {
          "output_type": "display_data",
          "data": {
            "image/png": "[encoded data removed]",
            "text/plain": [
              "<Figure size 432x288 with 1 Axes>"
            ]
          },
          "metadata": {
            "tags": []
          }
        }
      ]
    },
    {
      "cell_type": "code",
      "metadata": {
        "id": "SMksbLNR7z7A",
        "colab_type": "code",
        "colab": {}
      },
      "source": [
        "def animate(i):\n",
        "    x = list(range(wt_matrix.shape[1]))\n",
        "    y = wt_matrix[i, :]\n",
        "    line.set_data(x, y)\n",
        "    return (line,)"
      ],
      "execution_count": 0,
      "outputs": []
    },
    {
      "cell_type": "code",
      "metadata": {
        "id": "gJ8_lqv37z5W",
        "colab_type": "code",
        "colab": {}
      },
      "source": [
        "# call the animator. blit=True means only re-draw the parts that have changed.\n",
        "anim = animation.FuncAnimation(fig, animate, frames=100, interval=200, blit=True)"
      ],
      "execution_count": 0,
      "outputs": []
    },
    {
      "cell_type": "code",
      "metadata": {
        "id": "KwKmJ9Ww7z2J",
        "colab_type": "code",
        "colab": {
          "base_uri": "https://localhost:8080/",
          "height": 309
        },
        "outputId": "05102ff8-66f5-4719-eb09-429ce9bc869e"
      },
      "source": [
        "HTML(anim.to_html5_video())"
      ],
      "execution_count": 363,
      "outputs": [
        {
          "output_type": "execute_result",
          "data": {
            "text/html": [
              "<video width=\"432\" height=\"288\" controls autoplay loop>\n",
              "  <source type=\"video/mp4\" src=\"data:video/mp4;base64,AAAAHGZ0eXBNNFYgAAACAGlzb21pc28yYXZjMQAAAAhmcmVlAACBH21kYXQAAAKtBgX//6ncRem9\n",
              "5tlIt5Ys2CDZI+7veDI2NCAtIGNvcmUgMTUyIHIyODU0IGU5YTU5MDMgLSBILjI2NC9NUEVHLTQg\n",
              "QVZDIGNvZGVjIC0gQ29weWxlZnQgMjAwMy0yMDE3IC0gaHR0cDovL3d3dy52aWRlb2xhbi5vcmcv\n",
              "eDI2NC5odG1sIC0gb3B0aW9uczogY2FiYWM9MSByZWY9MyBkZWJsb2NrPTE6MDowIGFuYWx5c2U9\n",
              "MHgzOjB4MTEzIG1lPWhleCBzdWJtZT03IHBzeT0xIHBzeV9yZD0xLjAwOjAuMDAgbWl4ZWRfcmVm\n",
              "PTEgbWVfcmFuZ2U9MTYgY2hyb21hX21lPTEgdHJlbGxpcz0xIDh4OGRjdD0xIGNxbT0wIGRlYWR6\n",
              "b25lPTIxLDExIGZhc3RfcHNraXA9MSBjaHJvbWFfcXBfb2Zmc2V0PS0yIHRocmVhZHM9MyBsb29r\n",
              "YWhlYWRfdGhyZWFkcz0xIHNsaWNlZF90aHJlYWRzPTAgbnI9MCBkZWNpbWF0ZT0xIGludGVybGFj\n",
              "ZWQ9MCBibHVyYXlfY29tcGF0PTAgY29uc3RyYWluZWRfaW50cmE9MCBiZnJhbWVzPTMgYl9weXJh\n",
              "bWlkPTIgYl9hZGFwdD0xIGJfYmlhcz0wIGRpcmVjdD0xIHdlaWdodGI9MSBvcGVuX2dvcD0wIHdl\n",
              "aWdodHA9MiBrZXlpbnQ9MjUwIGtleWludF9taW49NSBzY2VuZWN1dD00MCBpbnRyYV9yZWZyZXNo\n",
              "PTAgcmNfbG9va2FoZWFkPTQwIHJjPWNyZiBtYnRyZWU9MSBjcmY9MjMuMCBxY29tcD0wLjYwIHFw\n",
              "bWluPTAgcXBtYXg9NjkgcXBzdGVwPTQgaXBfcmF0aW89MS40MCBhcT0xOjEuMDAAgAAAEbtliIQA\n",
              "Ev/+963fgU3AQO1rulc4tMurlDQ9UfaUpni2SAAAAwADlGX8OsidmA88y6GZ/02b2g1gjvLH4xTy\n",
              "2fmUGzfV9ZvyIPYmqrCcmekF02fBENtN882c8j8QE2tyBs1WnoR/slNLhn5TRelWS/9cLLoFcr7H\n",
              "HJ7V73RnK6L+vkur0JyIhZgaXyn/gq2d+r2IkXF/g+83w+AMa+bWulIQAAAYByXzwH/pSc3EK3DJ\n",
              "HrSjkvXOhRXq9XPKf8BRMbnZ+5aMyhKsdTA8008IUQsnFZBA5VnZ+azPkbt3VqPcE88+IAeDC0Ql\n",
              "1zYi+Y4PQdsPYL3USLhQBDI2eLfTL7SjsHVO0jcEguKgQFQ3Lfbo+rSx7e88L6cQHv/0GhxAmn0G\n",
              "ZKPyJfVg+xKtqSLidd/vU6faKI4d56jR0yMDhixrUZJfJwjSBn/AYhk+sbowmpDkaVbH8QKkrtp9\n",
              "lt4imkjEQ9HX8R5TEBBwirbj8CSsWugGUbys0uTNNBh+d81pQq+pWjUGvHAJZEfzK2J/G8B6HE3I\n",
              "cyZngvU6mStBsImOeIcksqQuv5ao07qY4Llmxk1pgYFAAFUBNihPSOaxTmQccgGtOe74j57bmQc+\n",
              "HZR2bDTil3+gmqW3doQjznjbd/9uEb8/z2QZYmtFknY6bpX4oaNsDM4u9F+U8j8N4xpEOQmKkLzV\n",
              "bcLzj+euH13t4pQiNbmdqng5OtAnew0S1nD2ZnMy5dQyQiW2knZafR9pJzrOp1D4xobqlaOq1SQi\n",
              "0EtMPGqGjFQtrh+ABdjbs9ASE1z/fo/A51d34yUHlCjBp7+NpNHKvsA8O/A907Gu0wmgBrNeT1W3\n",
              "MgxSuB+EveoDVMQHVgkNXha/6SNIs3LkBbd0nUmWmFzEmj2FUuV0upW3/VW+7shGZhy3ENIhy52E\n",
              "wlttANjwv7svjjivbHpZA0+L3/qbouF7NC9PbLopuB1GAY1oNpMpxuo+F1zszhbOgP2ipHSf/CRS\n",
              "bsnHEBJaPz2iHyh67bzYU2YfKDpbavPwbj6q78+ZpD6YhT0HXxsvoW8oPHJHSCR4iLzjb5IAUkpi\n",
              "tIPhYipCPDfqxWIXjP0/kSS1zlMYTLBL1GhE15YN0o4FzjMQ1sxT131kDwE2NErd8uLWiE3i2bcs\n",
              "hG9EDaBTR1DOEJdz6l1g++gywQlEgDGh5nddOdZvzsBZoqXFAToG7HlkR/aILHqVTanAAPiU8nPN\n",
              "Jy3EdtO/vCNywBh1lqyC9Bpp3N3QNVwsdgW9gXoArEkH00JhhbxdoIP7zzTF9I+liWQu4PRKOuGc\n",
              "VTvQKljDFlWxoU8C3t2WgqZjJlt7Ja/LR4Mqz4YBzWUeFwzCKKz0v07hX0o7nVlU/aOLwGqf1Md9\n",
              "h0PgG3hW0zgSDUEDMx4dk9rtDYU3NOnRaCbLiyx9VozRHlJBpbiGs9A/GQ7W9BsLLQiEAKFWoIvj\n",
              "rHWm6lWuVtt9tsT0zpzsZWiFEn10KB7/VxotOi3qBGxyHZSUkGb+nV8lsE6hoFaqHiUW9e1J4tS8\n",
              "VLbE2YIzgM9qM2bNn3akRtLq9R/yZnqlERhQZf0xAn2zAhbHGtzv/pb+ZnXm81F3d4R2Ofz675De\n",
              "OSgMsNU7BcFBSZ6EAe7GCWSxjjxuAAj8Uifu74nJK+sQp7sScGQrfUG7xIRkaDW0YHkq0sQAae61\n",
              "rbQ5yhZQkPZTyjjHeBwBPvKu9ALT023gGmgJZmDasG+Xozopj9oyRxFMHuZHihDlqqhnTQILDUiM\n",
              "RsPlSgR23RoLZcXqcaD3dz1Dg7wfs5DZUYU/vJ19MKDsmKDk8hgPNHaKdPh7Z0eBca/5C5JKpIvg\n",
              "HU6S7wTaD5wZRsXbTveFKlG0PEMk0oSIMGmM4zWvtGrxJ84ngM/YoydoFlcXFAdTIfqChQJko5aK\n",
              "Tz/JyAaMLNQfFQhpKtSXwUwKq5GE7oA6l/CNo7MpwKACiEpuYE0MG0rBm+bLa4JMXfsq7YIXTkFb\n",
              "Ga1k0t8hQsWX+eBgUapC1uHC9t4K9EEAI3/IYDZLR52upczSlkqBaFM6ecHxR1cAZIX59R5dq988\n",
              "cwgktKuYW9TgHeUr5vrnATswchvRWfeCWn1Ld12Wvm3c8lIkL9RESKeSoekgJ6b7kcff4ZY5Yhqa\n",
              "uUogY7PVxOYDBVbpZs3L7BReAeYw2tsxwIQQSa7vGq19L/t6E9OzSlfNpd3jY1mWhDIKZfkwxtrM\n",
              "Lbfr0UeNwWs4EiuYAoCsvD/8hf0yLWu733V7EtmwAOsPUZZOn3XvCrZUpT9I6mkTNIQFZSH5taGj\n",
              "wHbDxY+AxnnswJF69tMbHPzSCizrEwTi6axGansD6yAXPxkREC5SOPKpecEHhzIJAQoaYj7o6jax\n",
              "UTDopTx5eZLrnSthcKmdQzOaAR7EnQjKlGfEdyjidUubHjfF3DWgx3qxoA3rct3sChi1HbdtmP/f\n",
              "BZQ0FeRvN+EsR1Sk+g8YwnyqAvpgzapltf8U6b6uwopC86J/4JUBitSoouJn980UTF67mKlW8AQU\n",
              "9F7qDXqZma7W9a8xdXcUv9w568b3Y/q6tUdp4SL7Jox+jg04/4rfkTAPj9I6JfVqk/a7em6gEraX\n",
              "HQEMFICFrzuxe/Fvzd+U1751g6ry04NfaZVsilcZdXdHW/EXvyHTaPYm71yP/hWsPHs/uqx71FNK\n",
              "tUhEh1G5E2dkIgDGxBRkW9BWoOkYLgrIyoa/am0DbFqvT5uxafXaOWp+wi2IkdkQjfriIAkeHOsD\n",
              "XhbUz5lAd4px8o3MB3omX8YoTFYYh1Til1ZUditvhZtpDcNelZ4gDrUKFUdlrZf/QGMiSId7zX0M\n",
              "QUM4P2xc2LxhqO8L/+pP9HoIIxcTn/uzs//HCBnn4E/2F6UvpFNv4E/ytr6THb8HrUg7G5llYUJ/\n",
              "7Tz1VtbbySW2FdHH2CdA7X0qNHtzqJ0/RU+o3/GzKqkfXfO0QcpkkKJKh8LR3QhYGjd3GQH4CHh0\n",
              "rSFlY4U6hdXoW3+M4ONmuGLIWmnGwbFMzAi8KHCN5nlUaPpR5XjXsr2a0R+GYEfx+hJM6ef/3eVC\n",
              "vrDZWg9zzNigQyYd/LsjxaYMYOQVbyFC8r7CJZwnY9Z+B3lRdoYs3HyK6Dql+J1pbV+Od21U7sFQ\n",
              "PSPG19FDM0kcS1fFcOt6Hn/+3zXsYO/quBhzhP1L9fxCvYEq87KR2Vg3ZY/G4jkrwVNyCMU8P9Pb\n",
              "qSHBqq82ckBlM3y5u4l2KhHqsxnB+TGIdb458OPXzdiO3NF1CN+XpVm+rZNS7y90BAMQUDrdcGUu\n",
              "Aa0f9xTiBYiEUtDK8S/xBE/hiAMO/5RxptnH/uBKddiqUpeDq+GEOL3xW/XuroSckNnTrukyXQvR\n",
              "uo/paX4edh7ZGBKE2IZC2l5GKkOhXzi+mkpTBkR1KLIAi4YQkgWT5+ln8LxlPwoTshO0pABJ+Zev\n",
              "8NGlSoF5/ged0WtoowF2JtJIdN8X7PdGTJIMKhST8dUqi+sLs7ARR4m4cG0JXZaWUiONR3LSFPu8\n",
              "W6EO4r51cv0pP6TzpTuXoncY1ZBMiCNiUJ1tVq9q3lgm9mNO84SkNAeHUNB+YgAM+EgIrog3+n/G\n",
              "XEHjX0wpr/jP4KKndvDdayMRuxGKZxoknzvwzOD+jmNQFwAciSL9NLy3pLCdopnOkmiNgvs62IOL\n",
              "n0bJneCvkUbjhirn8edE3bKiFNXSW6wmHQdZ7ktlwnpfJfPnKneZUFOd08twx2I+dxpzNvEKnwMQ\n",
              "iR5//3wKbQRza1whZy690wSKQTS40ptQSLt9JDmixxh1sEj7sSH6U/7JvTtF/syCVSemPxQVe6TQ\n",
              "SNXNtVAwDJZ9KmzlpwLAKcsFHhv/tLvUy2QXQqmZkz+tzCNDvGxftgMs3c0ydAqcuK/O0gkPCUGT\n",
              "0gywExPuqB3Ofm3BUDuX4d2OAtPFooqj3dAefEOSF8f/Hco6UDHGPzp/GE07gltUKxGAdYDogCT/\n",
              "qgxlYdcklyz7stS75oHdouWGAGsuPv7TKhMOuGKe1UcS1gelqDEChN74Z8b8MqiXhxsHGlyF3hHI\n",
              "tgS4BqItwk1fXfJw5Q/ZtjMUraER87EhK5d+z6CJWuO/H1/gm57TnjDQRPI//xiI4b1yoQOBdvLI\n",
              "fNVCKxccFg76YUjQtFbrkq1AYNKYzhvuTaKYB/obZR3sOEOEBpcmmG/x+YuksUp16f6Y6jfOeiHN\n",
              "yfijFvo9P4rn8o8kzf1Bb0ay7H+rKmzsJ1qNXS89SrYx0NCDBaHeqODUoIa68VRsw4w2jKcfckHk\n",
              "/oJg2Y2ZIFC97nJfxs3zrpQ+IS1K34DzM4weIxbb0xXO6mitvfVxZyjXYTApT6N0R1pAJreIZDkN\n",
              "Gz6xtmuLLK0yvKvOKqHkTtCKeR+jvcHE2cCrbmrblxd7euyQITVqIuwmKmBwf2t7SoRDYu+3o1Lp\n",
              "CPdXKZMWHHhBHA9VSV7zJfItbown0z3nn9iGMzPFWOhYUKBJVGqVGJgRMix2Zz29CkOwxmoL9Usf\n",
              "lBPuzzeNWA9chNEA1T1EneE8Ka7RNwA9RRPRBFT/TdW2VDDk0KFF6Rpniwp4gXx5lGjyvtfRLwuw\n",
              "p/yHkJwCIp5tKFmZY4N7mh9dSpJmu0bEnWWrCY61V1l1OS+kyCFFxFf23UHfFlbWgOFnBXtSubVG\n",
              "6jUW0/QaZY0S+92YWIDUQlVgOmfT8yset4VbNgaCKE12Ql6DeAUN8dyLMUKT3aDgjI9YrZQfqXkT\n",
              "D76zA/kQoCuaut40Fx31olSY/2TP3Glal7QirqNs5LaurgNizu0QlxlkKjsWTNHcJ2e+rXwlyCw3\n",
              "WA3N9XyDPlvK5k+4kfpZZFBn8HZqkEIwLX9gZj95TDHSRjB3QgSs5L0rl7J2ClvGUfNvUGS/XIHk\n",
              "DQZGz95jX9nUuLM1YutzLDXZgbqmPoDKxGki1V1MusgD8ZgiKjgVuh34r7pFcfd5Fw21DrHjLxZE\n",
              "y1jsiLWMINVK+Ba5gxD92I5nOmOW40Y2RJgIDZSILdzjj3ioedJWkFq4KXT8u7acYG0VU5agKDKY\n",
              "hsjnlOVXdYrrJVvg5p2XzBH7CG4VZAE/2fRjOpGrnMNnp7zZ9yfd10xpj83+81L5kgNDShagfz5H\n",
              "DMio+Fd+/skWokRMOayrlrWqzSXf7uSm8cSUWgpHFH/ELwbiEofxTya2/X4+a8ey3LBsp6z/OBCN\n",
              "UMYH+RBt8hN2sKyfuzv/fvvRPTWpi2Pa5GMO4raa9aozNbwzd3qnYnbFirl3vzbwhWOpeMc9x8/G\n",
              "Y+lP+DCdQzYBGc8tftKzQCayIrmc97j3Ml7I/WU5srK1TbGGnI6Vb8PZnnomOiePM4yo3qSVw69N\n",
              "Nm1wQCAoZsRDyIto7jd83/BfzTGCfVBXjtPKvhFnfdBVJrFPWkZP5+R0TZaofrxPMKZSSIZGPzqF\n",
              "kSTY5SY4qiBn4DcgPfyCLQm7RY+0njd3jbOqk3Ibi3IXrv6PmmRSij5Sruo1/s/nJ4zjwNo+umM9\n",
              "8e1J6olyYo00OlG5kl3/fRpkJko9wc3lr7geZajUEL5VEIofRrzMff/b4OKQ/483CnyHV69UJrRO\n",
              "4BbxXyTVYaDhh0uVD3fkoqmjsTkM/Wl5dXaPCJrc/pRK4YN3q+YOiEqQu2WJd1OW3zXV33iX9lnJ\n",
              "9hJYRIh/MGzjyBkJy2otXWeZtLSJdPbg/5z9Gi2rjhavlT0wZK4bnlF2OoDf+4LnjjknWu2iAGVI\n",
              "DwDysR5yRnHEJTy3jqnP/hKev93Tf9lw6BOZL9gkRHiO0Z1NnwTbyd6gkqKGzmoopsii2UqonKi+\n",
              "aK4ghD+nv7h/gYwEyAFOq+msqAKgSMrNqELQ8tZVM8zn3Fyz7zylh10tWEyUiUeygd9+OmAW2za3\n",
              "sg7hZzcYD7HNvG4/i/BvXY0Gz/hdgj5UXwFQSZOx4dgElUk/H9wiqA9wCYB7LgHLwR1befpCtbCY\n",
              "Qyh87Q5lJShxVqkg8wtVPf928RDNz6XrJ0Q+4X7/Pq1RQjnN/gWIaRN2jYruK9iKuQU0pJhC6Z7F\n",
              "PGBDFNAdsM/gK30+j+QjrvyCzOsHO0UAAIOdTwKwJuEAAAVNQZohbEEv/rUqgCKNGGUAokOSDzwY\n",
              "OLHKi5No3qrHDzbXRH1/Imagp8yrJNSTRoKmBfsyRT2LOgAy0aaWBJPT03UtZ4GFifHNXhIqUvdv\n",
              "YItBwBBXzVpWFAEDXilSIYE1SuYw84K/B/uTu/qHYloCxsc1pKgRY1erssLwEyJVODl8xEO3imxI\n",
              "oCct8qqWyI369L6O1g5+kygoNG3/iP+wIaQY8k0TO3HHjoQt9sBs0r9CPfHairzenYUwzSNfhEF2\n",
              "vlDFaAFbfyv0wD8gUl5dDh/lmhxKJZtq/p9otXcjKDNpWG2woU3Si0p66BIpXR/raoQQHxPyUCQw\n",
              "SyMqfy8a1HC3SN3I7wZVKaXWq2RzAMG9PIMIEbCgS2+ap2Wny3ND0utAfpqmwFHDIk7lsRAEmc3/\n",
              "MtgmsuCCsqbN5rTEkW2nRfv1mxPG5SElkZ+BTkZPurbXXk0HMfC94E25Znd7MBqA8bqOo8cURA6s\n",
              "idKMNLkXG3l3c4sCasMh4WfDC2P2UFIiRbOwycIeFPmyqDOqO5K+PHGRP3MHIrB3p1NX1OJSSOMz\n",
              "n91ZkF0BbGh5q7km8+EF9aeM8pG72jwuansSHZJBrR6ukUwHHQ2Wj/GBdqJtxUissJlwGA/IyFQt\n",
              "iPctKhAWQ3vKMeYmvvbIhbigvO6WHdXzMu8wuiY/jhXyCilCWDeMXRHchiwB01jigfCCM+mGYq+1\n",
              "X1rZMq90IA81yBWXCr32aPSV+S13MJy7/5sTnLdzR0wTFX7yHQ3gpDZUtWq9u8xRW3vhzcDuUi/n\n",
              "Oag9mG3VCrcazPXUj5+ZE4VSGzSqFEg9hlEw6pXAMf5NWxXk3nTlKMCTCGgUolCvyLgAr1ahJo0b\n",
              "wj+kheiGOqxT87YvSXQ7JE9frx6xg4tUAy7lR1H3t0zJnPLVEu57UVC2YU1n1ljKqZnOsn9qAO3A\n",
              "AArOvs48mcK9NhWdu2x1bANvCJ38UQwWLnsLZdrXHaqxFKwHdI+zYkTT7imQhn+Y+CJuZuuXBRVA\n",
              "IDzz0u0IwLjpLEu1piW70cPl863xsa1AWyc8JxaOvlqI0NmkAtpjTNv1FzOW6RWw2u9t8c6o5myw\n",
              "OzupssalpTTL+a1Ss+giuzDvwdwnornFx71rIoBqsKaN7UdmYCs5tV5fvkD9RI+xIMDu8qcUI9EQ\n",
              "zKUYFAIT1rSJwetOiqaaW1TKlci/kbJlYWn8p/YP/1wkrNoXo+9/6+4oq+dd9l83tvIxhP8qA0il\n",
              "GN2FGj0j1/7PBggGafy+U3s8f9n88p8lmWyUHnYaO91FY7nt2hQnw3b9UYDf7pEDO4Qw6nhYQQGc\n",
              "T8FkoghUhUp/XvEKte0mhNalP2cxqgdXIzrdcn8LqEnoWTP4ndv8dVeipA/QZUwE+pURVKya6fqx\n",
              "hJGTGpRU3E5sFm5up9oNa9JeNukCWSqDWjyj6umnOfWbp26kWSHjzX5dlnfqaHLUFS2Ice1txP4j\n",
              "3m5sH7izqG1/UyqiT2VkbZPMBfYaDhKIDZxG5yKtf2uDkWxzJzN63hx8Qn+4nFo+hHh3vvJ1C7dK\n",
              "Jai1eb8Mu9U+8lHS+pmzBoYB4ArDIRdSrZEQ24ZTEpYo9GYqavzaGQKJiPc87ml6uOtx5e7QS2cV\n",
              "AHxOL/WizHV8f4XfkWcUMmA389sSqTC5CNvOaqhK/JDNyH6Vj+QecqlVDi7/FcE7AfIcdwr+s8jb\n",
              "K3f9LQSCJ/jWGKqiKLaC0ON4fmrYkH5ILO0Kd9AQWcGKD2xGE9v1mWUKLMZTON75ADD8Ior3m/nA\n",
              "pWKE1/cYCs0pzwk2Qlv1eAdszwM36mZHdAAAA/dBmkI8IZMphBL//rUqgABx4IduAgEFOyRngdOX\n",
              "7qCQkyqZnIAEBNar2kcfurw9NH/EmA7Vx+rsejbbC4bHy86UJ3vCXMIYv2CkxmVtH7M8h/auxwev\n",
              "G3wZA6QO0kd/WSF4WCHlm1JnmlupU8ZCo6mti69CUh9EtOOC/UEBRM+J6Im7kKWk142Oa+f6NWBB\n",
              "SRyVbH6wdqA8bYKXaJuqlpXrTM7gWPeuqZTLyRUnW9X/ZQNFyBHxKVz/NmYP3ynlP1cyCfBQA1Xv\n",
              "Z8n89y/XkBOQ4QWB3pq8sP7Sl9FYjfCCRYszjsfm/oNbp5PsRI1i1u141Q1sqgVkYzqudaM6TBaz\n",
              "s6L2TcBBZhJUlsET0InYdgcliwXEI5fcLx3XEv+HLM1ICzpPojsdbBydquE2j6eTOM/IeBhCr/zs\n",
              "80qIbLsYPbMv5X5mhPjsVg3050iTRPhb+3a0QQKb+6eRw/1gP6R+muERZ0X6ax21G3sFz2MpmKTL\n",
              "axgzFBVbPqmmZNZwphkJtx0kDlxeKyuhmFkiKmm7Rd2p8sEWmJUsqfV0oQY2Ro0qpYHH4g9EIXwT\n",
              "Fw2p90I7IWLc/11ZQwuU9DWWBs2jkEsS9QH3FSIkNgR5L6dAUkf0hTnb1LjruAoo0ng3b7z4C8d0\n",
              "70Rhe9rCRis7vmAzo0ng4g/OXmeIq5d50KQb5B3cy9RMUWopMeQN5siztg1F6UbovQsoqH5Xbmmb\n",
              "6JlmfKr/+sfjvRLAvI7fOgFvR4Axe33gpUE/DTfda+3dgpc3zuQ1SCKJa+H4nGjNYAxyGEGKmO5L\n",
              "9zBwEkGobgwSXhyBzJ9WBfYITNCDJGQSiC5LwLEkeTaL0T8sfJhHP7cvFrO3peeStQxaXQdSGOij\n",
              "VISdftm3BU8NLYGpjbfI74T7b599pVAcjfC/zR3VlBjgIJBGbmULXdwLYv7OEUz/on1uI4ODb8vy\n",
              "MT6WoufRr+AOnaTolcfYd0zBSd1IEKjfHw/tCyQwp+BVLJt3ohuieYByeJ6a7XmNkBTJNSUSu0k+\n",
              "uPrmIyVpQnWGJyv7QkEZRAX2BzT/5TD6x+xAGxRrY8Gq5LKhwZjYId8JW9hyoC7PIPM21s74sz3x\n",
              "4Md9mNi4F/iha5H4TY6uH/7Wlg5fDYK516nQPuwep0qtRdCBzOwfgRPqGMxiToetE4U+uqtcq5rW\n",
              "WzOHIYVVLnIfjZxd/zPsEcXV+LstQGtDBffjM8/57enjuLFVNhU9Q8irDDmxHlPim2J2yXii4xRW\n",
              "kr24xV7/OSsb880BzcfHEWD0KqSzLjjMEvOw3GR/78EdKXfL0iWIGI08QAF40LbGAOMEHbI2aiif\n",
              "p/Kotb39Q8XojCICG/UdXdLDAAAEYEGaZEnhDyZTBTwS//61KoAAbzmQoqUAg7TXGQa6rmIsZ/z2\n",
              "Y16yxoaPH9JOF6Rf3iOhf3hfzcCS1KLiTaPxSsdwvveXfEAxJ8SyrfObaJwWxDegTUvRm2Qvrhoe\n",
              "tpRTYnmdOAn7VwRjEmJ3GaU7xWpOP/dQaZG7uDJMeendLroeh90d61LJMNGBzKX6h1YvekmDOdU1\n",
              "6wnp22kr64w0JVmX3kdc0kdMhSZHarDiKX0TViePw/hTkXWr68XeRjJYxMKZ88VV36CQOlre4g5K\n",
              "8Z5ybi4MLNr0bIJuIXcSfI71Ks7VkaRLLwH1N8LLCFGw9f8lH093MGRRXvgxZO0Nh7KyEnxyO2/A\n",
              "Pbm0fTS7KN+xBAg//6bIHP1H/G4wTPH1/jV41qp/PCyWBlGEFdmqViOu2lJ0EQ5dr2e0WfX4LG2Q\n",
              "/fX4Vejr0XyUIpZV2PU06h/zbs7gVfk37DvYBsKYzyPoKd/eJM0byCf7nI+sXasTnuYCMqCwdpoY\n",
              "Uly/EwyI7vlFxSUyQ00wk+UhhfQeSwLSxqUbL69RnBF1koXamurX+csitndNXOSdxRSS/ZUFXzbM\n",
              "oHYgPsCX7sZr71XLJLRCwz8yVbFOfFOZSG8X4SEdEX14OtT1UxgLmhfRIlYEwMwAaeX1DmoJ9gGb\n",
              "SelzgYBIIoEqtN4ieLGXRiwca56f3Gu4VBblm9GQndvDCRrQ/51D2VDTy8OgzSll0QdtEvyomWH5\n",
              "0QpXOLZrHxS29nRzbL1IHWTC+jAooo9YHZP6pz47/Dg3Zgz41NLmjmPjuR8DUd9whZtv3c/D8SJ6\n",
              "aDY4of5Ty3PS8t5C5aFeDpiiTSyEoAYprawtNEAOi6Xt3Uf/qusxapjWjG+KziIgnaPkRbItO1zb\n",
              "+XjlRb66vDFYYM1BFQ4Tf+uofJ3ZG7Q9oJ88wvey7svK/vq53xS8ekATCc5Dn22jCOuUaawM6bAr\n",
              "U5NFXT0rhtmDSpy8uqw73BcwaCHDie0jAj/BQRXn0v6YTda1hoqY9ARxq9MKaoK9pu6NoI56iM2g\n",
              "rxDQ1MfbsCcT++n8xK1hxbIKuazdCN4VqtgD1Nvwq40ZfA66aohbglhDoWfSPVhScYWAfu0GzOaL\n",
              "T0v1A1LznsG7K2nCW8cvlKdVWBlQ83W+ZHI7dAXR59p1nUPT1vT7Nn+2UGeXoNWEb0niRepylCHw\n",
              "5I5IMYPOiZ2mQQ+V9puCWtWBkFW7LnObSYFaLx5Ie9oPSv0Nz3WwmFMwETwV6NFWkT7xKWmtwaRZ\n",
              "weER7usdEUVjCcREMfsTGUeQs4EyNP8abmmGIRQUoemOZ8+zaL0elHdq48m7W99SEQayq7swTHEw\n",
              "umzxOHmou3hkrUDQ3kZ1pClfQ/wo9XfsFO0+Vs/v3EK1c3u7rXoSjKAr09sLgK+yN9h0n6a86QjK\n",
              "gMVrMedmHMOMbPCwXa+SOc9Ns7fbEn5gadBL+YqRArplu4SUHsG6z2uyi+4Qof+/ALyVFl1aOjQI\n",
              "IWAAAACuAZ6DakP/AAE1g1uc9Z4mgK6XJn6caXQAXUJk8BwdKBAjv2o4YvQ1rEyaZ4z0d4jUNsQb\n",
              "veLP040RvYv0BB/5wn6R4bpCF84Zkb5hfWVhuUwYLg6O86NhlH38A67L48lL5fEkEr83HZCDlNQ6\n",
              "2AjJzdyiYcDioCx6Rt1bpXoX4whTsjE2IY5c9cmCE79p1JlZEuUaidjdPfG/b+OcOCKnOEJqAviU\n",
              "2LQ/6ZX/Acu3AAACukGahUnhDyZTAgl//rUqgABvZDw0YgCaoHsxHlOY2a5ISGzfSGepinjhCyWl\n",
              "AQbOlqHzLYKX372uCAab4/tnzTiwyx9QpZnybvIdFZdwNaK9O6sIxazJlmv3ilmMfTBX9B1HeCiz\n",
              "s0+YkFke5PhLcqJC69YExx7oxQqQJjBz/VrtitOI+zhbqThMpxXR05ZOd3N3ikNmvbHs2cMjKJEm\n",
              "Ztag6mvOuGeCvRnIMS2GLjVsZZz4CXAmGY57+kc07kVOjWZsscDmOdZZU48JlcuJ2ikp25fZDExd\n",
              "WTCPJpdLi3+DwsPEaOOIwtM+dQOqvC7i7KW/gwtvGpwa+pWUtUh2J1FqBNfGv9/pbCjs0uS6YXy6\n",
              "96GU/7tAJHC5I0qt/uv31hS2ym2/X5Pr3jK7Th5EWvqTgsMHn6G0dKblFoPRN9T/KZJaZaOOE+xv\n",
              "YwlZNTD2WEwB7PW7qSNtpVX504X3F2ifBrUNeztnDaZXlE+1plvPyRqjptS3lH2OZzA2PplEngEV\n",
              "eOrgpH4o1HMfCrquY3WODf2chQuyxU4Vf/8LG9mF458/G4W2ksIEldEVAmq9D8aCx+FGiLeyE78o\n",
              "ISI/D+yCGmnQDNVSTCTzH0B0+7jPFLl7N62Lpx/a2mzzvs4ZI02KHGCO1vHYOtn57Zh7jOAVy/bZ\n",
              "mKFOyjI/psd5h43BluGvG4mP/6giHIsOkZ5veZUTKQPXHZww3ydZf0EVdgYYVcoE1aq3iUr+ZXGE\n",
              "Hrj+1AfQNjSe2dZ28ZwkGQckf0iqdROco5l7dbdLFdUrxpN5LZ51auv1KpPsmSEl163TbOSAjTdC\n",
              "IEhKyucmZQu9qm8R+DI8CNdqVSu4q6fompE4SSXreIj+VX2lHoQw6Hu7m7jQemf6aokq+8EIpUmP\n",
              "Re3cwoes9myQ0eA5jfdtG43W7HBdKeG5Db3RAAACfkGapknhDyZTAgl//rUqgABvooW7IAWAOfyd\n",
              "/qS3XosZSMsmVYmNHLFMTpP5nw0u5G5iuXpp/mpYS66SULg3x/IfsO0JJbXlB1c4MomkjPCjZQTx\n",
              "4cjKZzH3gvunNGzz17QldBr7IcW3JO2n29gFvh693Jdi8vyVdavl/6UG97ChVaC1hd+2XwPu8d2n\n",
              "t6zMt4dwBd73LRvBZPPwdsWP4fWyXnYAAIEby8rGCb8IjvbZqKugmu24F9Tf1m+TIs7NXMg1kSoN\n",
              "0TL6JSXBSimm/1F1o/ezgcd+HgfuM5Kb3Hr9mTa0X3gf+uL1F7iOcRNVNXHbA4hqVjfDZkd5tNBP\n",
              "6MTSS27haA5rCxP1kTmd1JWvU/VenzQ8O0IwYcXfoL0uTBJO86/BOXBdXU0W8P7I+3aBX9b03TN6\n",
              "aRsCKJM1HJcEUog2K6yojtfOaV9Grrrsch6Fzfkyf7a9M6++IXYlUl9oBupoSmhXH6ufGCt5KKlq\n",
              "AX9Pven8Yx/40F9AkhoQChHaY1+mR4lu0Yj0K/WwN7S9VW3pmVzNRyc/ydROwCQSva2OpR61MyjS\n",
              "Uen/dYi0j8Zs0s08x8P7evB4RGP33ySrElOv2r1HKSRJeisrySxNFZ99ye5B7+alMpQT27yVVSeB\n",
              "MNYlibErjiPT0Ovij5GE7xLkPPj6p6R0D7TRMhhCAjm8efoBqO5yCXFskil9kCb/F+zGMGLkj7e2\n",
              "vfSdwWe9OJ4koT9Z+v/33FZ8c2W9gV5idaLFQwxt01UwwwEkD6hk5/HTwmLOIhJqYH87v7kVNzuG\n",
              "7w+X5xQGKSkpWPPj162ZERQJW7JctdrP6uUxLWubQ0o9VNN4IlzY/WI9AAACu0Gax0nhDyZTAgn/\n",
              "/rUqgABvJu2XZ87CABWLYnD8PM8PZfgNEmevIbNWqU7hU0WQIheKarCrLLdD2Ay0hol6LRhu12QL\n",
              "IJgi8jRBaWb/UCS+IeIuEIqsl3isgVENpwEWB3N1PcIlFWwNKKNgYgsoeYrNwdKbF2o55WIYl0mA\n",
              "6stW/q8ZzOEtUBNJAm099hKbEN2Pz9xVgLdVz8lA8YvQ+Drj4erhJQJehcn5qhuX4GlrTcECMfH9\n",
              "jFXPjzT65vQdQj8Dbz2R/IYn1Q/vLatkdZVPPt8UNYemXUHcEdWOqwUaVynjg87yrnhC+5UlIrP6\n",
              "nmgJB0aAMd7crYlYGcvgQkk9tx4j2TMuKbnd2GhWNmTchM4QWy0JaNFy+XjvRRh52dPQDTuop+ML\n",
              "55L9ihCn7PXgY0qzyRmNhmbMaPAVShDrKwtk4+Eow5xLHod6ELF4Nxk9B+DY3kUyZRvxx9Ym7zmb\n",
              "r1rTwTOouEjz09ZGcKt+nwuJZDJZPy32Fwu5t9XGrYaxtN8FEwyYJab/trBznLVVh4xSbFuiLK68\n",
              "rEf8+H108tbWhFuKGgClOMQKRkGKta/1wl5EQfvwNjYOotNzum3+mqFEUMzCXM5rHiVbLzquJlY+\n",
              "cVAdmU2NyY0QNnf+IOMIqXPZJN0vVx0jNk7GE/3QaGF9AXbbmnsk5330ZkR8qZ2BSr3vlvMJQfSZ\n",
              "EskE2s9fuJXovGE1tV9Hgc6DLIxnViS/RFVZTEw0dxbNxE1CTpL/pinuTPLP0cLFP17EdB4cE73B\n",
              "ylsgbNTztLdQsbe8leYhYazKMae7HYStpnnvdmOhZ09pH+88aayae2mizrcMyMO9xl3rchFd7cVn\n",
              "g5waDtsSfzE0cEQSsrNUIxALTzBGYcE1rZVaTzDrblXFHetweDUUJR2bSwHbDe2gF2CfAgMZiOep\n",
              "uWnlwQAAA2hBmulJ4Q8mUwURPBP//rUqgADeyZeiS4An6JEhjT6SOun2Irmx9dskRSY6A1H5lEgA\n",
              "FDt0R1NooZkMYNCeCR1kAVEL/E7N3cAZBd6HE7iukDh922iZHr6kKwpPrBFmEGPZQUfQE8hEKQ8D\n",
              "OIwdIQzTQV9NAY7HiY3YcwpCxPygenUkigE60a4TAzCkVsb1SMdV6OH7lY8RzzO65kaI9n0otO86\n",
              "d9JEF75s7JASlFADH57gdCMw3JM0Fm8NAOUIkUULDjCZ0InIfKW+o23VcYKQnhPhmtKjd0h4PrO1\n",
              "IMuFAoyG2KtY24hX0cG4r/DuwG/j3VPfJDuKCY/giQdEpDoscPGF7A+de62ms+HMdSOLtOadM0Eh\n",
              "XzpOtDMV2qOo3SQYd3yjVHuJN7Qi5ymdDqR23C3s6q9yaGZeOOw1iPUS9r3PzuoZS3d1K3dUrlox\n",
              "BfsG3io+H8VKEZ5zVdBN+o19UQg+PR+5rS+o5M1G/E4segACJId2Sm1P3iLz4ePvOi/DcX3teFL+\n",
              "gQDUfkyKNf9wTX41RWZ7eIrFRJT8oN0W0bKhJsKLfwST873wLODBkCYL5yqqIIadZ2NbDiLZcbCp\n",
              "BI+IArvQkW15wmfUDoDvzmWot3XeqHjRtRbIsQxCEZdUQ4TsUXUN5FeWINkbn52rEp3lngkV4rsO\n",
              "jWhNDdIlJupjt5isRTP4zojR4hABhDKTRVkaPtoUs1tPdqOYaAkG3KSqyZiwFTVpsK+EP9Og9qhT\n",
              "w3zmd1du7Km8MOegNaedA+HOwE80UugxanRidS3giU8GZKAN0bXPHNBd1EHdL7IxeAnBhrSP7wpy\n",
              "Q3qiGNmTOF9XhjLIvRA/JKov0UoZR55ygv0UyNY4YQTAL5Fcwrg/cGM6Zgn3DsKjZSk9XKFrkjeg\n",
              "5gRFWOywKDHl/ejlh5ggAeCDDDJpTxiwYtFHDm+KAxBtDADsdobWF2JxrpE4n9XTvHRAL1WWOoep\n",
              "nMXzcXZVb5gIfapF+AFCITn4gWP/XAob7OrEMFDRMQUI2nIZjUaLdM3f5fmsioUGYy1tG2Qc6NLo\n",
              "M4Ogd1hl5YWtoDR399d1a/1P03HDHayYkskF1QDFKddUvib/fe6xguR7gP0OD5YgVzlGl3qwfb8F\n",
              "LL/jDtorsT/I/1HW8NyaZQGThj6c6/hJoAAAAGEBnwhqQ/8AAmsG2Qe6gylIuIbur3o5DFngS242\n",
              "vV52+O5b/JG0RUTykdmNGjuIol2hwjAC6rogaYcQVZrtQjavRxb5pd6w2JZ1JooGpm3o8ZNP2dyS\n",
              "9S5wHX+aqpsoMP5cAAACh0GbC0nhDyZTBTwU//7WjLAAOTXeQRuoAh3FyRiXRjZk1mqSfEZtbmFF\n",
              "b5QLint/D1ImDWHRSUu3859pRKWUu0l8hf6Vxnc+7iXrmCKhD2Ltubl7MDZM20eu+QazMgaDS23r\n",
              "ZwMpvW46axVCZc2JpqfUTRHHiaakJnok3S5Iz3Cx7oX7HW7ARLHA1MFOvDahGUijpD0nOBW2qCZg\n",
              "x6Sd/pUUQ7B1b9sWaxfFmW+HsGMOWvJHVyBTsPUeb1g2IFrcCxWDUJnRdwZapqZJUwtky1u5bNBM\n",
              "w4I0Ai5nW9stbr2RhijYJhmaKmKBRQ6zY230m3wqzeAFEknIgh0KmHxO2ZCtXRGi21aIninaoB9F\n",
              "641WR7nhlGx4C7AXvUHe1E2CaTjzxNiZuXXw5tKcS04apEyyGN86Ymh5iL47DSmoTlVtmrFcz4SP\n",
              "NGkTntA8ac+MImwoXvsv/2O4N/PL3oNUd+Wkw89OUn5x2QNSmyqeXrSw70CVXUo6yGJkWUblwmF7\n",
              "m2/bPRKZZaSiYXABo2kxhSM1Ao8iCw4ltRfZhkaP0GPs1V5BwX+VfJfS7USTJYZO/l2BRh9ygdcs\n",
              "LOcAwiRA6JEdOMvgDfE2BMmxedY+laKpxCwsPZCXSY9dNG7xp8ETQ/KB5G6UWn1dR9fZb8kd+t2i\n",
              "h4slPsAKwmLH02j7QZM6IfHY0cxH2ruMlNBvfHLUhAA4b2ooPZQ0PVZWqSSV1pqkQBYuYwAlPLh8\n",
              "fokINQO9tf7ybXe/CP6UWl3C6DB6d5thmwgxDHIjf+0KrTJTnLis5vxjgAMxB5nnRHTDxw5MK18u\n",
              "6Rx7NsbJKs5MxEBULnHvNUZ7GSASF6pN+VSFohtIUgZN/tD7AAAAfgGfKmpD/wACaWtgjdJIEW7w\n",
              "FOm9U4YAP19rgxIsojWSk+b+2CBNsApMfaEd31CJyFibOK2qWMgocFixDoTnNO0GkTtZ1RA42Tcv\n",
              "Qc5G6PZREm65N1w1baDwJpIfbqcFE7ScRVmtTLQ5OzaSdu1KIe01s1AkaszozY2a7+ZWCAAABHVB\n",
              "my9J4Q8mUwIKf/7WjLAAUE2m8Y4FDjoDR7xILqvoZO5ymPSZwG7+91/EyoE32Kh+zZijTswYLhlP\n",
              "o+XHlqm6TZZvZ9IvbVDKQZuvMnYEWBJeSq86fDljLBcKRE56dwaBpoXQ8IK0DjZnYmCYO4NzPuBt\n",
              "ocnzsXlBda40kRf8CJlMpqUEbRLLg2Ckw/n+wFtKVI6BA/dBYGqANItsswzDhkALz+iQWcJljN68\n",
              "2rg1dUb6ocIDGfixiOQw1mddoT+bArrfl0WHV9XoGiPkCmnw87GLd0H5KoJZlTOzZZn8g1enzqSk\n",
              "TiAcVmGu0QPqE0cc3qXDAcJ1nyq6Z+xYXBIuMcw61J+LyIayfhd4CWiM1Sm3A5tdC8NwtU68jjCG\n",
              "k16defGRyTnyl0nVor9IuHQV9whIzRz7weo19W6QWBdjl5Lw23RFA5iLaudlUMt2hnL/SGJyA14E\n",
              "IWG2L6WhfywhpDH4KQPKMdH2wn1ARTs6QNKl0liTNgbZ9p1uoF5g17Kjr0s8pIzBjdULvuQILMhA\n",
              "8JUm8p43NJi0ySIT/lgVPX+mZjXHRudirA3v6m9o4zCrwnzOFHUGvW/jFbQZbyi63FTn8KPF8CMY\n",
              "B8gSvY4QU+CiFXGBenUphSqOS2wgSjJ6IEyodE/hfc6St6AuGD9s5KrfYe7f8H/EFOSQcDX7TFpc\n",
              "ozIPsiWLJ5S8EOeXC+xcdo+jIerpQbUlW4kC7iaN2eyH6bVLMRT5KiaYi+yQ4LAmty+356ELyzBN\n",
              "L8Xw9FwYg9RvMpUhKonk52tonQ7z16rs70d8TdajOov7rPr1vULn8KJamjPvvUxXKJe5fjwikulM\n",
              "Y+fVNtY1BScjNnCQuFbUxC+LzTj+tA/dx7fa3J7b1FEU3D/v+TzjPb0RPW12DkGipLiflYL8BFH3\n",
              "MX/6OzSk2VqJKGLP3TFhy4OXCK6ye85ITFErfxDtrhOp9PaMdN1Hi37dgoaEB8dTwrceO0ZoQpZU\n",
              "EWZfEan5zJwRNtEBuORlr+PjPmliHyz9yKT/H9ZobKlIkgmuZGkhjQxIMCT9rsJCh6NjmFS4JWG1\n",
              "GLd8OQ+c6lqbBLF3kcVYzuIR3xl1D7JFU0nuCNfcYut2E8TpkX7kRCNnwoshRg2CtNVPdKotUvQu\n",
              "p6Yya5NaganIDnxJfwsnnlUnrcjuEV+IPcoQ8yjZsG9oay97PQmyBR8TBFmHUPaI7SZxlEfNGTGE\n",
              "hCk3w+beM1A2cX2QjaJ0sn0lQqbPhaascuWC4hHAzsM4rr1jh8IvhB6CvT5TF/m30cHKK8JlFrus\n",
              "zUi4to8xojsHwN1iPGwiraPZIcfxUd4kDKjY5D8esnqghF2KDxL2ZqUCcFxWUBoSP03EKJ8D7wWl\n",
              "OaJHkKXCihP7gMLqZqrPsLnsd6pan+ZCetca2jyjzZWdONI10XOya5b7aAgYDdQrRY7s4Ui11cNv\n",
              "XXamF2xOV1pQf2iTG14XOnPte3n+xKVDBPG/P4/OhGkhHIH1vaGsJ6u61IwWtIo4vF/j3J9mDw6g\n",
              "AAAAr0GfTUURPBD/AAGHv8HA0wNaj/0skUcnkOGxznbW1aBXABY4IcpsmhoV4+3LwBqhwH7aipxP\n",
              "fBWKoLN/epB7VdHlm/q0IZpfcHhQTk+IFgOiIXyFyLsDdRFuWWPkVzZdi9iNPIBBCRAG3BGBQkpJ\n",
              "t0FLCiGhPDO1Q+hEINBO7T8i+pujVdD8sOCtbW7iRWMESHW1BhmeCS0Ya7N0ZDVnda2qFg+MgTpD\n",
              "MEnIKpTS500AAABSAZ9sdEP/AAJpgcOlJi0fGDItUlCZ11/tnFKYuv7bk9jKxCaMaUQjtjFpFWx4\n",
              "8Fsp9Ztu6i0+HnmB2S4xTHic1n1u0JodAW6TYl7WyMd3YYfsoQAAAHwBn25qQ/8AA1/j0OPqTo5M\n",
              "6deqinO5rwAlRSY7k3Do79pFMfI7ze1XfnmooyOALIfdipXdZi2wrMhYhZb6N8r9gyGh382R3+NT\n",
              "oGihpGplYpH6HP2eL2XLW+zDx3fkn+bPuE9s1tHjHqGj55CjN6nlp0IM+AwSud7u9aRpAAADzkGb\n",
              "c0moQWiZTAgn//61KoABvfKIDxQBEVPE2pqpAnzU1erDwpd3VdbxnTQ5eLJQjTPo0j0DaPEphdoz\n",
              "8MOq7GkCaHHaLSDfQIVE6pif3kLDmlSDfGyJAIUeA5innCLVQWBsGyS217WPHe+o/++feONgaY7A\n",
              "IEpQ1PE5dfB2OqJHX7Rk/6Ph/sESe5xIDaRBay+D1OFs9eUtV1vA2tZBl0HeVW72EeEeNG60xKNg\n",
              "i/awf2OB37JKHBipVAha6DivktplzLkb0lzCiMTNPCMCXWqGMBKKaYjrqnY7I3yHzHw+qBJeAvP7\n",
              "Wv5QMs5kVwjuFDoleAWb/IHslc2z4nBeiy6Ljj5mPfbe7nwJVzQO8s2NluiVXwNVd/+xM7vqySy2\n",
              "hWoQ5VzSrixvbz01A6nzjETjM5aR1JgBN/Xbuym7NUqGxIgMZQ9nRNNsKuWXsA63KlIorH/Bghmz\n",
              "r5yclGC3+njgIzDiwNyEm34Dl8t4EAA8cuor5pTewM3o4gmoWqRKZLEspQl/5J0It40nZWbW+pgm\n",
              "IkqCsLInK2DnLoJG9x0MXUcfUz0/kxNLp2Y+JfScyk5G8kEZQ0IN1/SDj0o97scFR3DZ0PugblrZ\n",
              "fYj6M8OTVW9voAcEhxRC+qp8cNtHIaG4sXWDUfH73dWqqPKEFo1EidjWGrDAetk+8OQlDFNsf0XC\n",
              "TJm4xDH51gk/fzJ0SYcHefPM64q+swi9kl7XXNzjbRa+o+T55H4LnoCqJSS4Oq9XNY784V2zdvtU\n",
              "JsXwxLWEqMYGYyGUh7fqddhBpLGi1pk30YimgA87SOzVbTKtzwom3U6NKBBjE/PpkqBH4mOGXrBU\n",
              "28GpJnQDsB3bou2hLDixazMxyPlLEGY0c+2Xef9jkKoqZCfk3VkYRgLWXhytgJgq3CUpiX4HL65w\n",
              "D77wEhIv3pMpO6UxEBzpy0aZQgU8DNx6NI1Dn9TmUG9PrZc/kZm4PBqa2YUkYFj20KsxAf9Wk7iS\n",
              "lDglyyTRtBo6I3hV/BU/+5uNtVg4/y/ONNo4/EIdlxADdfjUgu6LD3c9d1Tdw4DJYAWKSHDQ6Ccz\n",
              "tc4RunKbpJL2HDmzqXG979EfcUncxyGeNgPCZuZZ3IQMdrIpFoCuV7wUrZR26XF9L3Xusu+tHXvW\n",
              "jcWvZJB+ncXRezp+dYoLTuTgb2V9AWILZFrTKe24HdCbzsuG8qwCyPwDXarIeQLxd8fDqcZFpVVp\n",
              "NSRbjAdIQxb/m2kK7Au1Ay5U2g1hHQzcUY7KM796PGzzaSyWp3dapnlYMghZfrEO20IG/HRZlrtH\n",
              "KpJgAAAAeUGfkUURLBD/AAIqnwbZuX+R2O0RdAEdJeUIMALrawMeI6nlPvG8MZOikXdRX0rlAlD8\n",
              "9KVHQ+FWPi1eX2vIl4hICSrTy8ABRsKuaa7fgdvXdJ7mfTrOt3yfocl+f1gFNvRvM++17fP/WpIT\n",
              "mSk2ot9y0NwGBrPaJNwAAABvAZ+wdEP/AATVijtGgCgXrqohm0j9gc2mfRGQRR3b8SeritRIQlU4\n",
              "P0KI1I+W4u/jigkULbSZ0D1vN2k66IrjVcYBHTbsVAf9tj7egiafEs/70dxwB9204ap3s30msVz7\n",
              "J2GwYDjU45/IgZwPb1TpAAAAOwGfsmpD/wAE1d7lhqa5PgjAYZIlyLYa2ozE5bMS8e+/3w8co5CO\n",
              "BcMgekRIBmFEauCcmuVEAxd1oF5AAAADZkGbtkmoQWyZTAgp//7WjLAAcm1iPGPxACPNA6IK7KOp\n",
              "z3yBY++ls67EowJ5GXM3F4tQLtuA1XN5EbmSGGSLWLFWVnG4vfgZNKlkXyrUJejm3m+Crt8bkOIm\n",
              "pPuwhObCAiaCLch6sJucyQrcXPVXREbSmpL/N8/uDCd/1cozzyh57sQ/WDuBa56zKZ39blGku8JG\n",
              "wnQwGyzb4/VLMnGYCxLqPpcBtReM+DWgZ0G9btQFJs3O8YXz82ylLXPjiWNWQQlP51Rq2BYFjydE\n",
              "+1PF+H5meraKonuSEbocIThBMfhPLF3CANTAGENhqmZvTv1885XgHkLo9WrH0RK/1CFbiCXlF+fr\n",
              "y8s7az8IjDVEKG2kyZgIc2JACOT9vB9lfFENTPyFnbEgD+EKIdgSrwRXaeUHkMqNjTamTcLyeDKu\n",
              "QKbBUPxeqr1hqOp7vw8EtC9hiYRtXD4uPiY3SOm0hCu+MiJ01FgKmpGphTQyCMfpbhb8Kre3+Cnq\n",
              "rOEcfjcnH1cc9Xa8PumNJ0NJrUFJGbCQPnKY90327nmeGyVD8IPIpFSSr2phjc3qvWWI70qKOTQe\n",
              "BTI0kTI7mxDu/zP2Vt4YpMY4JwspH0Hhq9GtgYYv/wxcDpoIDNebGe9pc66pjvAXHpncOKX5gYqW\n",
              "rjBdFGZAhqhljk0dpb7lsbmbiHn/PE5w0MszKpQWFStsK1RMCcu82wtyVDME4dYg0IJ/Pldl7UzK\n",
              "sktqpi4NHu9EpeYCo9IJBOL/4zg/MlYjEKnB8j5yDT19/0wcKQEXyt4pdycB8s65EVcH6Rnl/QAA\n",
              "XH4+vCAM2W0cO5ssULlDpabIPsgNSLi9z9c2pkMtTKXdyEHuj3GsF/35m6jqeCGzrF+LcVQpg2y+\n",
              "YH125fdMaZY9SAP24xTjhgmHDO7JHOnLp06UI+OU4HLxcsMQW/2qjtDP+i7/b5NBTgnG54ur4tec\n",
              "3lOusELdA3a/s01KueSnSo95HPCvYfUmROhn545L+bxvqeKlfUlQGk6GTz3rwblFpYNxBkjmoxA7\n",
              "TcA9SHYdbqhZlThzAqPKbgeUgIzdw7Jjth6MPXIyzjo1UEXDLpNjErvIVhd9kId/q7SXPGus4Gv3\n",
              "zwK0uB6WicmTJucVm6ZGkxdDuDU95nHZtr6pXu20nZHD4BEeEuiCAgAAAFZBn9RFFSwQ/wACKTN4\n",
              "v+J4Qy8zVqJl2fbAoZYnONk6zlixdd111lEHatEHsEb667qJuabO7NhHwOySWaFqfXKq4ywDLfZm\n",
              "Lrtaan6mh3l1MLqJklVmpwAAADUBn/VqQ/8ABNQdv9UTS3pkqCSwdcpBKKlAHb5Rn8be8Px1JDJH\n",
              "nrppPRyWH5QWAyhCEcHMCAAAA2BBm/pJqEFsmUwIKf/+1oywAOOqp0RuAGJLoxxh5NqgAlrk/R6j\n",
              "pInEW0sK2b1FoEUshrDnpOPGx5LzJzJAIqSYmK9n1C/mh+5UoSgHNZqBByiX9S6xJDYM/CkXBm0O\n",
              "NkUjTF8QQVt3FxCwJKEaTdy1lLwlUp4/TFIF2ZK1Hd510tshCANApdAxmF9Crul+n2tVk1uhUOuA\n",
              "XYJT+7SIek4V/J2lTmxJ1JL8Yb1kbqa28t4nCpIT5ZZBte6jBJjvpHPzwhymdnAIkgS1RL0aKAo0\n",
              "p1WErPgMSacYzT2lJaBUC1cDmMTR7zXFTdwbdrH80CwBlFdFisPoGWbBHBZALG0uUXi4X3gPLdM4\n",
              "1YGKDD5NVwY1mse2W0ryhTQKwEdbuE4pFC3dq4nqwCyPfC7BUtlP/YdabIajkOOP1WAvIsg2X9Q6\n",
              "8iwcdiBFWthazRIuZJjDywOhQrTZ0isKnSEvL5PW/6vjenPA8eQdPHNjTt9aZ3hfa8MTAQlnMJl2\n",
              "CJ58Y0ohv7mnj1uyq7xbJPzeZbAm39f6vkI8MYSgDIgHGx5y4Td7JfNhVWgJT6eiO6wdW/b9LKh+\n",
              "Pd/EuZ6Vk2c6Y83pJtLQ1hKy2BobOu46lY8uuBWAIYxb5XcO/jdOqNkpM5AXxXYBES/RrCF619VV\n",
              "h6Ig36v0c4f/kCu4Av2Fm9y6tk4mt2nOau0Re02DO72DO2xOt33QTsfF2Q/3OtQZ0IsuNYwtO+R3\n",
              "eOZ9KmGgJcieuKB9iHekYVKR74Fwtv03bIcR76vYCCaszqKI4d4RdbFxbnRmc1wYocwLJdVQJJWZ\n",
              "/vQ9Ohmnpcyw6nWLhuGdjiFhITuWm1r3CBPmgze5jCwRS9oUFXe6HjBhpfHMQNbvHIWqYcqo736S\n",
              "MJH9erUHru4rJAxmkYZcDZnfDKutxtUc1ylSNo/sg6SB6RUEZUn7OlPMQ34H2TZbDAq1l2EtfBfl\n",
              "MVj+flaz0CN7akGfRFxNSGn0cklCNxnegrxAniZl83uH2U1LkecfTqmDwSSVvQfMK4+M6wWC+Rx3\n",
              "jaD82DLsCtlvVE4T4/Dy75jttS20sq6z+5ixBfDTkcox9j7q5NnMzXLnmTczp085ij3zfIRTsk7m\n",
              "efHWjYeZI0nLxDUAzZuXVnm4GIh5D47Isme0ivkAAACXQZ4YRRUsEP8ABFVts4f6RWN1XZ5z1NJl\n",
              "F9TEnmklX63pp2azRagYjDo4Y7nf4+EJwKVuuH4bAAjxAzB3R5rqssjU+hwYyFAdUkylYLrGDdrC\n",
              "uv1cnZr3uxhPI3sEa+qWQJ9/lldmwc7lj6SbRRMS0YYTmcaiu8eq89yjBjZAYMephZL+9LZ0E/HL\n",
              "Oe/0DAjBFJmIf55P8QAAAEABnjd0Q/8ABNJhT4/mePVKOBmCvlfRUgrCmus8ovtA8+PqXUvDQMmS\n",
              "+cpTGUJamLquQ882ekAtGtssVnMcn4vAAAAAQwGeOWpD/wAJrBtkH1GIY2P+r7LpsrADQqTN22dJ\n",
              "wexMEdObbjurOiIkG83QU2uz56b4OZiWrRsYicdrg1zuiJ9Q44EAAANEQZo+SahBbJlMCCn//taM\n",
              "sADk13tZBgA3b5OZFUsaVZSnRTTeNHPoeQDiq9TAKxl/dT+i6P7VYgdJmH6gNTXkHgjA+zvtivqB\n",
              "5t9Z9xuX4/iuXbv1h7RmgCRPsp8JP+EOeb2Kqlq/Sp9pXy19ZjK0o/SAs7nN6r9MWQGQR07+cLa7\n",
              "XJob9Ut5tX255G15SDxlAF7Eyp2v+LYvw+Ah6JQHSrAaVGOw5m1oox5w1qWRmOVAYEkGmbVaLT27\n",
              "rTQMTsqZBd5TDzb9AajqDVTK/o2N2krcwLQQEb5RDtcRl99gqMSl5o+HuT4jqZQyxqvmiAclJ7L3\n",
              "SW6ZdtmyX0vSfPvP4QOcS+jAHP2tkjQD5gNaIofhN9kzqDCVMXG/UfrOxFyU1gBjdbWXtlFXwWXs\n",
              "UpYU/NEP1711A9QICrY36e5N+I30KFcmIgrQPp4HywWkYH4XBHziB72ebcOo0vHPrpTu9u42hpKh\n",
              "tpgf+En6In80TfGviP/oncE3KejizjgQKy6Pa9QKUahaRl+JCw18ABdKPfw+vIgIWo0Js8D3RRBy\n",
              "3SgL/X4QnmdGVieNveWoaUMiuq47OtZRqgGkTp8yQoMco51QNKRgJfLMgKtgRQ20dclIef23KGRQ\n",
              "mkDiwGnx1GQBmvM04COs3VSAAyeNr+uCU4xQoUvW3++G+FnZT9pH/zDhmPUKIGJqDUGLxSFvi1CA\n",
              "/VTRBIzrsJ6//5ERc6jH8sYDCPV69xvmq5KgTlmE35AGh2JlYjTIcBXEp442r8eW5wGmURehJqCp\n",
              "1t2btoObOn22izmmJha4BwW54Ek52w0Gimnhd/McgQxUYsZqBcNFSM2N20EcoAJNp1NVvUMTZQS/\n",
              "Vhuk9RlV3+4d3/wtgtRFSeFKmFP4lM69lLjOxMmx3DZhjca2buAJvk+Rzlrq8oa0fZ6VonuNP7UM\n",
              "m/84Gm2+UMoI7Li0P9El0ew2SUhn5PYCOW5/Rqh8J+rj3xWh9yPfVZCMdnQgPtbTbtHCIOS1ssKB\n",
              "3RBBZiOIzN2hz31J2yChhip+6cpM49DMG/+XyvJZ+aK6NKnqFxEtBerdlMYrUf6AARGg4QRiIKLO\n",
              "Gz3Fj7VvGqpvYdWhEPLrn9ZAVlRyPaYAAAByQZ5cRRUsEP8ABFWAYBmuwTgK2OGiQ9UD8wzcnimW\n",
              "LAaVKaAEfQUrEaX4G4zJ0gtEskRESO0smgLaR0lDHXNKwaBkyvF3vjGDQRlb8h0aMlndAYf4ly0H\n",
              "asDuZAFt5biPhDm38CqJrr1+FzgK3UI5NPPnAAAAQQGee3RD/wAJrLUq7iPUr71I/+l4hXxmCofh\n",
              "YrMoGb0veVarTTc8flAHehRVrBnHw22Arql2/c+rD0bWBCKyX9SBAAAAWAGefWpD/wAJq73LDD4q\n",
              "UeEnzOT0v5sL+y3BVT57UhsAtkL5thHaYoFbJBoH0KmgTIhcNgQAt+q0U8wPF64rWdUByS14Padp\n",
              "TqMEU8VNCQUeD6KroYPt6FgAAANIQZpiSahBbJlMCCn//taMsADk2snNu3iAEYFnmFOTB+T6Xzoo\n",
              "50sylxUqrjGbfI9wJfLYttK7e6HV/NQBXac6VIDviEjHTw9F0PWdgIWL1df2+FHSag8eO3l+wt86\n",
              "Ulg+KnfAwVWCtR0HiA+NoBp0Gt9AKEAifmuKQGfM7LfJFlg/OmizgDivT5DzMHgPXBZ+xYGxNqzu\n",
              "uef8xMZ0KeOhVcA91prHr8S4xfk6dAImPHB9aQTULwcg6yephvm6IvpfqiOiwz8W0v8vZYaZlJba\n",
              "ovXgtGSjsAaZRO+dUjYG0CpOKzRRlbMRU+aj/auj4UiML4lY1muQn4H3x70J42ZclFnaCZEFtyUu\n",
              "FtEUQlcAUqBeNfsBoAH0rdc8MZrON5cuYrkAqCr9I5pX+Y8gUOt9D+NhjQmfg0jzmSd+IXaJZevd\n",
              "VS69x0vb4jKHAcQgAuf8q+WbWaqjf26B2AADjpKhvTTljaZqvdBIv4POAxdb/7asgAbDk3MAyfcH\n",
              "LNPRkY0W6GNSzBDizSfSX5amEulXqB8gDHNPcXunkQ/aRARsS6QL2hE4s2Kh0keL00bOk+aWjQ52\n",
              "0GpwqkBOmJwa4FVkRCWtr7+WEi79JQVMpR9plB+kMccsOFLEOMI4Q8scGWb14ilmqgmRITPkWOPi\n",
              "0HUEQ/z2DzCc2spUv8AlMRC5O3Z273DyWPKgHzvU+Tqrk8ViWrkZBFYYLhZRbELAFyald2uOO9RZ\n",
              "gUlyZ7R2UhIjH2eFaXxL1DEV2WwIDUUyOvXAJ8eSSSQFh14x32Dhmw+1trmlNHmH6mlNPKsCn7p3\n",
              "E3WkNujQkKPfoClOwBeLibb7tAJ1x1IbaojXIiQOcvV6uWe5xGjGs+JwAfMTLKNlCPxLIHL+U5Y9\n",
              "Xwt+7jPKVDP0lGEUgKwP9Feso/YC26Q/8PuCwJDrxn5fOZcejIe4+1y1D9KrTDYkDFMKZjfOrdye\n",
              "ogPKhMtg2LC7ymK//b8BlGH1Z4oKNE+tjE6kZLBLbbJpjDStsgte9kSAZtPVCc+oDhJP2vQg/nvL\n",
              "A7VdOmUIeZ3A0ccHibEz1dMv05FeP5etHkG7PsdUfY463yG/TOY+Ovicsg2iwKmPS624+9JqPyk6\n",
              "ZUaxACtQAAAAeUGegEUVLBD/AARVPe51ea8U9JfzNAAG1LoyrKHZDGFJl6SfLh7OZIZzm0pYRfmf\n",
              "6mqgqXv8l9dUmT/iZt5sxP/rwvLjjFAP0mQazPPUS4sTrqDdYfbvO7iH9eBoMbboGWo9V62OhdJR\n",
              "8vwezgWYOkIqnU4C0lZvS3sAAABgAZ6/dEP/AAmqUr/lUi41nSe3xFs4iZIN6cv/nGkyd2KeLzK6\n",
              "jWWgFeNfgF6xL+FNBMq0xNu2p7K7aEj9IHQAlD0zHNEzjWJ2Tyf1fsnw3l8HY1rNpsD+Sjfzgd/L\n",
              "at6AAAAAUAGeoWpD/wAJq7+PjfWoVoJa+9H+xysoJ94M5Qei4CjxuwJgIWnSzfc4smw5i9mIgALR\n",
              "jKLo/jUzucxmOz3D7vhz5U9d7xBPweCePsjUxrndAAAC0UGapkmoQWyZTAgp//7WjLABx1tamfcA\n",
              "DcLYjsCWuT6Lp7PsodRjB6S2MQHejzQ91/0e5ntZn+98vdouWBifG6Ht51YB5zG5wmuq6cUi0sQH\n",
              "0uUZFO64AlaKM8W+tvKlAALxPZM8fTeeaWQPr0gtp4eD+JRWVy6rwdNNNp5P3JhhF/L4Ug3uYMFY\n",
              "Zg7MrzVXLcAiwdbfCfOcnRBRI/0Gg+u+yJVMZx2m+RUcF4nw9Wf1vF/gOVb3gzR6it1taFu+FTof\n",
              "g6DlaWEY/F8GLZq4jaA2xnwgVRmNavpEOilCx2PkIJlplKxzFmuzD4m45C0QpK8nUlfFk4XSomTO\n",
              "Sj1SXsFxPFWgShq0cz2zW67xQ17nuAdfk9VfwoeirMhJM1fQqLMyDPtKYHlrpasAIJm1GZ+BjfT/\n",
              "rKAoQ56Pu3hi+NY/4Q/5/Q6+aKM7iucGUMyJ2sIYLi+nEGK2cVi/ZJ6Wp0a3H1b425/NKoe0jAQl\n",
              "RqA+vVHEG1WoWD0moMIeQwID/BddXOcteym/KsCejVdfFFB+LMON3XSANTQepa72whLyjm+oRvdD\n",
              "cIT/f072C+PqNrAlmvXNG1wuiXJftJkqjdZR2MrRoMYQZFVazboXJKPWPzNMEdCqIU4jKTc4Hndl\n",
              "SDAalXKMluO2kpz0dKLkH9Egt2Wqq0qxeU7mp5kwTxSaW7UUx7WqttXicQdk1ITE5FUgrOZxBFvN\n",
              "JZDwRWBS9BQ35kxjMGhHdAomwMpQCwHR4W+n29RCqfHcq/0hN7P0SchJI6+trPR7FwZJbawsgPnE\n",
              "z2/dTKM9SsGhpcEgh+mZytVXdRrb9ioEY680hX3jYMNIIl7sIdzgs41ZtOTaZM9Y0H7sbpQUFZLs\n",
              "Q0OI3SZgxlqvuaw6SODZVYZQNmvGHLlGnmKgD7ww6jUI06XnKPI4fT4cCQBjU1pi0rY6fXshjktA\n",
              "01wftNzJmfvvCWRwPoAAAAByQZ7ERRUsEP8ACKp7JJ8UpzFUleVOhMQdHAe68S28OFcmog/RHPkA\n",
              "Piw5Yqv2yJz28C0cBcQ0/6IPm6IkZUpvAJ0tTis+910dQt3spGCxWv9h00PaJw/70G4crzUb3q2O\n",
              "4VDZgQLfnOGcXE8OqTcfpLiBAAAAMwGe43RD/wATWMzm0o2xBVlFiJjbNJpJQf2T2/LMGjCxQ7HK\n",
              "7ja9x6fVGsdpaZs+yP0KsQAAAD4BnuVqQ/8AE1eFf4m7fjGHbjqMvW0lG4br+hnxYpsVAlnStJoA\n",
              "Serfo6KaW2YDQYfKMcAIsXKRlH4TC7ikgQAAAxZBmupJqEFsmUwIKf/+1oywAcmu9AU4ATJXwO/2\n",
              "BxYS6kLYAP4M2CKe0UoYcNORuatWwWC9EUbTz0DtivWIWl9h0lzxxge8TDwFY+8Vn6w/xMDbCGZi\n",
              "muMfsMf0u9P8WXdfRXrqogTDZiv3UJfA8aEUelf+ybd+Ex5zwiK9eth8di8Xy7wi/WV/Wp5d+dal\n",
              "p0/Cbn3cSzwpUhgxnW1CcYRpKgFwInCcLJJ4g3JHEHk80AC5qh6pKL4JFQDBtUtksr5Ebew/zdPA\n",
              "t61TJgQ05xtRrgZAL0h1KM4+v+1Ul0OLSxcgz9lwOpFU8p4DbqnFZVR8qE6h1fDJ+WiSm9I+e9sN\n",
              "h7mKanD787e/j0c5nbtnW4YlrIuzS36ICLTAGwwIDgFvcCjPuv9N3MuESl+hr1OoI5NTc4MwcoaG\n",
              "zuauODvoA/yctyISPXgQU0+p3/Sfp4tDNDKlzh7rVNbQYsc/PnudsVvjk1l0o8XTprAmvdmS06Oe\n",
              "YRmpqY2RPb8MzcmZnOyPVw9ZtZXFJUbDxFEGOvYbGt02IEIojWbGNUaER90dr5ExLOijdb6k3qXs\n",
              "Lrluu5gmfWVMUwgIt3S+fg51YUIe4X+Y0yeJ7/qpvb7nVksrqhv8qACITfDWD/61AKXfsX1q5WU6\n",
              "gsdY6iSoJkfTUWTvBmwwVmMKm3I3Wxtxgg8x6UvneH1eERzRUrVt6SIaAGP2BVed4fP+nK/GjjmN\n",
              "3KIVWg3oTbVwKE4K+Ru7hdw6zqsuihxMdVUKnLP6ELHFbZpdlRob1OMKxGwZg/aRR0G/TohiJHtn\n",
              "kLcvVEydPFw0RoQFQvTRdLi9zuevrj2VUdFL1GdcpmfvVV1HV3KhIi3Nx1vYu+di41LafBuF1DDH\n",
              "HBYt5IqCeWhiFdvVqGFmegyhIJzPexPhyHJYJuW0nQ2dyg/F2yk8KrEqrnThIiD12v9topfCJWgD\n",
              "/LcktUYuuJj84aP+lP+Q6Lt+QlbIkijN7gNniBOFiIWHKkOjbjM2SQi77whY5PGrAxaV6IjHrcJK\n",
              "hReHnMiU1vpNah8uvBKEy63YFSORAAAAdkGfCEUVLBD/AAiqfu2wnIc5HH2CgZTqBt2OfsRJeJLp\n",
              "LU2UYLuGrPFAV93/dGxjN28z7gAG7mytpgpkA5L613t9iVGHDUVVHrTGm2n+Ay45F0hUD0Il8DkZ\n",
              "tETVtP3WnjZMeFLh/+3tFIQlkIPakoWhYlfZwpMAAAAtAZ8ndEP/ABNWKXDt7KHCHro3QYwSd2MR\n",
              "Ch6/zD524qYcS16osZfJet0arGNAAAAALQGfKWpD/wATV4F/xczRqYZMoGuY8hIU7lxJqwHdJxPN\n",
              "1p/uS9OGcTxGADhD/wAAAwtBmy5JqEFsmUwIKf/+1oywAceOSYagALCBCuP2CJhJOu6mwaqWCOR5\n",
              "eIHH0kIpZOYjnTLWNkJ6IIaONFZhb29B7FvnLfxqqhMlGUfujuf0G2xwBMUaEpWPVOSlVeX8bA+4\n",
              "f9h41AAWkLzmdEsnIgupRkpzp4z0r5cv/M5KtrgR3ZC3NyFPcbKLiORa5KHdbTFp6q6b91dMzisR\n",
              "0q/Y8ALCqzYPVN5gh3BI3QhTj0PGKgmRwQ/3kE31pJ9Gq/gRYjx2PA/1PCR1gPw8zW1Ib81fCRqz\n",
              "Lpvx9Yi1ZFlSkrpuVHm5mxTVyKWI+KvjRDO1n1I8Jy1V+oMQxQg0b+byOZW4SVFoP4AGeiVtoR0O\n",
              "JvBTPKcC3wydNrC38S5h5p+mfUaaMk2cGGgVvRFw78YW5y5yBCskveW4gGJAm2+WjLp/xBkZmJA5\n",
              "kSdfTG5pmBVGrVxMsawNabKI651KpGxXN11aP9VogNph4lhkaLx1aoY/2eA/wornNxElKXvySMMx\n",
              "Od7Jnc3pzhtRnXQi0YiwRBU383HD4toWAvlK5kUO5+emUrAcS95C4a68VJg1176ps0vw57ABng7v\n",
              "or4C039UaVBTTqm0PFv8tcfPgEGM3kB1tIJgXPrSI9rGrcyjdplVCCdjaZfKcQRVSgd7qzEoJ9c/\n",
              "a580DUEypdKFbMTkLi+qna4zgNE8bx7OeLbJ2gkOexBd9c/rScgPCKxA6ZDeDL9H46wI5o8Luqpt\n",
              "5qCJOAz5Y1blh/P0DuF2AnHuP3QS6kJJyYlBfS2Do/E+AWXsw+k9iX4R1697RfRrt2G7hScFcg1Q\n",
              "KXeMFT70uGOQxGvbro+3otdrjBM2zNN3Nfngi0Y4m+8nxrrbTE80abe5dqgC2UCnkDEkfiyjJDRW\n",
              "QeToBTePh5P7n50j/8Gqx8elfkphoJcTutIW5OPVTno8iAV/D1yjzTHexcqr9lNNOxIniTMdulbm\n",
              "7gdstxRzbUXE3OfZWvZQCouJ1IOVi+DwVkB0YUMl3U+WGCgJ70eSp9HRY5dQ5O8noDhLCmlugAAA\n",
              "AGhBn0xFFSwQ/wAIqoEH3yLMcU05Km2zXE8uxzlfRHpVKSx91Xuw78JuVtACWBQ0eD6xcK9c9qo/\n",
              "LSsvK5h2Shx6i9bZK8UuvM1v3RP16kLKD2P/6/NeKnEd2ULUt1aMP0utIpsXhPmTMAAAAEcBn2t0\n",
              "Q/8AE1lxH4uKnErspZv4cyCUOhxWU5wUKtQArehhxf1rrR9d4/HwtMsHkxqTyYo2n4U+b/V3fJzs\n",
              "uvAyZ2Bcs1x2YQAAAEwBn21qQ/8AE1eFf4KIm6djGZuoHTuyv++nsSUZYh/u3ijhL9boMAAAW1gd\n",
              "ef8k/lAknqFw+uzRG7DeOE3Uk/hxD8S7Rc5EFBTFD859AAACmkGbckmoQWyZTAgp//7WjLABx0O2\n",
              "knwbvAAUwuRbkqUOIc3Bk5Ub15nx9o29umH7aVa3zyLiMtYKrVcXU1jJC+2x4QykBjKwg59raRat\n",
              "ckTpM4BMQXJpW91Hw+Qe8KJMrHzCl3qZSrorFZnd3WF7j6cMQhhrD62TSQfZzdN+iTj7V3lgSh40\n",
              "EA+cYm37kBpQP340r/J5gmEWJkpTFd8wBHCDVXLMUV8ZHTJ/lhiXQp27qS3FdauPCcMlxPiWUtHe\n",
              "acXUHMzBKVyn9vR+MQTPA1wgpl76jcQUr0vLW7JI/pV5lyQZRFzZYyf8rFO5QmKfeTiIwO6cJ13I\n",
              "wUeaxVlvINblqRt1Swxz218X2iDNfX/EKFPrUBGTDvNuqYAuotOP2Ck+O80gb00L5DFewefq6wDQ\n",
              "IHAWRDOHrVX+S/4tV4kqCSjVcf0DKT8HD5WQDaNKr53KdH/KxHkxYVGz7E3dzIhhxkMBfKazW3MZ\n",
              "xvkSYkIhMLkIU4lYGRZc1qpzVO+YZV39uxqMhvgabaMSe+GZ6J0YrLanlUbUHP/twyOY63uAgbvS\n",
              "DJZaz1pl7rafevHOXc7fU+OR3abfP4rE0ztUTSbuU2Oqex3xSWboczgFY47OVr+Lneo44VHy+nMG\n",
              "QV/3/rFcL4t6wCfAQoYHIcHRj8166xp58UQsFFF20cUjLi0WqzixRMZa6h6JokLRG9PaIVdwf7i/\n",
              "0lMXNh9L++e7lrSE24c9c/Mm5fbk4eeznB7p8rW1orthdexNeF+Z/Ut5xcS71U2raoSHGkRGbq6/\n",
              "O6jcHKbCJbH5IzN+1jZ1FXP/J/4iUV0fE8tnQEsZabKjcefdIhnVdqhL2QTJHAbNpRdKBV42AHny\n",
              "1AcZvN7tqhdaC2z/dfCw7+xcQQAAAGRBn5BFFSwQ/wAIqoEH3yK/PDX9kLsn7jOfhEFUjrsiQwe2\n",
              "4SWMRl9+Z1qAFjO00vaE5sRR7HCABU71oEKLn78GEQFEagMWgs3Cig+iriC3Rc2M4klTJA/Tw0A4\n",
              "k6g6r4BtuEFwAAAANwGfr3RD/wATUHfZxtdS3jUnSdOQMH534LUQeLt7xip8uLqFenlPgj4cUPXE\n",
              "MIYxA1phRHw0DswAAAAjAZ+xakP/ABMlSXtzUQqtf/1jn7EY5BHxHBuudkPxNJ3ZRZUAAALEQZu2\n",
              "SahBbJlMCCn//taMsAHIiXDDRgAIk13eIzeyUDhY+mfBul1EX+SvfeuiPbfsFzlZFglflzRQCz90\n",
              "SrRnO4Xfim7z3vi+kqlHJPvMaFV4k7wNrc+tw9YNINoqaroyBEaNDEIvJoHqsiQM6+Rcf8JWjYne\n",
              "Ljm/4ruiZ031049SYmnkITIGr5PE5GPyt4ZwUUtyzvWsaiXYiFLB3teNIqlyLdpba2iLJ+/N9p99\n",
              "XEkRjqCWeIR+opPeGzoT3ObytgDrVUALndgRLEcD3LELUZ1vbfbFplWEPz8O/CxduPxG+wvTmGFu\n",
              "Hh1oNx5nLanc7zp/psK360QJebP8VIfXqqg+fa5CFoV6GCdIHaLz7AWo+iFK97xRDb0PNO/Zq2ww\n",
              "MiPCv6xhJq8t28KZl/I1cbm0caKdzKXJOr0oXbtDN1rF4wVG+0owCAX/Bk8QAVxLk6JimF1x5RL9\n",
              "6nrrxnDPRHzCS7HovmFPyCfmdvfeD8cfiowkD7Cqvz5GFGc3Nf2xmcZhvEG8Y1H2j91mlN04xyP8\n",
              "k+DHnX/v9o4aEjb8VeUWjU00LO1xCfvyWQMAetMz1UCb7wHZoS87m2Sic8kJsczbioqdZyI9fJze\n",
              "8/oy4LaVfInlx5lX8OmVWwSPgMauafO68Abt3oM2hvpyvaGd73EyqvRAz8ePxgraJw7C64P5awAN\n",
              "5y+PT4w+zCWMCHv4ez3J5lmDN1ozSbAZiH7OdyNURI5mBl+LLBLynCoHs9ok0i+VLH33cVRg+aBz\n",
              "6vDP4XT2+V9hUflvEp+JtbBZVGJN2uIEDFue+NZTb+2SxWp55lD3z5tlwFKAzVUDfS4oVjDatFm6\n",
              "KpYO1CxWzTY22E5FBXRlb9psZzZgpzSQfGVE/a/zpg/db1l47/dfj5USvy1QGu1WBdQRgRjV1GbI\n",
              "e86OeSLCxNs5uigvpQziwZ5yk2HcAAAAY0Gf1EUVLBD/AAiqggaBORbQuY9tE4rk1j0FhlHlOl3E\n",
              "bJiN+dfbQpIeYm/Y4bgAlqlDF49qvRmyezKOr7wfLHc4ocOqdaT5DdEyQk6QjcaHsQef+FVZji/e\n",
              "aRVaOqBxHDnjgAAAADkBn/N0Q/8AE1SmYcojYPgjtfUx6wfLiZEACdszbnNKwlb9e8qx+iZlxM7P\n",
              "KsDgTZ6oftUS7jQSJOEAAABQAZ/1akP/ABNXUpiJlzusfVU6gAbRBUOFhJBspLwljT1tPK82LY+w\n",
              "UABO1TzTgopW2fJkx44o7HT9tuxoH6dHd1EBPJc5kKJ+X/wkQe74F3AAAAKhQZv6SahBbJlMCCf/\n",
              "/rUqgA3nMiqNAZi/XSfw5fbgFQGeJKzXgQBxko1ElhzeL4gbPMg24PQECFR140/bq5JPhEVETaN9\n",
              "eepMfiu9UQqHOwWr91UawRXXk52ZYuIvgno7J0hYIZ/Dr9FKnU9qqvuYG1WVE0qtCrYVdbtUBZwI\n",
              "DSV5dx3jyPnGTmaEY3bKIi+dsKq1zTLKBKz61a70Z/fA7TlrQ2G5JZY/BMmXYufO+ONKOx9qRyOR\n",
              "hxZsqiEhokFrU/sVRVUlWgYKD+WOL/wrQ52yVwCPfSvwNcGwLaz3tNJGR5Zxxx3/DwedN10WWTDZ\n",
              "msIvLDTOZTNV0K8tKDB/yFztR3lAY3V/MrgFhvqUEITMftKzHDiwppaUs10IugMOhvHt/2tlfTnU\n",
              "txEM1+bZFTqfJ40R5Let+B7rNT0tByqTZln5xEi/QvaO16SX7c3+zxRU9KLj9jMH0cBPGMLx9Ise\n",
              "f81UBlKKD8L9gl5/cgY6m2jwe7sgoQTGhQ0DHITBxx0/TzPEEB2SDB71J046Q6DXN1pj7Cbi5Guc\n",
              "Z4bGzWn64zOT188qg0E8yS9icT8CTzEGqLkreoUpSCXHOavCQwIlLKLwFii1DXIKAeplCidB2rLs\n",
              "gAkoBesogPlvErFctDd0qJXgFsw2OePVGwzYhcgHZwaRGgKqY3PJNkr9jcxtJGqvPfI3/XyY6MjY\n",
              "foMXxem1wBqEwuXN/b7e/S2rkJYHfsnBgq6KHKnwc+WwsI+Dj4aWCNa9ky0bOeFXEC/KsCMNw2+2\n",
              "o2uKCF750bnuj7KaJ/y+9NCTf+liP3T7O3YrXZoctIarhc8+/Z+fFHPlI4urIgvgBVykFmixLfsi\n",
              "F1SCesdfwflcf1eXghczOdjQ1bRFs0y9bdSK/T1skjaykwAAAF5BnhhFFSwQ/wARVQIRsCE27xop\n",
              "hfgAG8rxxlyRTPhzofLtmalg2tO6GE+82NR3N/g9T4SriuVFJBqckJmKIneNorNkyo3AVSZ5ErS7\n",
              "6+7ZhUj5MLhVZLi5GaP5sL2PAAAAMwGeN3RD/wAmrxznYgSLWCq0qFZr+GZlexMzFwGcZZY/UWQV\n",
              "gtosCxsU2oqAOAXLJ5nsQQAAADYBnjlqQ/8AJq8fK4AVrLjmtwT5+WQ1pTzHMYcH+xgBvRb5yCgA\n",
              "I3wVTc+iqmpdLNB40GjcjpkAAAMTQZo+SahBbJlMCCf//rUqgA3nMfNNAK+URz76cGpInvJ0w+Wl\n",
              "C2coWyMxCWKIpuJxzkXn1x77Isx6PYFjCM1BKny2xZHGCGcEuUNSHcJKt9NrdT1vhqidd8pUTFWW\n",
              "XOR31T3z7TlFB5oXcD5PTXu9E9/MMOYkvAtOwEq772rSlPJ7Yo8658vDwDTtaDFf5u+xrxh6AHJk\n",
              "ImNdFGGmvfnnm6QDbKL8BnDhV31qd3a0A4elYXZ7xN+V1UZiLtPclxz4U5BkSm7PqcftX8KYemjT\n",
              "0DESsuiNgcyrUo1NG9MIqoJzgvgs1fX4+yxGFa0I9inb09C7nnj7JTtzDaFoj80/wqf/bX0y0Yiu\n",
              "rHupGY0GwDVDU7v4V6XT+Mccdhy7e03FOPbHjVCd10Pnpge//7QVM7v6Hco7YechAN8ueSxV0+LA\n",
              "TskS0ye0X+I1L+z8ZSBK9IzccceaJ7boJTNhdedartHux5JgLsne9jCWuXLcmf509fwuwHfBTNqY\n",
              "aEkcOTcj5aV9etUWUOl4AzURH1XSjTAQN+Q9YhC1SLabjD7OcBQoBp4cv6bfZzZ9Yk93n5JcxRzG\n",
              "SdjnCBajvE/r09rw+EuVkrv21W3sn49We0v1VPHis86vZAUCIzfffi+Xc3ZQZlhoKY+VFJNFsoWn\n",
              "L/l1S/It//nP8it7nXG/nZ9C8E3oCr/334uyfR+f4lTkexAFkBLaMZTV8APTXGKtrx4O2TI2z6yd\n",
              "iLAn0rrvfWg2Ra64K3Dl5kl1ORIM/3y4YMP28SYm36K/YXdNGE6li1Hugt3pEp4c8HWNb7uDC/jH\n",
              "clXi3RV5B6nQn6IWGbWgEMK0oHMjyEL8QKQm7PK/69cGEoIlFyDMozH5jh03w1Wgg1IeEU2rybfk\n",
              "+8b+AO8FeJ3bb5FoCHiwDS0o4XMqq3W9VmR+bkQD4ZHXmJCjzz9xWYqufSOvckR7KRlmtJcAmv2/\n",
              "R8A1o8LkrDJA1GOF04Eis7iE0Mh1wVC2eIwgRVhQDrhVzziOn1N+ePCYjIRkC7oDzP/ANQ/6zgch\n",
              "TMpsNAR1YA79hAAAAFlBnlxFFSwQ/wARVQIPdWciuxiZMq53cUi7jlBIYUivnRkhCBUgQxHpB/jb\n",
              "NonPpBKC1AFis9FBxeVsFNrTvuKAIg4m7bLDAqn6GaYb0eojZt50nBh2YYCsIQAAAEUBnnt0Q/8A\n",
              "JrLdaOBDNgGcxLQUr+y/DGQPSCtuQGW7ZDkfG6evKOB66x0ZK9w9ItK99BBkUXOLzCckXPemuvqI\n",
              "Vrxi900AAAAcAZ59akP/ACavHeLUmzsQqyIHXkoSeUdgFfC7gAAAAklBmmFJqEFsmUwIKf/+1oyw\n",
              "A48ckScACRSxb37k51c51L/Uy5ZXyM9A+R0YQbvsyosJXIlu7GXehqM0R2d5rf8jiSZ06Zz4j6f/\n",
              "8CyY39JHS/L8F6KANnk6Ad8mBbEKveL/iO+8sEBKa5w4NSOXWkZoMRI3t8urd+uBOSD8PKnT/Wc3\n",
              "V+aGsTwwSPgXLo7Ahre2uS6/pMIPCwjqvH6I7AWY13TCxCZQYunmZzQjoUOhxtywXMZStocZI/A2\n",
              "jmxU2G/RQ1zbsOx3tsB9fR1BtOek82KV0OQIdIDushIZWTdPY42c43WKAqdE9Baa6lIslG0mcwqx\n",
              "8CI30EB7uoQdFV0YPKcbwks+gZ/D6OUEHo2p/0g/CqxeG/BMbiSJP8WDv68ZdzfWDBUBw9otFstK\n",
              "C+Sc64qzulKVwoAXoSAHbPArglxPCflizM7D10iAev8xDY/QqczpiULpSDNtPa7dOIy42Dq1a9S+\n",
              "M3ZB3cckCxOkp65zWjW6O6oy0mt+1fvfesBIBf6hMCJnq65zt6Mf+IMRRM4TaJ0Tfz2ku/hUfvdn\n",
              "OP/I4A5g4ITWUGY+cQYNOfwVc2zD1F8VfBr7JlPNZP+HLyKHkQ2hsmMru27Fs+nBOP/E3JBvYvKZ\n",
              "M/S8WMuBhfwSz+4LnM44W6mxOvZV7hC/9g2VOFmRytUNjPvcYUmGUvxcS4RmMOYZtNRU4QdJdW4x\n",
              "cqnMlA69R466a0j4pYho/HEULNuuqjw/Oe73k2H1S3bphk7vdKtPqAm/OwNKpz8G/XmTDNKu23cA\n",
              "AABSQZ6fRRUsEP8AEVYHfIYS65hP+Vjzp0bG4jEerAwTUOe9o69siG1ByoOJ7YoqJRYwZ7l1mf6W\n",
              "ZfVRTKfRN9IX4Lxe+k1npbjvqQATbHPY9/rm4QAAAC8BnqBqQ/8AJqlOsJiSOpdcrypdQCq17zjY\n",
              "fSCOvjp0EiMElKgTVBi2HznkwMhAQAAAAnNBmqVJqEFsmUwIJ//+tSqADeWalF4DpfGOMVXEfuwD\n",
              "j3LOHoJiQHsZoAa6rQIHLvALDBVSa0CWCtSdetGwcXs321KIU1CM+ybNB4ejeMaWyIXfm7FPx0pe\n",
              "L7bbJxzzbUd3a85LP0psQQRu9Wt6C0Ey64T33qZP+VNwkCuxbf0HvesxW2+JWB/UJfYGud2dkOUH\n",
              "xUmJTyBdwNRU2fO9PTgts3mF7Ah3ZSzSftYu2QA0HfgnO7cNu+S3Ib61pfb8elDvmSWuqDJASy4O\n",
              "6asnLEDygs8ztwrwUVKkY2yGUKt4nefu1CylJGzqHqFwjJDwoV6UuwIc7GAbIyWUxNLeLzDEDz7C\n",
              "QTMOUQ/2pf0ehUoXtPSwNaQz6rCCcNS5MwECXaSdeJW5h+Fz6WOXsr4JcD60n8lE4XpGvUNE8+/f\n",
              "2wzmbnsr5Z9uUaP9BW0BsafzQnG8URP6NvVdZNVxQy37cwgI/R+ANuDX6ZRZDY/QGzdufSQy8c78\n",
              "oQ8l3nct+pMedUDz7RXy1Crms6Csx9zmV9jy1N0MWCpQzIbK746re4Cuq4N1VWSkH2lM70i8k9lh\n",
              "60YbuBkI1uSElKJmPF5AL70vqfGUvQVl8GK3bmKJs6oFIMOengOKl3kRH1iQeYV9O9FAjtt1bs90\n",
              "8yER5hw6bCMqnsRPMgf7yS8F9ExmIKRD4limL02gd3k+CD2ZSvuqR42JyEetmmPzB3obw+6VuAif\n",
              "a79bEGpqa77Gst9mjCvHp1i/j4uxz+YvmfkrC50jDMNwav8T4VR8oMMt71P4P6HooABj90SBMQDj\n",
              "NaIAaHDDSn1pBoH+zjgJfg647h/ea5s52VMAAABOQZ7DRRUsEP8AEVG55XuH6zBeMXqTIUGdUlau\n",
              "CAh3gdbu7ewZ+0YlpcJ5iXUP6uyT1h74zphkiBoobsLdvLRldwnYH+dkACclAw4f56lgAAAANgGe\n",
              "4nRD/wAmsZYBkxoQFl8Be/mzI6EdlJmr/HoQJNhljucxwJx4gh352gSHQcD3VawgUS35gQAAABkB\n",
              "nuRqQ/8AJq8d4tSbOwmcNBJNSKp4RA0xAAAB20Ga6EmoQWyZTAgp//7WjLADkeSJvc3P2dNwAxjl\n",
              "jqkRNpqqlsL+vW5vzxjaVKws+6G+D6A7BI/u53/+E9h8UfyEAsWLAPtmIcHEN2+owyxj0hNmyWyi\n",
              "xTwfbzitMLliIhOsf/ePfQBGYFlU6pumqB//9VrI1JNdqzJ4M08DItR1Df9F8JkRIScvbVmO2RZZ\n",
              "RKTMpk4ttFe6IdCVgkDyoO/XhPPwJjUK4aF7gOXmqAWBCbPYZaSzkZ6hiM418tpuhape+Qqd33j/\n",
              "8W1rsMIiQSs9Eq1QoH04yQRdo2cpT1pi4P96VxOHDZ/lLHkcpLdBb0/ZRNmcgSd3E6XvoDeqQXI0\n",
              "RNE0v/+n8FZhTHm0j6ua+80l43ONzL9MLghbsWziAtQpx6tI9IgqmZFeOjToT4JsX2nQox/JUBCB\n",
              "aTWOcpngbXWbuOYqQaOfmoj4wtXTtKE0d0lm7wDuUv8WojBYL+FsngwWTZ0px20FLbV0qC31Frdt\n",
              "YBobElqMByWwkmzoHe2JF4Mp518tA+2U64n+TkKtH4Tdplgq11u3rGxFvvZhoiV6z6l/Yz4LumjN\n",
              "hHNB/UsxDu8GG4WDFSlGKXsc3dtxzBTmVQBsna0OJihb/W3W3TpuEap9bays20EAAAApQZ8GRRUs\n",
              "EP8AEUxsTJJJ9edxQ3bVgnEoALvogbSkU08Eojw5gGEBxtUAAAAaAZ8nakP/ACWwbR3utmqnOc4f\n",
              "qD2D6hn+A2YAAAJBQZssSahBbJlMCCn//taMsAOTbNi20IAhd49Yk/qNmyu/KQeWoPB4PHCagfIQ\n",
              "+cfJorC8oTnMxhqTZVxLsCAAZtrC0U8+oEgdZXL/d+p6G/QdWOJnspY+rfZj9xBjiw5llKJ3s6dn\n",
              "hyoaFyFj0p3Jp0RXIiLfOSJ0hPpswQlo/OPMUIXYoWuDas4hcWrQ3tuMdKvFk1WajrtYJFisbSdD\n",
              "e77vwJ2Zj2//VTfU19/y3yxLGhPwITMBFL3Nh/2Tujzfi0XF4OWYp0EIUB1X6JTYtdsJAsGXeDDs\n",
              "SFZzcJSP9+PkCdFIpMTtOolnpuUDCbloBNP5SP3lZxTZqPkSPXs64inmmvA8b97OExrt/qQkSYwQ\n",
              "fYdJNC1F6FpbP0FQiHGD71zsFIf1gqZ/f/OlAr2F6DDK9b9f5Dk+Uif/J74f+JjsvsdzEf8GWPlw\n",
              "HiBtMf1vslNcnJSDmbnS5r57MgRYyqaDbjJgZMXC5V1KsyXo/6E9SLczDisx7fZX2UGFpDDkWUgs\n",
              "CDGe+tqmaemGdrFwT8/L1GNuqezbypSIuuWLzDUJorpau/7Kzejuxlu+1Rv5x/97ZQ2r798A3DkZ\n",
              "gC0ePVmrRvYtuZDw+Od9Y2TqZGGsrIJEaK5dPEV3EA4X6khdTMPJYARpaweqfWwRwfumAV3RPjGZ\n",
              "n/H6OkLSjxJhxc1LGS34u3ArPuBmHqSUf8Lv/TGhfwpHh67vZ69Z2aKnLBVE0cO6D3CctbJ9fhVx\n",
              "tDNSKoXiYwC7wUtCgPjR+kxZqgAAAEtBn0pFFSwQ/wARVNx4TkQF+KwmxYrzmjQ/j+yggDZN8WGr\n",
              "v+uC4mWdo+rXhJQs6j7CczYQyquIyR4oH0TCPBPsPZgvMD1kDcSoZyEAAAA7AZ9pdEP/ACaxlgGS\n",
              "97eCQkfJk6JbkoesL+b8IaH6sL7us1vyBhI5g8Nar1Mj4hpbChj2eNMgJHimCCAAAAAwAZ9rakP/\n",
              "ACawa3OepnV8t9LMrx3Cp3ZCOhPxGhgGlvqe1oBmBwQlN9dFPbT+nLycAAACGEGbcEmoQWyZTAgp\n",
              "//7WjLADk2podnjc8IxxAF5vpGx3Ju6pHl6soEaLQI+kUbx2qhXL5wRMAz5y8vVVlCvNWw/NuA/F\n",
              "nbOx9h5j/P6e+32XX6yInBGnYdIsUo4Csmzths8H826K7cVFNF3x/rlxokLZwRPTK//ukCsAs6fi\n",
              "tiW7oGykHgXu11mwZVBh2gzmIeUg+GAYkZkdzM3Hl1DWFYoUg0j1k17jq+dD2F2ZoLlz/9L3y66n\n",
              "QEj4ii0N0riz71aeHEPfcE9TbPDOVF3VrDDGsR3Lr/WmoqC3/5DBjR0//vXp7T9k8DW56ETukaCJ\n",
              "R1aykOT6dwb0CJLJdRd1YpTBcGjfPu0SHYCAI6qJnlYUAoFU8FD5Mkd1rQGsUuePeESxz+RQal9N\n",
              "0IB9krccUhWG1In+i/ci09RJtX2ydmZoy0KGRo8WXJtV+vGjwWwvbTP/5vzkYYxkoSYHuTfaFC1Q\n",
              "l75p45LQX8sEW5oB9yOMfSTgAmUqP3XPHof2m0kWkFk8NGRBSJOAw8vbJhsBitifU7WgO5tJFTSd\n",
              "LrzyEbf8na0P06eTtzZFZWrUpoqT1r3Z1vXYe3E1PoMOfBDROGb+KFqfJhCQLNotKGf7t1lXLIgg\n",
              "yEvLDQ8czeZ7eIwM5kf0SxPPwByymDVT2eaPpZCDYVBsNrOkewX0gHZ+Kp07AXUJ9L9wl6ZlxmKT\n",
              "JxEnCegSS+sZdwlDAAAAR0GfjkUVLBD/ABFWB3yGD2blh48+R4wRS0kvrpIIUsPC3nbkaodXlk/B\n",
              "MkWEtwgdMfbmJFUhr/MZhBr3d9uGggdHnxIpdMdDAAAAJAGfrXRD/wAlq5X0GtgCXcTbsbKa/7sA\n",
              "bqXyyS8ZZ9oOVJgFlQAAACABn69qQ/8AJjiyJosoz3/2M1YmSY8vr+6cMCrjVj1gQAAAAipBm7RJ\n",
              "qEFsmUwIJ//+tSqAIRcn/8cnyQCEHHYmzkWisV5hK1xJYPVTwpR3EXSBklWGU7KPoZpBM+xoVnGj\n",
              "Q/7LvC6OwS9VNSpdB/A+oSwEhEmSP//6N/9cevJiD5OWRpGIcC/6cCVrtlS6pQmrWpD9dcRFLqBz\n",
              "yf7dyRXuBsO6U2se/hqYepPaArvZrhg47c5KRuOZUrCJXEjz4P5YORqoypdxPDBvZOOynjlaLsjc\n",
              "4TEN87DeuwBxtxjLFyZSv3cEg8o5Q307v2yVRU5gTVu9e7efRgq9LvQtS6t0aelYYfR7QIfh1mOa\n",
              "QTTa6ED2Nvg6ZmaCcAzd5udivg/QiVq/i7vo2jVUGH8lZcSvqRaImxCGinPIS+TU3Czy0h7vp3At\n",
              "aAwo9iHIeaKVhvzkkCqnRoFi5lX8hqO/HsBn+YwUkte4XuLRgCl2xV1k2QmUblUcxiYUdYVLKNSw\n",
              "0dRO6PVWubKE23mGm4d5WD39liFDLNidVl7GHRVL9GSSWcvFR2vATQOo7VZ+0E6bRwyAV26TNMco\n",
              "pCdfiy1FKoljh7GU3xPsE9DVi2ZFG9JzYxSer+QhD75enOjW2MHsTp7aOiUi8uESU1l+E/JtCbLt\n",
              "uuMUyNgGvP9ZR5dbE9UBVTMcsyLhcLnfmp7qeXGvQvmxVkCChZXdNdNhuEVeLrw2as3t3xGxfwhw\n",
              "Uw9ftnbybKnMJWm/MoJpVP2F1KKpqJNL+7f2AI1W22AeV6wXgAAAADBBn9JFFSwQ/wAii20YpRnS\n",
              "19bDsMzlKSPjHtjOmxg7btkJLgxz6SjoJJMouFXA3YEAAAAuAZ/xdEP/ACay7WYftMidxrpINrkR\n",
              "vSIgGbyHMQxVCOAFyzzZHdyM8ZcFH84U4AAAACwBn/NqQ/8ATODZ1duHw2GPUku7dGv50Zvx0A/b\n",
              "eD29IM2NiJTpxCViIVwz4AAAAcFBm/hJqEFsmUwIJ//+tSqAIRJ2SRwA4qfrGf4dmx4Jac3hXJ6O\n",
              "F/wnYDdAIqbnuyACm0+vjBPPEoM+YCzd+VC1S//OofF+jh/Fr8udlMtVSVB3V+rbvOgTApNGzuS5\n",
              "rwP+9276gjfs/NDbsX09Fav/faSUHb4Mmvtwqum+rKdGizMAOyzbg8ts66WRigAGgaH5bh5bV571\n",
              "Js5JNZggat7jJtXSHy/6iL0RFQ0G8eNXtUv9DJz6fj64w9Sbgertz+Day85jbDm+8kYTaNdoFhzm\n",
              "43uC36RXUmkYW5pjYLKAmsk8UfUczM3UFANaAdsl0CrV9PxarOTNPUZQ0vf2iET06jVUKnZMDlW7\n",
              "pNcqxnV+SpHoPBWzeubPqjbknjK2ZCYQQNQJabxxjk++2pE8W7PDoG2dDVv3vZin6XCeztL64TBn\n",
              "RIUnnAYyTbhtxhKr0VqeY/VvCNy7+CCW+ZT6v+nO1Y036eRwde6aFs91SDZPQxrMNU7b3xO0IYr1\n",
              "WsmAsHHESLKkHGXmM5BxleO8U82HwyHVFnJshWFJBPHe2SASG6ZUufnEKFAy2KokubnUr2jeD0uA\n",
              "SJZNeEYUooWweedKsQAAAD1BnhZFFSwQ/wAigU61qz7WncWKg212IaDWh8Gx3u8HFBZsPiiNAfgr\n",
              "cu6NMaK8T6BcZYbPxAvO1YkSdUQ8AAAARQGeNXRD/wBMr5ns+oY7XBjp+BLgPQQ0aOiBvC1h8q9x\n",
              "DL/a4FDKokwPvCWgedUtWZRc4SOCc+3EqOUOgCTFrkRJ92ObgQAAAEQBnjdqQ/8ATLkgGsACoHNu\n",
              "/R1+lK3TCfR1Dm9l0c+NZiR87zYy0FBSXFNTFmcLeQ+4Sg+21vynRUoge5kYMHrmUooQ8QAAAYhB\n",
              "mjxJqEFsmUwIJ//+tSqAIRJzzi3QGaj63gK7AAn+rhsdRH2CsvarzyUXo17Zq2u567U0HwV9JsJw\n",
              "vYB2YKrPIXMp2NEJURx0lZWHOH1ZH9b1A1XSwpeFj9oa9vROzIcfRlSVEj2Qf7GuNvineerDNyaa\n",
              "b0HWwDLj+rzudQ6EI6ikeXXForT5f0RjDPaif5UDO9Sblud5cBxnIHYHZzFjebqgJ+VS7q11ic15\n",
              "BXGv9Ou/th7BTqzL6DGf/HWtybAq6Db/cTJbRT5IlCkia4uOi0Vi3B9QwjldXRxH5l7IFZfMntDx\n",
              "nOoQq+vn4VPc1nTKXrDOhPbTF8MrwmYuPdIvjxRoFd0eW/UCRy5jD/eO1t1JkNYuVECxes1Cnsj7\n",
              "KQabDIjMhZNK3qY4Cz/cvSqKqRf5HUrnaX0upVaRDFgd8vsfBvf6S6vE1Oi909nzHhsJEYfB5258\n",
              "cPRkaj5NQJlaPX6/b1fToEdFyWVn0Vpg9zJlJo4+jMplMgtNnew9loGK8G9x2vS24AAAAFpBnlpF\n",
              "FSwQ/wAieNOjuAh88zETIcwb+ttxozAtSFq1WcBtLwNxCtIpjRNJJJ8DIL02UIKp2iAGkUxJQ3Cm\n",
              "RLP49+k/Ri+fqe6qmq/xUS9TTtweRV5yUYzwZ0EAAABAAZ55dEP/AEzjM752i4iJ7aXTvLyTel/S\n",
              "Rki18M/seY7hVE+Zhm7tAtuPbRhwQoyp7ScPOnXHjRS0m97vFAxXgAAAADUBnntqQ/8AJbBtHe62\n",
              "HOsRgDRgJ0oYsftZV4ASOEzpK779uGiBTtwWLN2xIWPYF+YSwRSAgQAAAQZBmmBJqEFsmUwIJf/+\n",
              "tSqAIQpz07QvRr3sq6SoAQUW3V12JcGPcwcbQnj3Gb32wfy3nnV7bUPfdTNjq4nKjTAA9dTh0F1A\n",
              "9oNFsMBraw5p57bIXFjp0Z3rYji1u3FBYyRfWhQrkIa8ENL1J+ZC1NnGEs9X/LiLYY4acF75JxA9\n",
              "Hyyj1siEeWUX9d4scQlCeW5arZaA4LPYtp+2lPH+oKAFAcZG369quD9YFXF4suUppfIfblab131g\n",
              "lvdQuP/sjx6tIOprQbMwv23+8n4IlHuYgB6DA3RW85caWn6qdOUGLULVZjMVbqDFLyIVm1DDseXR\n",
              "8K0mwtqn2rOGd/I1Ec2kWTWiAheBAAAATEGenkUVLBD/ACJ40gXcWQM1Un4aX0riEGWoKUBgjiEM\n",
              "+pnfzCehIOQ74LMAFsFS386mnk1EbKNVY4aVyJ3pgpkOaVhyFaS51Xf0wnYAAAA9AZ69dEP/ACWr\n",
              "lfQa3DkWImLkpMIqnrFgKPvR2uXoCSMgkTOEYPBKTJmfR1nEnDMr6w8IF72V+4TE1mbm4AAAAGAB\n",
              "nr9qQ/8ATLjKR2Z1sla1NSOdtndAbM3dQxqy4g0XMe+U4Wth4HeS0dDsftrbTtAEVyhyX5Qkkl0T\n",
              "AWKkAJNVCxM+sSebIEopMQFq6Xk7guwfWojrzndVX4pOWmzVWUUAAAB/QZqjSahBbJlMCH///qmW\n",
              "APruPr1te5GUU/JYFZb6p48HumRTG0GyrdocRAkvVODmrfnZDbCg+Yx9VZLISKOLTfTjBf71KSfX\n",
              "JVM+NlXriSGW8ACwfocw581r2OWhCPBubis26ZN1zONJrd6DBl0ElSnW1pW0biadCWsgmu0uzAAA\n",
              "AFdBnsFFFSwQ/wAieNdvGSCUnZdF+lY4+0G3cNxM17pUtuYKh+Ean24sVBxa1MSUHrHqEU+uMAC6\n",
              "hwTp5ReUnrd67XUjZoYWvYAMVfO5Rf9vB7d+GeDjU7sAAAA0AZ7iakP/ACWwbZ1lfJbRbg0pEVeT\n",
              "jQEaby+FN5tAmD1ekxHi+IDlhlvRCdznpkOqXGCTgAAAB55tb292AAAAbG12aGQAAAAAAAAAAAAA\n",
              "AAAAAAPoAABOIAABAAABAAAAAAAAAAAAAAAAAQAAAAAAAAAAAAAAAAAAAAEAAAAAAAAAAAAAAAAA\n",
              "AEAAAAAAAAAAAAAAAAAAAAAAAAAAAAAAAAAAAAAAAAACAAAGyHRyYWsAAABcdGtoZAAAAAMAAAAA\n",
              "AAAAAAAAAAEAAAAAAABOIAAAAAAAAAAAAAAAAAAAAAAAAQAAAAAAAAAAAAAAAAAAAAEAAAAAAAAA\n",
              "AAAAAAAAAEAAAAABsAAAASAAAAAAACRlZHRzAAAAHGVsc3QAAAAAAAAAAQAATiAAABAAAAEAAAAA\n",
              "BkBtZGlhAAAAIG1kaGQAAAAAAAAAAAAAAAAAACgAAAMgAFXEAAAAAAAtaGRscgAAAAAAAAAAdmlk\n",
              "ZQAAAAAAAAAAAAAAAFZpZGVvSGFuZGxlcgAAAAXrbWluZgAAABR2bWhkAAAAAQAAAAAAAAAAAAAA\n",
              "JGRpbmYAAAAcZHJlZgAAAAAAAAABAAAADHVybCAAAAABAAAFq3N0YmwAAACzc3RzZAAAAAAAAAAB\n",
              "AAAAo2F2YzEAAAAAAAAAAQAAAAAAAAAAAAAAAAAAAAABsAEgAEgAAABIAAAAAAAAAAEAAAAAAAAA\n",
              "AAAAAAAAAAAAAAAAAAAAAAAAAAAAAAAAAAAY//8AAAAxYXZjQwFkABX/4QAYZ2QAFazZQbCWhAAA\n",
              "AwAEAAADACg8WLZYAQAGaOvjyyLAAAAAHHV1aWRraEDyXyRPxbo5pRvPAyPzAAAAAAAAABhzdHRz\n",
              "AAAAAAAAAAEAAABkAAAIAAAAABRzdHNzAAAAAAAAAAEAAAABAAAC8GN0dHMAAAAAAAAAXAAAAAMA\n",
              "ABAAAAAAAQAAGAAAAAABAAAIAAAAAAMAABAAAAAAAQAAGAAAAAABAAAIAAAAAAEAABgAAAAAAQAA\n",
              "CAAAAAABAAAoAAAAAAEAABAAAAAAAQAAAAAAAAABAAAIAAAAAAEAACgAAAAAAQAAEAAAAAABAAAA\n",
              "AAAAAAEAAAgAAAAAAQAAIAAAAAACAAAIAAAAAAEAACgAAAAAAQAAEAAAAAABAAAAAAAAAAEAAAgA\n",
              "AAAAAQAAKAAAAAABAAAQAAAAAAEAAAAAAAAAAQAACAAAAAABAAAoAAAAAAEAABAAAAAAAQAAAAAA\n",
              "AAABAAAIAAAAAAEAACgAAAAAAQAAEAAAAAABAAAAAAAAAAEAAAgAAAAAAQAAKAAAAAABAAAQAAAA\n",
              "AAEAAAAAAAAAAQAACAAAAAABAAAoAAAAAAEAABAAAAAAAQAAAAAAAAABAAAIAAAAAAEAACgAAAAA\n",
              "AQAAEAAAAAABAAAAAAAAAAEAAAgAAAAAAQAAKAAAAAABAAAQAAAAAAEAAAAAAAAAAQAACAAAAAAB\n",
              "AAAoAAAAAAEAABAAAAAAAQAAAAAAAAABAAAIAAAAAAEAACgAAAAAAQAAEAAAAAABAAAAAAAAAAEA\n",
              "AAgAAAAAAQAAIAAAAAACAAAIAAAAAAEAACgAAAAAAQAAEAAAAAABAAAAAAAAAAEAAAgAAAAAAQAA\n",
              "IAAAAAACAAAIAAAAAAEAACgAAAAAAQAAEAAAAAABAAAAAAAAAAEAAAgAAAAAAQAAKAAAAAABAAAQ\n",
              "AAAAAAEAAAAAAAAAAQAACAAAAAABAAAoAAAAAAEAABAAAAAAAQAAAAAAAAABAAAIAAAAAAEAACgA\n",
              "AAAAAQAAEAAAAAABAAAAAAAAAAEAAAgAAAAAAQAAKAAAAAABAAAQAAAAAAEAAAAAAAAAAQAACAAA\n",
              "AAABAAAoAAAAAAEAABAAAAAAAQAAAAAAAAABAAAIAAAAAAEAACAAAAAAAgAACAAAAAAcc3RzYwAA\n",
              "AAAAAAABAAAAAQAAAGQAAAABAAABpHN0c3oAAAAAAAAAAAAAAGQAABRwAAAFUQAAA/sAAARkAAAA\n",
              "sgAAAr4AAAKCAAACvwAAA2wAAABlAAACiwAAAIIAAAR5AAAAswAAAFYAAACAAAAD0gAAAH0AAABz\n",
              "AAAAPwAAA2oAAABaAAAAOQAAA2QAAACbAAAARAAAAEcAAANIAAAAdgAAAEUAAABcAAADTAAAAH0A\n",
              "AABkAAAAVAAAAtUAAAB2AAAANwAAAEIAAAMaAAAAegAAADEAAAAxAAADDwAAAGwAAABLAAAAUAAA\n",
              "Ap4AAABoAAAAOwAAACcAAALIAAAAZwAAAD0AAABUAAACpQAAAGIAAAA3AAAAOgAAAxcAAABdAAAA\n",
              "SQAAACAAAAJNAAAAVgAAADMAAAJ3AAAAUgAAADoAAAAdAAAB3wAAAC0AAAAeAAACRQAAAE8AAAA/\n",
              "AAAANAAAAhwAAABLAAAAKAAAACQAAAIuAAAANAAAADIAAAAwAAABxQAAAEEAAABJAAAASAAAAYwA\n",
              "AABeAAAARAAAADkAAAEKAAAAUAAAAEEAAABkAAAAgwAAAFsAAAA4AAAAFHN0Y28AAAAAAAAAAQAA\n",
              "ACwAAABidWR0YQAAAFptZXRhAAAAAAAAACFoZGxyAAAAAAAAAABtZGlyYXBwbAAAAAAAAAAAAAAA\n",
              "AC1pbHN0AAAAJal0b28AAAAdZGF0YQAAAAEAAAAATGF2ZjU3LjgzLjEwMA==\n",
              "\">\n",
              "  Your browser does not support the video tag.\n",
              "</video>"
            ],
            "text/plain": [
              "<IPython.core.display.HTML object>"
            ]
          },
          "metadata": {
            "tags": []
          },
          "execution_count": 363
        }
      ]
    },
    {
      "cell_type": "code",
      "metadata": {
        "id": "-NdijBEb7zzy",
        "colab_type": "code",
        "colab": {}
      },
      "source": [
        ""
      ],
      "execution_count": 0,
      "outputs": []
    },
    {
      "cell_type": "code",
      "metadata": {
        "id": "QuEh9nAQ7zyl",
        "colab_type": "code",
        "colab": {}
      },
      "source": [
        ""
      ],
      "execution_count": 0,
      "outputs": []
    },
    {
      "cell_type": "code",
      "metadata": {
        "id": "Yu0oqbdb7zvt",
        "colab_type": "code",
        "colab": {}
      },
      "source": [
        ""
      ],
      "execution_count": 0,
      "outputs": []
    },
    {
      "cell_type": "code",
      "metadata": {
        "id": "UyNGT10E7zuW",
        "colab_type": "code",
        "colab": {}
      },
      "source": [
        ""
      ],
      "execution_count": 0,
      "outputs": []
    },
    {
      "cell_type": "code",
      "metadata": {
        "id": "Ufkp7HK-7zq3",
        "colab_type": "code",
        "colab": {}
      },
      "source": [
        ""
      ],
      "execution_count": 0,
      "outputs": []
    },
    {
      "cell_type": "code",
      "metadata": {
        "id": "EGgD1HoP7zo5",
        "colab_type": "code",
        "colab": {}
      },
      "source": [
        ""
      ],
      "execution_count": 0,
      "outputs": []
    },
    {
      "cell_type": "code",
      "metadata": {
        "id": "q-q03dGS7zmt",
        "colab_type": "code",
        "colab": {}
      },
      "source": [
        ""
      ],
      "execution_count": 0,
      "outputs": []
    },
    {
      "cell_type": "code",
      "metadata": {
        "id": "0ySGPvDp7zle",
        "colab_type": "code",
        "colab": {}
      },
      "source": [
        ""
      ],
      "execution_count": 0,
      "outputs": []
    },
    {
      "cell_type": "code",
      "metadata": {
        "id": "LVKI1G3H7zii",
        "colab_type": "code",
        "colab": {}
      },
      "source": [
        ""
      ],
      "execution_count": 0,
      "outputs": []
    },
    {
      "cell_type": "code",
      "metadata": {
        "id": "-XrpNFgv7zhP",
        "colab_type": "code",
        "colab": {}
      },
      "source": [
        ""
      ],
      "execution_count": 0,
      "outputs": []
    },
    {
      "cell_type": "code",
      "metadata": {
        "id": "ABhiE3PZ7zeI",
        "colab_type": "code",
        "colab": {}
      },
      "source": [
        ""
      ],
      "execution_count": 0,
      "outputs": []
    },
    {
      "cell_type": "code",
      "metadata": {
        "id": "MNsH55Yp7zb-",
        "colab_type": "code",
        "colab": {}
      },
      "source": [
        ""
      ],
      "execution_count": 0,
      "outputs": []
    },
    {
      "cell_type": "code",
      "metadata": {
        "id": "lIavx7DG7zaz",
        "colab_type": "code",
        "colab": {}
      },
      "source": [
        ""
      ],
      "execution_count": 0,
      "outputs": []
    },
    {
      "cell_type": "code",
      "metadata": {
        "id": "nazTQyDC7zYO",
        "colab_type": "code",
        "colab": {}
      },
      "source": [
        ""
      ],
      "execution_count": 0,
      "outputs": []
    },
    {
      "cell_type": "code",
      "metadata": {
        "id": "_OGQSXJN7zVb",
        "colab_type": "code",
        "colab": {}
      },
      "source": [
        ""
      ],
      "execution_count": 0,
      "outputs": []
    },
    {
      "cell_type": "code",
      "metadata": {
        "id": "uyFg3lyf7zS1",
        "colab_type": "code",
        "colab": {}
      },
      "source": [
        ""
      ],
      "execution_count": 0,
      "outputs": []
    }
  ]
}