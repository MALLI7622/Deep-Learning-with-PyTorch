{
  "nbformat": 4,
  "nbformat_minor": 0,
  "metadata": {
    "colab": {
      "name": "Python Basics.ipynb",
      "version": "0.3.2",
      "provenance": [],
      "include_colab_link": true
    },
    "kernelspec": {
      "name": "python3",
      "display_name": "Python 3"
    }
  },
  "cells": [
    {
      "cell_type": "markdown",
      "metadata": {
        "id": "view-in-github",
        "colab_type": "text"
      },
      "source": [
        "<a href=\"https://colab.research.google.com/github/MALLI7622/Deep-Learning-with-PyTorch/blob/master/Python_Basics.ipynb\" target=\"_parent\"><img src=\"https://colab.research.google.com/assets/colab-badge.svg\" alt=\"Open In Colab\"/></a>"
      ]
    },
    {
      "cell_type": "code",
      "metadata": {
        "id": "8fETtiLbJf17",
        "colab_type": "code",
        "colab": {}
      },
      "source": [
        "xmy_phone = ['name', 'is_android', 'screen_size']"
      ],
      "execution_count": 0,
      "outputs": []
    },
    {
      "cell_type": "markdown",
      "metadata": {
        "id": "fK6CBcbGPpik",
        "colab_type": "text"
      },
      "source": [
        "#Basics"
      ]
    },
    {
      "cell_type": "code",
      "metadata": {
        "id": "UCf5c5boL8FX",
        "colab_type": "code",
        "outputId": "22699160-77cc-4255-8f2d-07cef1330ae8",
        "colab": {
          "base_uri": "https://localhost:8080/",
          "height": 183
        }
      },
      "source": [
        "my_phone"
      ],
      "execution_count": 2,
      "outputs": [
        {
          "output_type": "error",
          "ename": "NameError",
          "evalue": "ignored",
          "traceback": [
            "\u001b[0;31m---------------------------------------------------------------------------\u001b[0m",
            "\u001b[0;31mNameError\u001b[0m                                 Traceback (most recent call last)",
            "\u001b[0;32m<ipython-input-2-86a8e5250d24>\u001b[0m in \u001b[0;36m<module>\u001b[0;34m()\u001b[0m\n\u001b[0;32m----> 1\u001b[0;31m \u001b[0mmy_phone\u001b[0m\u001b[0;34m\u001b[0m\u001b[0;34m\u001b[0m\u001b[0m\n\u001b[0m",
            "\u001b[0;31mNameError\u001b[0m: name 'my_phone' is not defined"
          ]
        }
      ]
    },
    {
      "cell_type": "code",
      "metadata": {
        "id": "SQIgNHE5Ntqq",
        "colab_type": "code",
        "colab": {}
      },
      "source": [
        "type(my_phone)"
      ],
      "execution_count": 0,
      "outputs": []
    },
    {
      "cell_type": "code",
      "metadata": {
        "id": "7O7EM5JrSLCb",
        "colab_type": "code",
        "colab": {}
      },
      "source": [
        "type(my_phone[1])"
      ],
      "execution_count": 0,
      "outputs": []
    },
    {
      "cell_type": "code",
      "metadata": {
        "id": "Mf8rcRq9SXbb",
        "colab_type": "code",
        "colab": {}
      },
      "source": [
        "myh_data = my_phone"
      ],
      "execution_count": 0,
      "outputs": []
    },
    {
      "cell_type": "code",
      "metadata": {
        "id": "rVFDi15STCqR",
        "colab_type": "code",
        "colab": {}
      },
      "source": [
        "a = list(range(5))\n",
        "a"
      ],
      "execution_count": 0,
      "outputs": []
    },
    {
      "cell_type": "code",
      "metadata": {
        "id": "GNvN2SCYTIhD",
        "colab_type": "code",
        "colab": {}
      },
      "source": [
        "b = list(map(lambda x:x**2,a))"
      ],
      "execution_count": 0,
      "outputs": []
    },
    {
      "cell_type": "code",
      "metadata": {
        "id": "intJYXfjTSz-",
        "colab_type": "code",
        "colab": {}
      },
      "source": [
        "print(b)"
      ],
      "execution_count": 0,
      "outputs": []
    },
    {
      "cell_type": "code",
      "metadata": {
        "id": "qPpIS73uT9Sx",
        "colab_type": "code",
        "colab": {}
      },
      "source": [
        "c = list(filter(lambda x: x%2 ==0,b))"
      ],
      "execution_count": 0,
      "outputs": []
    },
    {
      "cell_type": "code",
      "metadata": {
        "id": "DVMMNCA9UIP-",
        "colab_type": "code",
        "colab": {}
      },
      "source": [
        "c"
      ],
      "execution_count": 0,
      "outputs": []
    },
    {
      "cell_type": "code",
      "metadata": {
        "id": "AN_xegLo51Ko",
        "colab_type": "code",
        "colab": {
          "base_uri": "https://localhost:8080/",
          "height": 34
        },
        "outputId": "3b1cbc01-133d-451b-8b6a-3927e2d666f7"
      },
      "source": [
        "my_phone_tuple = ('Iphone','Flase',4.3)\n",
        "my_phone_tuple"
      ],
      "execution_count": 4,
      "outputs": [
        {
          "output_type": "execute_result",
          "data": {
            "text/plain": [
              "('Iphone', 'Flase', 4.3)"
            ]
          },
          "metadata": {
            "tags": []
          },
          "execution_count": 4
        }
      ]
    },
    {
      "cell_type": "code",
      "metadata": {
        "id": "zp7KEhmM6UTa",
        "colab_type": "code",
        "colab": {
          "base_uri": "https://localhost:8080/",
          "height": 34
        },
        "outputId": "83d61ee3-0648-40a1-bd67-11cb504dbb44"
      },
      "source": [
        "print(my_phone_tuple[0])"
      ],
      "execution_count": 5,
      "outputs": [
        {
          "output_type": "stream",
          "text": [
            "Iphone\n"
          ],
          "name": "stdout"
        }
      ]
    },
    {
      "cell_type": "code",
      "metadata": {
        "id": "fWrfqH_s6eC6",
        "colab_type": "code",
        "colab": {}
      },
      "source": [
        "import time"
      ],
      "execution_count": 0,
      "outputs": []
    },
    {
      "cell_type": "code",
      "metadata": {
        "id": "O5oPZwHm7LxG",
        "colab_type": "code",
        "colab": {}
      },
      "source": [
        "time.time?\n"
      ],
      "execution_count": 0,
      "outputs": []
    },
    {
      "cell_type": "code",
      "metadata": {
        "id": "tSJJSQlJ7Z1V",
        "colab_type": "code",
        "colab": {
          "base_uri": "https://localhost:8080/",
          "height": 34
        },
        "outputId": "258b9c10-cc54-4076-915d-778949c108f7"
      },
      "source": [
        "tic = time.time()\n",
        "a = 100+100000\n",
        "toc = time.time()\n",
        "print(tic-toc)"
      ],
      "execution_count": 10,
      "outputs": [
        {
          "output_type": "stream",
          "text": [
            "-3.123283386230469e-05\n"
          ],
          "name": "stdout"
        }
      ]
    },
    {
      "cell_type": "code",
      "metadata": {
        "id": "5L2U2cry7s0m",
        "colab_type": "code",
        "colab": {
          "base_uri": "https://localhost:8080/",
          "height": 34
        },
        "outputId": "035b6e33-820b-4c30-cc6b-a998e5fa8b27"
      },
      "source": [
        "my_list = list(range(1000000))\n",
        "tic = time.time()\n",
        "my_list_requires = map(lambda i:1**2,my_list)\n",
        "toc = time.time()\n",
        "print(\"TIME ELAPSED: \",toc-tic)"
      ],
      "execution_count": 15,
      "outputs": [
        {
          "output_type": "stream",
          "text": [
            "TIME ELAPSED:  0.011782407760620117\n"
          ],
          "name": "stdout"
        }
      ]
    },
    {
      "cell_type": "code",
      "metadata": {
        "id": "GxF-L1Bc8UZQ",
        "colab_type": "code",
        "colab": {
          "base_uri": "https://localhost:8080/",
          "height": 34
        },
        "outputId": "250f1d94-b52f-493a-ca72-0e8e589c4336"
      },
      "source": [
        "my_tuple = tuple(range(1000000))\n",
        "tic = time.time()\n",
        "my_tuple_requires = map(lambda i:1**2,my_tuple)\n",
        "toc = time.time()\n",
        "print(\"TIME ELAPSED: \",toc-tic)"
      ],
      "execution_count": 16,
      "outputs": [
        {
          "output_type": "stream",
          "text": [
            "TIME ELAPSED:  9.918212890625e-05\n"
          ],
          "name": "stdout"
        }
      ]
    },
    {
      "cell_type": "code",
      "metadata": {
        "id": "QY9F2D4d8ljo",
        "colab_type": "code",
        "colab": {
          "base_uri": "https://localhost:8080/",
          "height": 34
        },
        "outputId": "9ad3bdeb-162a-4a55-c2e8-7441fcd313f1"
      },
      "source": [
        "my_sets = set(my_phone)\n",
        "my_sets\n"
      ],
      "execution_count": 22,
      "outputs": [
        {
          "output_type": "execute_result",
          "data": {
            "text/plain": [
              "{4.38, 'Black', 'Iphone'}"
            ]
          },
          "metadata": {
            "tags": []
          },
          "execution_count": 22
        }
      ]
    },
    {
      "cell_type": "code",
      "metadata": {
        "id": "afsgCiP483OF",
        "colab_type": "code",
        "colab": {}
      },
      "source": [
        "my_phone = ['Iphone','Black',4.38]"
      ],
      "execution_count": 0,
      "outputs": []
    },
    {
      "cell_type": "code",
      "metadata": {
        "id": "BrUqZC_a9LPa",
        "colab_type": "code",
        "colab": {
          "base_uri": "https://localhost:8080/",
          "height": 85
        },
        "outputId": "c3a8ff98-2639-4845-b6e6-bf1383e87f44"
      },
      "source": [
        "my_list = list(range(10000))\n",
        "tic = time.time()\n",
        "print(978894 in my_list)\n",
        "print(46846464 in my_list)\n",
        "print(4864846894849 in my_list)\n",
        "toc = time.time()\n",
        "print(toc-tic)"
      ],
      "execution_count": 23,
      "outputs": [
        {
          "output_type": "stream",
          "text": [
            "False\n",
            "False\n",
            "False\n",
            "0.002084970474243164\n"
          ],
          "name": "stdout"
        }
      ]
    },
    {
      "cell_type": "code",
      "metadata": {
        "id": "1G7mjmVp91QJ",
        "colab_type": "code",
        "colab": {}
      },
      "source": [
        "my_phone_dict = {}"
      ],
      "execution_count": 0,
      "outputs": []
    },
    {
      "cell_type": "code",
      "metadata": {
        "id": "zCqOdsPO95-h",
        "colab_type": "code",
        "colab": {}
      },
      "source": [
        "my_phone_dict['name'] = 'Iphone'"
      ],
      "execution_count": 0,
      "outputs": []
    },
    {
      "cell_type": "code",
      "metadata": {
        "id": "WhQFLE89-D7q",
        "colab_type": "code",
        "colab": {
          "base_uri": "https://localhost:8080/",
          "height": 34
        },
        "outputId": "0383f79e-8a66-4361-9907-a88bb32f3253"
      },
      "source": [
        "my_phone_dict.items()"
      ],
      "execution_count": 29,
      "outputs": [
        {
          "output_type": "execute_result",
          "data": {
            "text/plain": [
              "dict_items([('name', 'Iphone')])"
            ]
          },
          "metadata": {
            "tags": []
          },
          "execution_count": 29
        }
      ]
    },
    {
      "cell_type": "code",
      "metadata": {
        "id": "PhPdczB_-nRa",
        "colab_type": "code",
        "colab": {}
      },
      "source": [
        "import math"
      ],
      "execution_count": 0,
      "outputs": []
    },
    {
      "cell_type": "code",
      "metadata": {
        "id": "_WgMcFem-1tS",
        "colab_type": "code",
        "colab": {
          "base_uri": "https://localhost:8080/",
          "height": 34
        },
        "outputId": "8da7d129-2c8b-466b-bb71-7ed329c790f9"
      },
      "source": [
        "print(math.sqrt(100))"
      ],
      "execution_count": 31,
      "outputs": [
        {
          "output_type": "stream",
          "text": [
            "10.0\n"
          ],
          "name": "stdout"
        }
      ]
    },
    {
      "cell_type": "code",
      "metadata": {
        "id": "tvfrihsQ-5uq",
        "colab_type": "code",
        "colab": {
          "base_uri": "https://localhost:8080/",
          "height": 34
        },
        "outputId": "61d6fd68-e10b-4aad-b11d-d5a061f7897e"
      },
      "source": [
        "print(math.pow(100,0.5))"
      ],
      "execution_count": 32,
      "outputs": [
        {
          "output_type": "stream",
          "text": [
            "10.0\n"
          ],
          "name": "stdout"
        }
      ]
    },
    {
      "cell_type": "code",
      "metadata": {
        "id": "ocLPMRsE_IN0",
        "colab_type": "code",
        "colab": {
          "base_uri": "https://localhost:8080/",
          "height": 34
        },
        "outputId": "af88891d-4dfc-4016-ea9e-045e1fa7afc0"
      },
      "source": [
        "print(math.ceil(5.025))"
      ],
      "execution_count": 35,
      "outputs": [
        {
          "output_type": "stream",
          "text": [
            "6\n"
          ],
          "name": "stdout"
        }
      ]
    },
    {
      "cell_type": "code",
      "metadata": {
        "id": "KLxBPc1AAg91",
        "colab_type": "code",
        "colab": {}
      },
      "source": [
        "!echo \"def hello():\" > my_first_module.py\n",
        "!echo '    print(\"I am living as a different file\")' >> my_first_module.py"
      ],
      "execution_count": 0,
      "outputs": []
    },
    {
      "cell_type": "code",
      "metadata": {
        "id": "EsWSJhBSAxPr",
        "colab_type": "code",
        "colab": {
          "base_uri": "https://localhost:8080/",
          "height": 51
        },
        "outputId": "0d16dbf8-ea75-4ac2-d10c-746b1b7355cb"
      },
      "source": [
        "!cat my_first_module.py"
      ],
      "execution_count": 51,
      "outputs": [
        {
          "output_type": "stream",
          "text": [
            "def hello():\n",
            "    print(\"I am living as a different file\")\n"
          ],
          "name": "stdout"
        }
      ]
    },
    {
      "cell_type": "code",
      "metadata": {
        "id": "OFb7rghjA3Al",
        "colab_type": "code",
        "colab": {}
      },
      "source": [
        "import my_first_module"
      ],
      "execution_count": 0,
      "outputs": []
    },
    {
      "cell_type": "code",
      "metadata": {
        "id": "os5gseZ4CMAl",
        "colab_type": "code",
        "colab": {
          "base_uri": "https://localhost:8080/",
          "height": 34
        },
        "outputId": "5397c159-53ab-42c8-e2da-cd548bc658fb"
      },
      "source": [
        "my_first_module.hello()"
      ],
      "execution_count": 53,
      "outputs": [
        {
          "output_type": "stream",
          "text": [
            "I am living as a different file\n"
          ],
          "name": "stdout"
        }
      ]
    },
    {
      "cell_type": "code",
      "metadata": {
        "id": "xkQPvAQFCSPk",
        "colab_type": "code",
        "colab": {}
      },
      "source": [
        "from my_first_module import hello"
      ],
      "execution_count": 0,
      "outputs": []
    },
    {
      "cell_type": "code",
      "metadata": {
        "id": "HaoWoqfkCYGk",
        "colab_type": "code",
        "colab": {
          "base_uri": "https://localhost:8080/",
          "height": 34
        },
        "outputId": "148d8adc-b47d-455e-cbbf-1204ac036e33"
      },
      "source": [
        "hello()"
      ],
      "execution_count": 55,
      "outputs": [
        {
          "output_type": "stream",
          "text": [
            "I am living as a different file\n"
          ],
          "name": "stdout"
        }
      ]
    },
    {
      "cell_type": "code",
      "metadata": {
        "id": "NzSJJ5MTDqh6",
        "colab_type": "code",
        "colab": {}
      },
      "source": [
        ""
      ],
      "execution_count": 0,
      "outputs": []
    },
    {
      "cell_type": "markdown",
      "metadata": {
        "id": "vcy7Yo1lDvYq",
        "colab_type": "text"
      },
      "source": [
        "#File Handling"
      ]
    },
    {
      "cell_type": "code",
      "metadata": {
        "id": "k3WxJXkJDyMC",
        "colab_type": "code",
        "colab": {
          "base_uri": "https://localhost:8080/",
          "height": 207
        },
        "outputId": "47c35472-4126-4295-8ad9-88fbd4a7081a"
      },
      "source": [
        "!wget https://www.dropbox.com/s/w94odi4aqlk44lf/mobile_cleaned.csv"
      ],
      "execution_count": 57,
      "outputs": [
        {
          "output_type": "stream",
          "text": [
            "--2019-09-03 07:34:48--  https://www.dropbox.com/s/w94odi4aqlk44lf/mobile_cleaned.csv\n",
            "Resolving www.dropbox.com (www.dropbox.com)... 162.125.9.1, 2620:100:601f:1::a27d:901\n",
            "Connecting to www.dropbox.com (www.dropbox.com)|162.125.9.1|:443... connected.\n",
            "HTTP request sent, awaiting response... 301 Moved Permanently\n",
            "Location: /s/raw/w94odi4aqlk44lf/mobile_cleaned.csv [following]\n",
            "--2019-09-03 07:34:48--  https://www.dropbox.com/s/raw/w94odi4aqlk44lf/mobile_cleaned.csv\n",
            "Reusing existing connection to www.dropbox.com:443.\n",
            "HTTP request sent, awaiting response... 404 Not Found\n",
            "2019-09-03 07:34:48 ERROR 404: Not Found.\n",
            "\n"
          ],
          "name": "stdout"
        }
      ]
    },
    {
      "cell_type": "code",
      "metadata": {
        "id": "slChbHA9Ea66",
        "colab_type": "code",
        "colab": {}
      },
      "source": [
        "with open('my_first_file_output.txt','w') as file:\n",
        "  file.write(\"Hello World from python code\")"
      ],
      "execution_count": 0,
      "outputs": []
    },
    {
      "cell_type": "code",
      "metadata": {
        "id": "TTX5ke-0GoMG",
        "colab_type": "code",
        "colab": {
          "base_uri": "https://localhost:8080/",
          "height": 34
        },
        "outputId": "49752080-5cd7-483a-c320-417dc403bbf8"
      },
      "source": [
        "!cat my_first_file_output.txt"
      ],
      "execution_count": 60,
      "outputs": [
        {
          "output_type": "stream",
          "text": [
            "Hello World from python code"
          ],
          "name": "stdout"
        }
      ]
    },
    {
      "cell_type": "markdown",
      "metadata": {
        "id": "RzTcDVUPG6wQ",
        "colab_type": "text"
      },
      "source": [
        "#Pyth0on class"
      ]
    },
    {
      "cell_type": "code",
      "metadata": {
        "id": "o2zmdh-HG9Wf",
        "colab_type": "code",
        "colab": {}
      },
      "source": [
        "class MobilePhones:\n",
        "  ''' This is a class Basic Programme'''\n",
        "  def __init__(self,name,is_android = False,screen_size = 4.3):\n",
        "    self.name = name\n",
        "    self.is_android = is_android\n",
        "    self.screen_size = screen_size\n",
        "    self.rating = -1\n",
        "    \n",
        "  def has_rating(self):\n",
        "    return self.rating > -1"
      ],
      "execution_count": 0,
      "outputs": []
    },
    {
      "cell_type": "code",
      "metadata": {
        "id": "YapUF4FnHFW2",
        "colab_type": "code",
        "colab": {}
      },
      "source": [
        "new_phone = MobilePhones(\"Iphone 5S\")"
      ],
      "execution_count": 0,
      "outputs": []
    },
    {
      "cell_type": "code",
      "metadata": {
        "id": "60wn1E_DHMP_",
        "colab_type": "code",
        "colab": {
          "base_uri": "https://localhost:8080/",
          "height": 34
        },
        "outputId": "b9f0e86d-c607-490a-fd36-3c44be14c7b9"
      },
      "source": [
        "type(new_phone)"
      ],
      "execution_count": 86,
      "outputs": [
        {
          "output_type": "execute_result",
          "data": {
            "text/plain": [
              "__main__.MobilePhones"
            ]
          },
          "metadata": {
            "tags": []
          },
          "execution_count": 86
        }
      ]
    },
    {
      "cell_type": "code",
      "metadata": {
        "id": "agMXb5_HIU4Y",
        "colab_type": "code",
        "colab": {
          "base_uri": "https://localhost:8080/",
          "height": 34
        },
        "outputId": "98d71d84-8bdd-4abc-ed31-e9aeb9432b78"
      },
      "source": [
        "print(new_phone.name,new_phone.is_android)"
      ],
      "execution_count": 87,
      "outputs": [
        {
          "output_type": "stream",
          "text": [
            "Iphone 5S False\n"
          ],
          "name": "stdout"
        }
      ]
    },
    {
      "cell_type": "code",
      "metadata": {
        "id": "R_UIjL05HRoR",
        "colab_type": "code",
        "colab": {
          "base_uri": "https://localhost:8080/",
          "height": 34
        },
        "outputId": "e8ba9745-b5f7-4e13-cd27-1410040319f7"
      },
      "source": [
        "new_phone.has_rating()"
      ],
      "execution_count": 92,
      "outputs": [
        {
          "output_type": "execute_result",
          "data": {
            "text/plain": [
              "True"
            ]
          },
          "metadata": {
            "tags": []
          },
          "execution_count": 92
        }
      ]
    },
    {
      "cell_type": "code",
      "metadata": {
        "id": "5got5RhZJ38C",
        "colab_type": "code",
        "colab": {}
      },
      "source": [
        "new_phone.rating = 3.5"
      ],
      "execution_count": 0,
      "outputs": []
    },
    {
      "cell_type": "code",
      "metadata": {
        "id": "6Xu9KnDxKcZy",
        "colab_type": "code",
        "colab": {
          "base_uri": "https://localhost:8080/",
          "height": 34
        },
        "outputId": "724898ff-2494-48b1-a87d-dba2e688108a"
      },
      "source": [
        "MobilePhones.__doc__"
      ],
      "execution_count": 93,
      "outputs": [
        {
          "output_type": "execute_result",
          "data": {
            "text/plain": [
              "' This is a class Basic Programme'"
            ]
          },
          "metadata": {
            "tags": []
          },
          "execution_count": 93
        }
      ]
    },
    {
      "cell_type": "code",
      "metadata": {
        "id": "5CW0cShUKkzz",
        "colab_type": "code",
        "colab": {}
      },
      "source": [
        "class iPhone(MobilePhones):\n",
        "  def __init__(self,name):\n",
        "    MobilePhones.__init__(self,name, False,4.98)\n",
        "  def __str__(self):\n",
        "    return self.name +' ' + str(self.is_android) + ' '+ str(self.screen_size)"
      ],
      "execution_count": 0,
      "outputs": []
    },
    {
      "cell_type": "code",
      "metadata": {
        "id": "-yffvVVNLKFz",
        "colab_type": "code",
        "colab": {}
      },
      "source": [
        "new_iphone = iPhone('iPhone 5S')"
      ],
      "execution_count": 0,
      "outputs": []
    },
    {
      "cell_type": "code",
      "metadata": {
        "id": "fAODHOPwLTe0",
        "colab_type": "code",
        "colab": {
          "base_uri": "https://localhost:8080/",
          "height": 34
        },
        "outputId": "f26d6c8f-628e-4265-cef6-ec3fc5e0b1c6"
      },
      "source": [
        "new_iphone.is_android"
      ],
      "execution_count": 106,
      "outputs": [
        {
          "output_type": "execute_result",
          "data": {
            "text/plain": [
              "False"
            ]
          },
          "metadata": {
            "tags": []
          },
          "execution_count": 106
        }
      ]
    },
    {
      "cell_type": "code",
      "metadata": {
        "id": "3cj0e7JjL8P-",
        "colab_type": "code",
        "colab": {
          "base_uri": "https://localhost:8080/",
          "height": 34
        },
        "outputId": "b5c727bc-77bd-40e6-8ede-3e4afbb1a3cf"
      },
      "source": [
        "print(new_iphone)"
      ],
      "execution_count": 107,
      "outputs": [
        {
          "output_type": "stream",
          "text": [
            "iPhone 5S False 4.98\n"
          ],
          "name": "stdout"
        }
      ]
    },
    {
      "cell_type": "code",
      "metadata": {
        "id": "QvRlttZwL8yw",
        "colab_type": "code",
        "colab": {}
      },
      "source": [
        "()"
      ],
      "execution_count": 0,
      "outputs": []
    },
    {
      "cell_type": "markdown",
      "metadata": {
        "id": "7QoLxZMJMG6u",
        "colab_type": "text"
      },
      "source": [
        "#Numpy"
      ]
    },
    {
      "cell_type": "code",
      "metadata": {
        "id": "Z7iDkQ7yMJCB",
        "colab_type": "code",
        "colab": {}
      },
      "source": [
        "import numpy as np"
      ],
      "execution_count": 0,
      "outputs": []
    },
    {
      "cell_type": "code",
      "metadata": {
        "id": "Tx5-FZW8Mb0x",
        "colab_type": "code",
        "colab": {
          "base_uri": "https://localhost:8080/",
          "height": 34
        },
        "outputId": "9dd4c9a8-26ab-4491-ebe5-63fb0f69eae1"
      },
      "source": [
        "X = np.asarray([1,2,3])\n",
        "print(X)"
      ],
      "execution_count": 114,
      "outputs": [
        {
          "output_type": "stream",
          "text": [
            "[1 2 3]\n"
          ],
          "name": "stdout"
        }
      ]
    },
    {
      "cell_type": "code",
      "metadata": {
        "id": "4VMwOjlpMjqo",
        "colab_type": "code",
        "colab": {
          "base_uri": "https://localhost:8080/",
          "height": 34
        },
        "outputId": "f3591eb9-74ac-4bb0-8be4-b596ef7cd25e"
      },
      "source": [
        "type(X)"
      ],
      "execution_count": 111,
      "outputs": [
        {
          "output_type": "execute_result",
          "data": {
            "text/plain": [
              "numpy.ndarray"
            ]
          },
          "metadata": {
            "tags": []
          },
          "execution_count": 111
        }
      ]
    },
    {
      "cell_type": "code",
      "metadata": {
        "id": "3Sq0RiebMmpq",
        "colab_type": "code",
        "colab": {
          "base_uri": "https://localhost:8080/",
          "height": 34
        },
        "outputId": "170b321f-4a89-4cdb-c0ac-18a452cc25f6"
      },
      "source": [
        "l = [4,5,6,8]\n",
        "a = np.asarray(l)\n",
        "type(a)"
      ],
      "execution_count": 115,
      "outputs": [
        {
          "output_type": "execute_result",
          "data": {
            "text/plain": [
              "numpy.ndarray"
            ]
          },
          "metadata": {
            "tags": []
          },
          "execution_count": 115
        }
      ]
    },
    {
      "cell_type": "code",
      "metadata": {
        "id": "U0j-ol89Mvd_",
        "colab_type": "code",
        "colab": {
          "base_uri": "https://localhost:8080/",
          "height": 34
        },
        "outputId": "2000ad9a-d48e-4a50-bc89-ac65937dfc9a"
      },
      "source": [
        "a"
      ],
      "execution_count": 116,
      "outputs": [
        {
          "output_type": "execute_result",
          "data": {
            "text/plain": [
              "array([4, 5, 6, 8])"
            ]
          },
          "metadata": {
            "tags": []
          },
          "execution_count": 116
        }
      ]
    },
    {
      "cell_type": "code",
      "metadata": {
        "id": "JsZsvaTkM--e",
        "colab_type": "code",
        "colab": {}
      },
      "source": [
        "X = np.array(l, float)"
      ],
      "execution_count": 0,
      "outputs": []
    },
    {
      "cell_type": "code",
      "metadata": {
        "id": "wlpr6M7jNGKz",
        "colab_type": "code",
        "colab": {
          "base_uri": "https://localhost:8080/",
          "height": 34
        },
        "outputId": "3a680387-5392-411d-b369-cb589c9c02da"
      },
      "source": [
        "X"
      ],
      "execution_count": 118,
      "outputs": [
        {
          "output_type": "execute_result",
          "data": {
            "text/plain": [
              "array([4., 5., 6., 8.])"
            ]
          },
          "metadata": {
            "tags": []
          },
          "execution_count": 118
        }
      ]
    },
    {
      "cell_type": "code",
      "metadata": {
        "id": "0-XYTRvcNHU0",
        "colab_type": "code",
        "colab": {
          "base_uri": "https://localhost:8080/",
          "height": 34
        },
        "outputId": "836f8574-f815-44c9-93eb-54b22348052e"
      },
      "source": [
        "X.shape\n"
      ],
      "execution_count": 119,
      "outputs": [
        {
          "output_type": "execute_result",
          "data": {
            "text/plain": [
              "(4,)"
            ]
          },
          "metadata": {
            "tags": []
          },
          "execution_count": 119
        }
      ]
    },
    {
      "cell_type": "code",
      "metadata": {
        "id": "kv40oDg1NMFW",
        "colab_type": "code",
        "colab": {}
      },
      "source": [
        "np?"
      ],
      "execution_count": 0,
      "outputs": []
    },
    {
      "cell_type": "code",
      "metadata": {
        "id": "b14rYjTMNWHe",
        "colab_type": "code",
        "colab": {
          "base_uri": "https://localhost:8080/",
          "height": 51
        },
        "outputId": "e425c0fe-b728-43bc-8a08-9c4f6a638636"
      },
      "source": [
        "X = np.array([[1,2,3],[4,5,6]])\n",
        "X"
      ],
      "execution_count": 125,
      "outputs": [
        {
          "output_type": "execute_result",
          "data": {
            "text/plain": [
              "array([[1, 2, 3],\n",
              "       [4, 5, 6]])"
            ]
          },
          "metadata": {
            "tags": []
          },
          "execution_count": 125
        }
      ]
    },
    {
      "cell_type": "code",
      "metadata": {
        "id": "ffU9cbLjN18V",
        "colab_type": "code",
        "colab": {
          "base_uri": "https://localhost:8080/",
          "height": 34
        },
        "outputId": "6d98460b-1759-47e3-e1fc-baeb845d128d"
      },
      "source": [
        "X.shape"
      ],
      "execution_count": 126,
      "outputs": [
        {
          "output_type": "execute_result",
          "data": {
            "text/plain": [
              "(2, 3)"
            ]
          },
          "metadata": {
            "tags": []
          },
          "execution_count": 126
        }
      ]
    },
    {
      "cell_type": "code",
      "metadata": {
        "id": "8TpVk_epO3Cr",
        "colab_type": "code",
        "colab": {
          "base_uri": "https://localhost:8080/",
          "height": 102
        },
        "outputId": "96f7a2ab-0679-4289-cd64-01be6113e3b2"
      },
      "source": [
        "print(np.eye(5))"
      ],
      "execution_count": 127,
      "outputs": [
        {
          "output_type": "stream",
          "text": [
            "[[1. 0. 0. 0. 0.]\n",
            " [0. 1. 0. 0. 0.]\n",
            " [0. 0. 1. 0. 0.]\n",
            " [0. 0. 0. 1. 0.]\n",
            " [0. 0. 0. 0. 1.]]\n"
          ],
          "name": "stdout"
        }
      ]
    },
    {
      "cell_type": "code",
      "metadata": {
        "id": "ELpbmms9PA8X",
        "colab_type": "code",
        "colab": {}
      },
      "source": [
        "X = np.random.random((4,5))"
      ],
      "execution_count": 0,
      "outputs": []
    },
    {
      "cell_type": "code",
      "metadata": {
        "id": "lESJ83-RPG6j",
        "colab_type": "code",
        "colab": {
          "base_uri": "https://localhost:8080/",
          "height": 85
        },
        "outputId": "f06b1554-13c2-4885-9ba0-7a5c3f2c2d28"
      },
      "source": [
        "X"
      ],
      "execution_count": 129,
      "outputs": [
        {
          "output_type": "execute_result",
          "data": {
            "text/plain": [
              "array([[0.91562132, 0.01680647, 0.37546638, 0.08475959, 0.0681988 ],\n",
              "       [0.68860846, 0.74851196, 0.15914698, 0.500039  , 0.35500379],\n",
              "       [0.31875947, 0.59691463, 0.63795959, 0.5942625 , 0.1726421 ],\n",
              "       [0.05560219, 0.21973277, 0.28369659, 0.87518274, 0.41809162]])"
            ]
          },
          "metadata": {
            "tags": []
          },
          "execution_count": 129
        }
      ]
    },
    {
      "cell_type": "code",
      "metadata": {
        "id": "AIXXxtltPINr",
        "colab_type": "code",
        "colab": {}
      },
      "source": [
        "z = X.T"
      ],
      "execution_count": 0,
      "outputs": []
    },
    {
      "cell_type": "code",
      "metadata": {
        "id": "DN2ftXdoPTzj",
        "colab_type": "code",
        "colab": {
          "base_uri": "https://localhost:8080/",
          "height": 102
        },
        "outputId": "a84f3004-081b-4b10-c4e0-13392e37fe14"
      },
      "source": [
        "z"
      ],
      "execution_count": 132,
      "outputs": [
        {
          "output_type": "execute_result",
          "data": {
            "text/plain": [
              "array([[0.91562132, 0.68860846, 0.31875947, 0.05560219],\n",
              "       [0.01680647, 0.74851196, 0.59691463, 0.21973277],\n",
              "       [0.37546638, 0.15914698, 0.63795959, 0.28369659],\n",
              "       [0.08475959, 0.500039  , 0.5942625 , 0.87518274],\n",
              "       [0.0681988 , 0.35500379, 0.1726421 , 0.41809162]])"
            ]
          },
          "metadata": {
            "tags": []
          },
          "execution_count": 132
        }
      ]
    },
    {
      "cell_type": "code",
      "metadata": {
        "id": "QUnf1W4-PZhL",
        "colab_type": "code",
        "colab": {}
      },
      "source": [
        "Y = X.reshape(20,1)"
      ],
      "execution_count": 0,
      "outputs": []
    },
    {
      "cell_type": "code",
      "metadata": {
        "id": "p5bp7ZqFPgSs",
        "colab_type": "code",
        "colab": {
          "base_uri": "https://localhost:8080/",
          "height": 357
        },
        "outputId": "94532bd7-76c5-462f-f9f2-c8e6ea95a5b7"
      },
      "source": [
        "Y"
      ],
      "execution_count": 134,
      "outputs": [
        {
          "output_type": "execute_result",
          "data": {
            "text/plain": [
              "array([[0.91562132],\n",
              "       [0.01680647],\n",
              "       [0.37546638],\n",
              "       [0.08475959],\n",
              "       [0.0681988 ],\n",
              "       [0.68860846],\n",
              "       [0.74851196],\n",
              "       [0.15914698],\n",
              "       [0.500039  ],\n",
              "       [0.35500379],\n",
              "       [0.31875947],\n",
              "       [0.59691463],\n",
              "       [0.63795959],\n",
              "       [0.5942625 ],\n",
              "       [0.1726421 ],\n",
              "       [0.05560219],\n",
              "       [0.21973277],\n",
              "       [0.28369659],\n",
              "       [0.87518274],\n",
              "       [0.41809162]])"
            ]
          },
          "metadata": {
            "tags": []
          },
          "execution_count": 134
        }
      ]
    },
    {
      "cell_type": "code",
      "metadata": {
        "id": "B5lMr9_rPidL",
        "colab_type": "code",
        "colab": {
          "base_uri": "https://localhost:8080/",
          "height": 34
        },
        "outputId": "51c942e3-c305-4881-aed1-6f83d2973d78"
      },
      "source": [
        "S = np.arange(5)\n",
        "print(S)"
      ],
      "execution_count": 136,
      "outputs": [
        {
          "output_type": "stream",
          "text": [
            "[0 1 2 3 4]\n"
          ],
          "name": "stdout"
        }
      ]
    },
    {
      "cell_type": "code",
      "metadata": {
        "id": "xuQ2kkpNQQVk",
        "colab_type": "code",
        "colab": {}
      },
      "source": [
        "M = np.arange(5)"
      ],
      "execution_count": 0,
      "outputs": []
    },
    {
      "cell_type": "code",
      "metadata": {
        "id": "I4pZPJKEQWEV",
        "colab_type": "code",
        "colab": {
          "base_uri": "https://localhost:8080/",
          "height": 34
        },
        "outputId": "6600e77a-2a46-49d9-a34d-597706c6f345"
      },
      "source": [
        "print(S*M)"
      ],
      "execution_count": 140,
      "outputs": [
        {
          "output_type": "stream",
          "text": [
            "[ 0  1  4  9 16]\n"
          ],
          "name": "stdout"
        }
      ]
    },
    {
      "cell_type": "code",
      "metadata": {
        "id": "1BQqd1iIQc_G",
        "colab_type": "code",
        "colab": {}
      },
      "source": [
        "u = [-1,2,3]\n",
        "v = [1,0,1]"
      ],
      "execution_count": 0,
      "outputs": []
    },
    {
      "cell_type": "code",
      "metadata": {
        "id": "4IAOmZpaRtW1",
        "colab_type": "code",
        "colab": {
          "base_uri": "https://localhost:8080/",
          "height": 34
        },
        "outputId": "ea97f9b4-01ff-42d3-a2db-7de28408eb5f"
      },
      "source": [
        "p1 = np.inner(u,v)\n",
        "print(p1)"
      ],
      "execution_count": 143,
      "outputs": [
        {
          "output_type": "stream",
          "text": [
            "2\n"
          ],
          "name": "stdout"
        }
      ]
    },
    {
      "cell_type": "code",
      "metadata": {
        "id": "u3G_mW-jRzm1",
        "colab_type": "code",
        "colab": {
          "base_uri": "https://localhost:8080/",
          "height": 68
        },
        "outputId": "d3533191-5ce0-42fc-a080-009bf5c52259"
      },
      "source": [
        "p2 = np.outer(u,v)\n",
        "print(p2)"
      ],
      "execution_count": 144,
      "outputs": [
        {
          "output_type": "stream",
          "text": [
            "[[-1  0 -1]\n",
            " [ 2  0  2]\n",
            " [ 3  0  3]]\n"
          ],
          "name": "stdout"
        }
      ]
    },
    {
      "cell_type": "code",
      "metadata": {
        "id": "6BcCfb-nR8l-",
        "colab_type": "code",
        "colab": {
          "base_uri": "https://localhost:8080/",
          "height": 34
        },
        "outputId": "7b5481da-424d-423d-e204-17d636da1370"
      },
      "source": [
        "p2.sum()"
      ],
      "execution_count": 145,
      "outputs": [
        {
          "output_type": "execute_result",
          "data": {
            "text/plain": [
              "8"
            ]
          },
          "metadata": {
            "tags": []
          },
          "execution_count": 145
        }
      ]
    },
    {
      "cell_type": "code",
      "metadata": {
        "id": "eyUWpcvXSOXt",
        "colab_type": "code",
        "colab": {
          "base_uri": "https://localhost:8080/",
          "height": 34
        },
        "outputId": "f9ef3d9f-9382-4ce7-a9b4-3d3069495651"
      },
      "source": [
        "p2.sum(axis = 0)"
      ],
      "execution_count": 146,
      "outputs": [
        {
          "output_type": "execute_result",
          "data": {
            "text/plain": [
              "array([4, 0, 4])"
            ]
          },
          "metadata": {
            "tags": []
          },
          "execution_count": 146
        }
      ]
    },
    {
      "cell_type": "markdown",
      "metadata": {
        "id": "uIPkx5W_SdHK",
        "colab_type": "text"
      },
      "source": [
        "#Plotting#"
      ]
    },
    {
      "cell_type": "code",
      "metadata": {
        "id": "Qp8ti01cSf3G",
        "colab_type": "code",
        "colab": {}
      },
      "source": [
        "from matplotlib import pyplot as plt"
      ],
      "execution_count": 0,
      "outputs": []
    },
    {
      "cell_type": "code",
      "metadata": {
        "id": "Ucj9e1fwS4od",
        "colab_type": "code",
        "colab": {
          "base_uri": "https://localhost:8080/",
          "height": 187
        },
        "outputId": "ed4981b9-56cd-4554-9f7f-72c287e93836"
      },
      "source": [
        "X = np.random.random((10,1))\n",
        "print(X)"
      ],
      "execution_count": 151,
      "outputs": [
        {
          "output_type": "stream",
          "text": [
            "[[0.44607381]\n",
            " [0.33252652]\n",
            " [0.63197414]\n",
            " [0.38373768]\n",
            " [0.34332646]\n",
            " [0.15019517]\n",
            " [0.49670341]\n",
            " [0.52197934]\n",
            " [0.60953517]\n",
            " [0.55314332]]\n"
          ],
          "name": "stdout"
        }
      ]
    },
    {
      "cell_type": "code",
      "metadata": {
        "id": "p0vYLeuwTB4u",
        "colab_type": "code",
        "colab": {
          "base_uri": "https://localhost:8080/",
          "height": 269
        },
        "outputId": "cbf6cc75-f64d-46a6-e500-03f33ac17712"
      },
      "source": [
        "plt.plot(X,'*')\n",
        "plt.show()"
      ],
      "execution_count": 154,
      "outputs": [
        {
          "output_type": "display_data",
          "data": {
            "image/png": "[encoded data removed]",
            "text/plain": [
              "<Figure size 432x288 with 1 Axes>"
            ]
          },
          "metadata": {
            "tags": []
          }
        }
      ]
    },
    {
      "cell_type": "code",
      "metadata": {
        "id": "3rSq3HpcTXt9",
        "colab_type": "code",
        "colab": {}
      },
      "source": [
        "X = np.linspace(0,10,100)\n",
        "Y = np.power(X,2)"
      ],
      "execution_count": 0,
      "outputs": []
    },
    {
      "cell_type": "code",
      "metadata": {
        "id": "hVx3rkfPTp_G",
        "colab_type": "code",
        "colab": {
          "base_uri": "https://localhost:8080/",
          "height": 269
        },
        "outputId": "9222f3cb-e995-49e8-e38a-f68028ced2b3"
      },
      "source": [
        "plt.plot(X,Y,'*')\n",
        "plt.show()"
      ],
      "execution_count": 164,
      "outputs": [
        {
          "output_type": "display_data",
          "data": {
            "image/png": "[encoded data removed]",
            "text/plain": [
              "<Figure size 432x288 with 1 Axes>"
            ]
          },
          "metadata": {
            "tags": []
          }
        }
      ]
    },
    {
      "cell_type": "code",
      "metadata": {
        "id": "boH0WPTNUC8N",
        "colab_type": "code",
        "colab": {}
      },
      "source": [
        "import seaborn as sns"
      ],
      "execution_count": 0,
      "outputs": []
    },
    {
      "cell_type": "code",
      "metadata": {
        "id": "4rRrPtYNUY8M",
        "colab_type": "code",
        "colab": {}
      },
      "source": [
        "sns.set()"
      ],
      "execution_count": 0,
      "outputs": []
    },
    {
      "cell_type": "code",
      "metadata": {
        "id": "dgfOaScmUbHU",
        "colab_type": "code",
        "colab": {
          "base_uri": "https://localhost:8080/",
          "height": 291
        },
        "outputId": "5edef8ba-c423-4272-f178-838822fe69e5"
      },
      "source": [
        "sns.lineplot(X,Y)"
      ],
      "execution_count": 167,
      "outputs": [
        {
          "output_type": "execute_result",
          "data": {
            "text/plain": [
              "<matplotlib.axes._subplots.AxesSubplot at 0x7f84b1c3f358>"
            ]
          },
          "metadata": {
            "tags": []
          },
          "execution_count": 167
        },
        {
          "output_type": "display_data",
          "data": {
            "image/png": "[encoded data removed]",
            "text/plain": [
              "<Figure size 432x288 with 1 Axes>"
            ]
          },
          "metadata": {
            "tags": []
          }
        }
      ]
    },
    {
      "cell_type": "code",
      "metadata": {
        "id": "mBkqul19UlQL",
        "colab_type": "code",
        "colab": {}
      },
      "source": [
        "import pandas as pd"
      ],
      "execution_count": 0,
      "outputs": []
    },
    {
      "cell_type": "code",
      "metadata": {
        "id": "hBzbD1NvVKvE",
        "colab_type": "code",
        "colab": {
          "base_uri": "https://localhost:8080/",
          "height": 207
        },
        "outputId": "b59b6a72-2acb-4646-be6f-764bc30f9636"
      },
      "source": [
        "!wget https://www.dropbox.com/s/w94odi4aqlk44lf/mobile_cleaned.csv"
      ],
      "execution_count": 169,
      "outputs": [
        {
          "output_type": "stream",
          "text": [
            "--2019-09-03 08:47:03--  https://www.dropbox.com/s/w94odi4aqlk44lf/mobile_cleaned.csv\n",
            "Resolving www.dropbox.com (www.dropbox.com)... 162.125.9.1, 2620:100:601f:1::a27d:901\n",
            "Connecting to www.dropbox.com (www.dropbox.com)|162.125.9.1|:443... connected.\n",
            "HTTP request sent, awaiting response... 301 Moved Permanently\n",
            "Location: /s/raw/w94odi4aqlk44lf/mobile_cleaned.csv [following]\n",
            "--2019-09-03 08:47:03--  https://www.dropbox.com/s/raw/w94odi4aqlk44lf/mobile_cleaned.csv\n",
            "Reusing existing connection to www.dropbox.com:443.\n",
            "HTTP request sent, awaiting response... 404 Not Found\n",
            "2019-09-03 08:47:03 ERROR 404: Not Found.\n",
            "\n"
          ],
          "name": "stdout"
        }
      ]
    },
    {
      "cell_type": "code",
      "metadata": {
        "id": "lVVrOSojVYOV",
        "colab_type": "code",
        "colab": {
          "base_uri": "https://localhost:8080/",
          "height": 183
        },
        "outputId": "05967b1e-ba3c-4b43-8841-c49dd3cd6fa8"
      },
      "source": [
        "ax = sns.scatterplot(x = 'stand-by-time',y = 'battery-capacity',hue = 'thickness',data = data)"
      ],
      "execution_count": 170,
      "outputs": [
        {
          "output_type": "error",
          "ename": "NameError",
          "evalue": "ignored",
          "traceback": [
            "\u001b[0;31m---------------------------------------------------------------------------\u001b[0m",
            "\u001b[0;31mNameError\u001b[0m                                 Traceback (most recent call last)",
            "\u001b[0;32m<ipython-input-170-f521ba89c3bb>\u001b[0m in \u001b[0;36m<module>\u001b[0;34m()\u001b[0m\n\u001b[0;32m----> 1\u001b[0;31m \u001b[0max\u001b[0m \u001b[0;34m=\u001b[0m \u001b[0msns\u001b[0m\u001b[0;34m.\u001b[0m\u001b[0mscatterplot\u001b[0m\u001b[0;34m(\u001b[0m\u001b[0mx\u001b[0m \u001b[0;34m=\u001b[0m \u001b[0;34m'stand-by-time'\u001b[0m\u001b[0;34m,\u001b[0m\u001b[0my\u001b[0m \u001b[0;34m=\u001b[0m \u001b[0;34m'battery-capacity'\u001b[0m\u001b[0;34m,\u001b[0m\u001b[0mhue\u001b[0m \u001b[0;34m=\u001b[0m \u001b[0;34m'thickness'\u001b[0m\u001b[0;34m,\u001b[0m\u001b[0mdata\u001b[0m \u001b[0;34m=\u001b[0m \u001b[0mdata\u001b[0m\u001b[0;34m)\u001b[0m\u001b[0;34m\u001b[0m\u001b[0;34m\u001b[0m\u001b[0m\n\u001b[0m",
            "\u001b[0;31mNameError\u001b[0m: name 'data' is not defined"
          ]
        }
      ]
    },
    {
      "cell_type": "code",
      "metadata": {
        "id": "sMILrH-5WeH0",
        "colab_type": "code",
        "colab": {
          "base_uri": "https://localhost:8080/",
          "height": 183
        },
        "outputId": "a48b1f6a-314c-40fb-c0ea-cbbd34b08ac0"
      },
      "source": [
        "ax = data.distplot(data['stand-by-time'])"
      ],
      "execution_count": 171,
      "outputs": [
        {
          "output_type": "error",
          "ename": "NameError",
          "evalue": "ignored",
          "traceback": [
            "\u001b[0;31m---------------------------------------------------------------------------\u001b[0m",
            "\u001b[0;31mNameError\u001b[0m                                 Traceback (most recent call last)",
            "\u001b[0;32m<ipython-input-171-44210df84f55>\u001b[0m in \u001b[0;36m<module>\u001b[0;34m()\u001b[0m\n\u001b[0;32m----> 1\u001b[0;31m \u001b[0max\u001b[0m \u001b[0;34m=\u001b[0m \u001b[0mdata\u001b[0m\u001b[0;34m.\u001b[0m\u001b[0mdistplot\u001b[0m\u001b[0;34m(\u001b[0m\u001b[0mdata\u001b[0m\u001b[0;34m[\u001b[0m\u001b[0;34m'stand-by-time'\u001b[0m\u001b[0;34m]\u001b[0m\u001b[0;34m)\u001b[0m\u001b[0;34m\u001b[0m\u001b[0;34m\u001b[0m\u001b[0m\n\u001b[0m",
            "\u001b[0;31mNameError\u001b[0m: name 'data' is not defined"
          ]
        }
      ]
    },
    {
      "cell_type": "code",
      "metadata": {
        "id": "Wd4hV-QpW1bU",
        "colab_type": "code",
        "colab": {
          "base_uri": "https://localhost:8080/",
          "height": 183
        },
        "outputId": "2a72fe3a-7129-4526-b6f8-442eed3177ef"
      },
      "source": [
        "ax = sns.displot(data['sta'],kds = False, rug = True, bins = 20)"
      ],
      "execution_count": 172,
      "outputs": [
        {
          "output_type": "error",
          "ename": "AttributeError",
          "evalue": "ignored",
          "traceback": [
            "\u001b[0;31m---------------------------------------------------------------------------\u001b[0m",
            "\u001b[0;31mAttributeError\u001b[0m                            Traceback (most recent call last)",
            "\u001b[0;32m<ipython-input-172-5f5c678046f0>\u001b[0m in \u001b[0;36m<module>\u001b[0;34m()\u001b[0m\n\u001b[0;32m----> 1\u001b[0;31m \u001b[0max\u001b[0m \u001b[0;34m=\u001b[0m \u001b[0msns\u001b[0m\u001b[0;34m.\u001b[0m\u001b[0mdisplot\u001b[0m\u001b[0;34m(\u001b[0m\u001b[0mdata\u001b[0m\u001b[0;34m[\u001b[0m\u001b[0;34m'sta'\u001b[0m\u001b[0;34m]\u001b[0m\u001b[0;34m,\u001b[0m\u001b[0mkds\u001b[0m \u001b[0;34m=\u001b[0m \u001b[0;32mFalse\u001b[0m\u001b[0;34m,\u001b[0m \u001b[0mrug\u001b[0m \u001b[0;34m=\u001b[0m \u001b[0;32mTrue\u001b[0m\u001b[0;34m,\u001b[0m \u001b[0mbins\u001b[0m \u001b[0;34m=\u001b[0m \u001b[0;36m20\u001b[0m\u001b[0;34m)\u001b[0m\u001b[0;34m\u001b[0m\u001b[0;34m\u001b[0m\u001b[0m\n\u001b[0m",
            "\u001b[0;31mAttributeError\u001b[0m: module 'seaborn' has no attribute 'displot'"
          ]
        }
      ]
    },
    {
      "cell_type": "code",
      "metadata": {
        "id": "xrMwqIT9XE_-",
        "colab_type": "code",
        "colab": {
          "base_uri": "https://localhost:8080/",
          "height": 183
        },
        "outputId": "10f8e4ba-342b-43c6-8aa0-e24f84702294"
      },
      "source": [
        "ax = sns.boxplot(x = 'is_liked',y = 'data_capacity',data = data)"
      ],
      "execution_count": 173,
      "outputs": [
        {
          "output_type": "error",
          "ename": "NameError",
          "evalue": "ignored",
          "traceback": [
            "\u001b[0;31m---------------------------------------------------------------------------\u001b[0m",
            "\u001b[0;31mNameError\u001b[0m                                 Traceback (most recent call last)",
            "\u001b[0;32m<ipython-input-173-640b832941cf>\u001b[0m in \u001b[0;36m<module>\u001b[0;34m()\u001b[0m\n\u001b[0;32m----> 1\u001b[0;31m \u001b[0max\u001b[0m \u001b[0;34m=\u001b[0m \u001b[0msns\u001b[0m\u001b[0;34m.\u001b[0m\u001b[0mboxplot\u001b[0m\u001b[0;34m(\u001b[0m\u001b[0mx\u001b[0m \u001b[0;34m=\u001b[0m \u001b[0;34m'is_liked'\u001b[0m\u001b[0;34m,\u001b[0m\u001b[0my\u001b[0m \u001b[0;34m=\u001b[0m \u001b[0;34m'data_capacity'\u001b[0m\u001b[0;34m,\u001b[0m\u001b[0mdata\u001b[0m \u001b[0;34m=\u001b[0m \u001b[0mdata\u001b[0m\u001b[0;34m)\u001b[0m\u001b[0;34m\u001b[0m\u001b[0;34m\u001b[0m\u001b[0m\n\u001b[0m",
            "\u001b[0;31mNameError\u001b[0m: name 'data' is not defined"
          ]
        }
      ]
    },
    {
      "cell_type": "code",
      "metadata": {
        "id": "RNqvko_AXTYD",
        "colab_type": "code",
        "colab": {
          "base_uri": "https://localhost:8080/",
          "height": 183
        },
        "outputId": "8e695161-675e-4b8e-a90b-30ffda5f977e"
      },
      "source": [
        "ax = sns.heapmap(uniform_data)"
      ],
      "execution_count": 174,
      "outputs": [
        {
          "output_type": "error",
          "ename": "AttributeError",
          "evalue": "ignored",
          "traceback": [
            "\u001b[0;31m---------------------------------------------------------------------------\u001b[0m",
            "\u001b[0;31mAttributeError\u001b[0m                            Traceback (most recent call last)",
            "\u001b[0;32m<ipython-input-174-0d7284543705>\u001b[0m in \u001b[0;36m<module>\u001b[0;34m()\u001b[0m\n\u001b[0;32m----> 1\u001b[0;31m \u001b[0max\u001b[0m \u001b[0;34m=\u001b[0m \u001b[0msns\u001b[0m\u001b[0;34m.\u001b[0m\u001b[0mheapmap\u001b[0m\u001b[0;34m(\u001b[0m\u001b[0muniform_data\u001b[0m\u001b[0;34m)\u001b[0m\u001b[0;34m\u001b[0m\u001b[0;34m\u001b[0m\u001b[0m\n\u001b[0m",
            "\u001b[0;31mAttributeError\u001b[0m: module 'seaborn' has no attribute 'heapmap'"
          ]
        }
      ]
    },
    {
      "cell_type": "code",
      "metadata": {
        "id": "qtrX0Va-ZEKL",
        "colab_type": "code",
        "colab": {
          "base_uri": "https://localhost:8080/",
          "height": 224
        },
        "outputId": "cbfa7079-ecec-49f3-eaee-4900e1a4a0e5"
      },
      "source": [
        "!wget https://s3.amazonaws.com/thinkific-import/153034/xRlRg7ERv2QuDe9ZV7q6_OFL_text-logo_color.png"
      ],
      "execution_count": 175,
      "outputs": [
        {
          "output_type": "stream",
          "text": [
            "--2019-09-03 09:04:54--  https://s3.amazonaws.com/thinkific-import/153034/xRlRg7ERv2QuDe9ZV7q6_OFL_text-logo_color.png\n",
            "Resolving s3.amazonaws.com (s3.amazonaws.com)... 52.216.139.77\n",
            "Connecting to s3.amazonaws.com (s3.amazonaws.com)|52.216.139.77|:443... connected.\n",
            "HTTP request sent, awaiting response... 200 OK\n",
            "Length: 45759 (45K) [image/png]\n",
            "Saving to: ‘xRlRg7ERv2QuDe9ZV7q6_OFL_text-logo_color.png’\n",
            "\n",
            "\r          xRlRg7ERv   0%[                    ]       0  --.-KB/s               \rxRlRg7ERv2QuDe9ZV7q 100%[===================>]  44.69K  --.-KB/s    in 0.01s   \n",
            "\n",
            "2019-09-03 09:04:54 (3.25 MB/s) - ‘xRlRg7ERv2QuDe9ZV7q6_OFL_text-logo_color.png’ saved [45759/45759]\n",
            "\n"
          ],
          "name": "stdout"
        }
      ]
    },
    {
      "cell_type": "code",
      "metadata": {
        "id": "PN4r_XTbZeLr",
        "colab_type": "code",
        "colab": {
          "base_uri": "https://localhost:8080/",
          "height": 68
        },
        "outputId": "05d71ba1-2378-49b2-d762-fe981bf75d9d"
      },
      "source": [
        "!ls"
      ],
      "execution_count": 176,
      "outputs": [
        {
          "output_type": "stream",
          "text": [
            "my_first_file_output.txt  sample_data\n",
            "my_first_module.py\t  xRlRg7ERv2QuDe9ZV7q6_OFL_text-logo_color.png\n",
            "__pycache__\n"
          ],
          "name": "stdout"
        }
      ]
    },
    {
      "cell_type": "code",
      "metadata": {
        "id": "rjlUJ4qZZoRT",
        "colab_type": "code",
        "colab": {}
      },
      "source": [
        "!mv xRlRg7ERv2QuDe9ZV7q6_OFL_text-logo_color.png onefourthlabs.png"
      ],
      "execution_count": 0,
      "outputs": []
    },
    {
      "cell_type": "code",
      "metadata": {
        "id": "PcVQS1rYZxxS",
        "colab_type": "code",
        "colab": {
          "base_uri": "https://localhost:8080/",
          "height": 51
        },
        "outputId": "71120270-a4f5-4bd2-e663-d5cbc71fb99e"
      },
      "source": [
        "!ls"
      ],
      "execution_count": 178,
      "outputs": [
        {
          "output_type": "stream",
          "text": [
            "my_first_file_output.txt  onefourthlabs.png  sample_data\n",
            "my_first_module.py\t  __pycache__\n"
          ],
          "name": "stdout"
        }
      ]
    },
    {
      "cell_type": "code",
      "metadata": {
        "id": "AkZB9OU7Z1ii",
        "colab_type": "code",
        "colab": {}
      },
      "source": [
        "import matplotlib.image as npimg"
      ],
      "execution_count": 0,
      "outputs": []
    },
    {
      "cell_type": "code",
      "metadata": {
        "id": "kZxvB8aiZ90F",
        "colab_type": "code",
        "colab": {}
      },
      "source": [
        "img = npimg.imread('onefourthlabs.png')"
      ],
      "execution_count": 0,
      "outputs": []
    },
    {
      "cell_type": "code",
      "metadata": {
        "id": "STyuJORsaIb6",
        "colab_type": "code",
        "colab": {
          "base_uri": "https://localhost:8080/",
          "height": 850
        },
        "outputId": "bbda8da0-59ee-4989-d876-c495a328f278"
      },
      "source": [
        "print(img)"
      ],
      "execution_count": 181,
      "outputs": [
        {
          "output_type": "stream",
          "text": [
            "[[[0. 0. 0. 0.]\n",
            "  [0. 0. 0. 0.]\n",
            "  [0. 0. 0. 0.]\n",
            "  ...\n",
            "  [0. 0. 0. 0.]\n",
            "  [0. 0. 0. 0.]\n",
            "  [0. 0. 0. 0.]]\n",
            "\n",
            " [[0. 0. 0. 0.]\n",
            "  [0. 0. 0. 0.]\n",
            "  [0. 0. 0. 0.]\n",
            "  ...\n",
            "  [0. 0. 0. 0.]\n",
            "  [0. 0. 0. 0.]\n",
            "  [0. 0. 0. 0.]]\n",
            "\n",
            " [[0. 0. 0. 0.]\n",
            "  [0. 0. 0. 0.]\n",
            "  [0. 0. 0. 0.]\n",
            "  ...\n",
            "  [0. 0. 0. 0.]\n",
            "  [0. 0. 0. 0.]\n",
            "  [0. 0. 0. 0.]]\n",
            "\n",
            " ...\n",
            "\n",
            " [[0. 0. 0. 0.]\n",
            "  [0. 0. 0. 0.]\n",
            "  [0. 0. 0. 0.]\n",
            "  ...\n",
            "  [0. 0. 0. 0.]\n",
            "  [0. 0. 0. 0.]\n",
            "  [0. 0. 0. 0.]]\n",
            "\n",
            " [[0. 0. 0. 0.]\n",
            "  [0. 0. 0. 0.]\n",
            "  [0. 0. 0. 0.]\n",
            "  ...\n",
            "  [0. 0. 0. 0.]\n",
            "  [0. 0. 0. 0.]\n",
            "  [0. 0. 0. 0.]]\n",
            "\n",
            " [[0. 0. 0. 0.]\n",
            "  [0. 0. 0. 0.]\n",
            "  [0. 0. 0. 0.]\n",
            "  ...\n",
            "  [0. 0. 0. 0.]\n",
            "  [0. 0. 0. 0.]\n",
            "  [0. 0. 0. 0.]]]\n"
          ],
          "name": "stdout"
        }
      ]
    },
    {
      "cell_type": "code",
      "metadata": {
        "id": "faRMqduXaMDy",
        "colab_type": "code",
        "colab": {
          "base_uri": "https://localhost:8080/",
          "height": 152
        },
        "outputId": "58978942-e059-4cda-9fb0-9302608da888"
      },
      "source": [
        "imgplot = plt.imshow(img)"
      ],
      "execution_count": 182,
      "outputs": [
        {
          "output_type": "display_data",
          "data": {
            "image/png": "[encoded data removed]",
            "text/plain": [
              "<Figure size 432x288 with 1 Axes>"
            ]
          },
          "metadata": {
            "tags": []
          }
        }
      ]
    },
    {
      "cell_type": "code",
      "metadata": {
        "id": "ubkU1J7xaUtq",
        "colab_type": "code",
        "colab": {}
      },
      "source": [
        ""
      ],
      "execution_count": 0,
      "outputs": []
    }
  ]
}